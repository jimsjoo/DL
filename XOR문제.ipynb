{
  "nbformat": 4,
  "nbformat_minor": 0,
  "metadata": {
    "colab": {
      "name": "XOR문제.ipynb",
      "provenance": [],
      "collapsed_sections": [],
      "authorship_tag": "ABX9TyP0QXEnOLOO9er8+6QCJ4Nw",
      "include_colab_link": true
    },
    "kernelspec": {
      "name": "python3",
      "display_name": "Python 3"
    }
  },
  "cells": [
    {
      "cell_type": "markdown",
      "metadata": {
        "id": "view-in-github",
        "colab_type": "text"
      },
      "source": [
        "<a href=\"https://colab.research.google.com/github/jimsjoo/DL/blob/master/XOR%EB%AC%B8%EC%A0%9C.ipynb\" target=\"_parent\"><img src=\"https://colab.research.google.com/assets/colab-badge.svg\" alt=\"Open In Colab\"/></a>"
      ]
    },
    {
      "cell_type": "code",
      "metadata": {
        "id": "Yv4N4EpuEPYV",
        "colab_type": "code",
        "colab": {}
      },
      "source": [
        "import numpy as np"
      ],
      "execution_count": 0,
      "outputs": []
    },
    {
      "cell_type": "code",
      "metadata": {
        "id": "3LMUDIkfEVn6",
        "colab_type": "code",
        "colab": {}
      },
      "source": [
        "w11 = np.array([-2,-2])\n",
        "w12 = np.array([2,2])\n",
        "w2 = np.array([1,1])\n",
        "b1=3\n",
        "b2=-1\n",
        "b3=-1"
      ],
      "execution_count": 0,
      "outputs": []
    },
    {
      "cell_type": "code",
      "metadata": {
        "id": "yKqzTUa9EtFr",
        "colab_type": "code",
        "colab": {}
      },
      "source": [
        "def MLP(x,w,b):\n",
        "  y = np.sum(w*x)+b\n",
        "  if y<=0:\n",
        "    return 0\n",
        "  else:\n",
        "    return 1"
      ],
      "execution_count": 0,
      "outputs": []
    },
    {
      "cell_type": "code",
      "metadata": {
        "id": "7atGONpVFFTJ",
        "colab_type": "code",
        "colab": {}
      },
      "source": [
        "def AND(x1, x2):\n",
        "  return MLP(np.array([x1, x2]), w2, b3)"
      ],
      "execution_count": 0,
      "outputs": []
    },
    {
      "cell_type": "code",
      "metadata": {
        "id": "IuqkSRJTFVmO",
        "colab_type": "code",
        "colab": {}
      },
      "source": [
        "def OR(x1, x2):\n",
        "  return MLP(np.array([x1, x2]), w12,b2)"
      ],
      "execution_count": 0,
      "outputs": []
    },
    {
      "cell_type": "code",
      "metadata": {
        "id": "J9mC3DQVFj9L",
        "colab_type": "code",
        "colab": {}
      },
      "source": [
        "def NAND(x1, x2):\n",
        "  return MLP(np.array([x1, x2]), w11, b1)"
      ],
      "execution_count": 0,
      "outputs": []
    },
    {
      "cell_type": "code",
      "metadata": {
        "id": "Bt4gQz_4F4FL",
        "colab_type": "code",
        "colab": {}
      },
      "source": [
        "def XOR(x1, x2):\n",
        "  return AND(NAND(x1,x2), OR(x1,x2))"
      ],
      "execution_count": 0,
      "outputs": []
    },
    {
      "cell_type": "code",
      "metadata": {
        "id": "Vu07d4H9HKgh",
        "colab_type": "code",
        "colab": {
          "base_uri": "https://localhost:8080/",
          "height": 90
        },
        "outputId": "c61f36b0-9141-4562-e3d1-a112d482eecd"
      },
      "source": [
        "for x in [(0,0),(0,1),(1,0),(1,1)]:\n",
        "  y= AND(x[0], x[1])\n",
        "  print('입력값: '+str(x)+' 출력값:' + str(y))"
      ],
      "execution_count": 9,
      "outputs": [
        {
          "output_type": "stream",
          "text": [
            "입력값: (0, 0) 출력값:0\n",
            "입력값: (0, 1) 출력값:0\n",
            "입력값: (1, 0) 출력값:0\n",
            "입력값: (1, 1) 출력값:1\n"
          ],
          "name": "stdout"
        }
      ]
    },
    {
      "cell_type": "code",
      "metadata": {
        "id": "8rxYlNSdGDPE",
        "colab_type": "code",
        "colab": {
          "base_uri": "https://localhost:8080/",
          "height": 88
        },
        "outputId": "c690b5c6-86f7-408e-fe48-1e61f91ea449"
      },
      "source": [
        "for x in [(0,0),(0,1),(1,0),(1,1)]:\n",
        "  y= XOR(x[0], x[1])\n",
        "  print('입력값: '+str(x)+' 출력값:' + str(y))"
      ],
      "execution_count": 8,
      "outputs": [
        {
          "output_type": "stream",
          "text": [
            "입력값: (0, 0) 출력값:0\n",
            "입력값: (0, 1) 출력값:1\n",
            "입력값: (1, 0) 출력값:1\n",
            "입력값: (1, 1) 출력값:0\n"
          ],
          "name": "stdout"
        }
      ]
    }
  ]
}