{
  "nbformat": 4,
  "nbformat_minor": 0,
  "metadata": {
    "colab": {
      "name": "ML_실습.ipynb",
      "provenance": [],
      "collapsed_sections": [],
      "authorship_tag": "ABX9TyPPO13/qWBnmGd65lWOMP6A",
      "include_colab_link": true
    },
    "kernelspec": {
      "name": "python3",
      "display_name": "Python 3"
    }
  },
  "cells": [
    {
      "cell_type": "markdown",
      "metadata": {
        "id": "view-in-github",
        "colab_type": "text"
      },
      "source": [
        "<a href=\"https://colab.research.google.com/github/jimsjoo/DL/blob/master/ML_%EC%8B%A4%EC%8A%B50612.ipynb\" target=\"_parent\"><img src=\"https://colab.research.google.com/assets/colab-badge.svg\" alt=\"Open In Colab\"/></a>"
      ]
    },
    {
      "cell_type": "code",
      "metadata": {
        "id": "E4BwmufoEpSO",
        "colab_type": "code",
        "outputId": "4f33bc7c-4a43-400a-f7e1-fd42430194d8",
        "colab": {
          "base_uri": "https://localhost:8080/",
          "height": 68
        }
      },
      "source": [
        "import numpy as np\n",
        "import scipy\n",
        "import sklearn\n",
        " \n",
        "print('np.__version__'+np.__version__)\n",
        "print('sklearn.__version__'+sklearn.__version__)\n",
        "print('scipy.__version__'+scipy.__version__)"
      ],
      "execution_count": 0,
      "outputs": [
        {
          "output_type": "stream",
          "text": [
            "np.__version__1.18.4\n",
            "sklearn.__version__0.22.2.post1\n",
            "scipy.__version__1.4.1\n"
          ],
          "name": "stdout"
        }
      ]
    },
    {
      "cell_type": "markdown",
      "metadata": {
        "id": "8RiqX0ZxFeWR",
        "colab_type": "text"
      },
      "source": [
        "150개의 데이터와 4개의 속성인 꽃받침 길이, 꽃받침 너비, 꽃잎 길이, 꽃잎 너비가 있으며 각 속성의 최소값, 최대값, 평균 등을 볼 수 있다. 목적 속성은 0, 1, 2이며 iris.target_names으로 볼 수 있으며 Setosa, Versicolour, Virginica다 iris 객체는 data와 target 속성을 가지고 있으며 data는 iris 데이터의 속성들이며, target은 목적 속성이다. "
      ]
    },
    {
      "cell_type": "code",
      "metadata": {
        "id": "fOiJjcm-EfEN",
        "colab_type": "code",
        "colab": {}
      },
      "source": [
        "from sklearn import datasets\n",
        "\n",
        "iris = datasets.load_iris()\n",
        "print(iris.DESCR)\n",
        "print(iris.target_names)"
      ],
      "execution_count": 0,
      "outputs": []
    },
    {
      "cell_type": "code",
      "metadata": {
        "id": "46z335_kFg-Y",
        "colab_type": "code",
        "outputId": "1a6bf0a7-cbfb-4832-b35c-d24bc69d7e49",
        "colab": {
          "base_uri": "https://localhost:8080/",
          "height": 51
        }
      },
      "source": [
        "X, y = iris.data, iris.target\n",
        "print('Size of data : %s' % (X.shape, )) \n",
        "print('Target value : %s' % np.unique(y))"
      ],
      "execution_count": 0,
      "outputs": [
        {
          "output_type": "stream",
          "text": [
            "Size of data : (150, 4)\n",
            "Target value : [0 1 2]\n"
          ],
          "name": "stdout"
        }
      ]
    },
    {
      "cell_type": "code",
      "metadata": {
        "id": "9Rx2Yo_vFvmQ",
        "colab_type": "code",
        "outputId": "140177af-ca84-4dac-d691-45b99cc3205d",
        "colab": {
          "base_uri": "https://localhost:8080/",
          "height": 187
        }
      },
      "source": [
        "print(X[0:10, :])"
      ],
      "execution_count": 0,
      "outputs": [
        {
          "output_type": "stream",
          "text": [
            "[[5.1 3.5 1.4 0.2]\n",
            " [4.9 3.  1.4 0.2]\n",
            " [4.7 3.2 1.3 0.2]\n",
            " [4.6 3.1 1.5 0.2]\n",
            " [5.  3.6 1.4 0.2]\n",
            " [5.4 3.9 1.7 0.4]\n",
            " [4.6 3.4 1.4 0.3]\n",
            " [5.  3.4 1.5 0.2]\n",
            " [4.4 2.9 1.4 0.2]\n",
            " [4.9 3.1 1.5 0.1]]\n"
          ],
          "name": "stdout"
        }
      ]
    },
    {
      "cell_type": "markdown",
      "metadata": {
        "id": "P2GoWMzOKO7U",
        "colab_type": "text"
      },
      "source": [
        "#k-Fold Cross-Validation\n",
        "\n",
        "1. Shuffle the dataset randomly.\n",
        "1. Split the dataset into k groups\n",
        "1. For each unique group:\n",
        "  1. Take the group as a hold out or test data set\n",
        "  1. Take the remaining groups as a training data set\n",
        "  1. Fit a model on the training set and evaluate it on the test set\n",
        "  1. Retain the evaluation score and discard the model\n",
        "1. Summarize the skill of the model using the sample of model evaluation scores\n",
        "\n",
        "A poorly chosen value for k may result in a mis-representative idea of the skill of the model, such as a score with a high variance (that may change a lot based on the data used to fit the model), or a high bias, (such as an overestimate of the skill of the model).\n",
        "\n",
        "The value for k is chosen such that each train/test group of data samples is large enough to be statistically representative of the broader dataset."
      ]
    },
    {
      "cell_type": "code",
      "metadata": {
        "id": "6nIesngOKkG_",
        "colab_type": "code",
        "colab": {}
      },
      "source": [
        "# [0.1, 0.2, 0.3, 0.4, 0.5, 0.6]\n",
        "# Fold1: [0.5, 0.2]\n",
        "# Fold2: [0.1, 0.3]\n",
        "# Fold3: [0.4, 0.6]"
      ],
      "execution_count": 0,
      "outputs": []
    },
    {
      "cell_type": "markdown",
      "metadata": {
        "id": "IxvFaZirMMS1",
        "colab_type": "text"
      },
      "source": [
        "Three models are trained and evaluated with each fold <br>given a chance to be the held out test set.\n",
        "- Model1: Trained on Fold1 + Fold2, Tested on Fold3\n",
        "- Model2: Trained on Fold2 + Fold3, Tested on Fold1\n",
        "- Model3: Trained on Fold1 + Fold3, Tested on Fold2"
      ]
    },
    {
      "cell_type": "code",
      "metadata": {
        "id": "xAZS8IZ5LK0J",
        "colab_type": "code",
        "colab": {}
      },
      "source": [
        "# scikit-learn k-fold cross-validation\n",
        "from numpy import array\n",
        "from sklearn.model_selection import KFold"
      ],
      "execution_count": 0,
      "outputs": []
    },
    {
      "cell_type": "code",
      "metadata": {
        "id": "BrHM_sJtKrG9",
        "colab_type": "code",
        "colab": {}
      },
      "source": [
        "kfold = KFold(3, True, 3)"
      ],
      "execution_count": 0,
      "outputs": []
    },
    {
      "cell_type": "code",
      "metadata": {
        "id": "UQsTjlYPKNmd",
        "colab_type": "code",
        "colab": {}
      },
      "source": [
        "data = [33,56,76,32,87,99]"
      ],
      "execution_count": 0,
      "outputs": []
    },
    {
      "cell_type": "code",
      "metadata": {
        "id": "T5sf1dNJKzFx",
        "colab_type": "code",
        "outputId": "ec01365b-1ea5-4522-cba5-7a9aa852450b",
        "colab": {
          "base_uri": "https://localhost:8080/",
          "height": 70
        }
      },
      "source": [
        "# enumerate splits\n",
        "for train, test in kfold.split(data):\n",
        "\tprint('train: %s, test: %s' % (train, test))"
      ],
      "execution_count": 0,
      "outputs": [
        {
          "output_type": "stream",
          "text": [
            "train: [0 1 2 4], test: [3 5]\n",
            "train: [0 2 3 5], test: [1 4]\n",
            "train: [1 3 4 5], test: [0 2]\n"
          ],
          "name": "stdout"
        }
      ]
    },
    {
      "cell_type": "code",
      "metadata": {
        "id": "lgtex0YBTAU4",
        "colab_type": "code",
        "colab": {}
      },
      "source": [
        "import random \n",
        "\n",
        "# data = [33,56,76,32,87,99]\n",
        "\n",
        "# for i in range(10):\n",
        "#   random.shuffle(data)  \n",
        "#   print(data, data[0:2], data[2:])\n",
        "\n",
        "import copy \n",
        "\n",
        "data = [33,56,76,32,87,99]\n",
        "\n",
        "# def train_test(data):\n",
        "#   duplicate = copy.copy(data)  \n",
        "# # 함수사용목적은 반복을 줄이는 것이므로\n",
        "# # 이번 예에서 함수내 루프는 안바람직함(주관적 판단)\n",
        "#   for i in range(5):\n",
        "#     random.shuffle(duplicate)\n",
        "#     # return을 만나면 결과를 돌려주면서 함수 종료\n",
        "#     # 결과적으로 1번째 섞은 결과만 돌려줌\n",
        "#     return duplicate[0:2], duplicate[2:]  \n",
        "#   # 아래의 코드는 마지막 섞은 결과만 돌려줌      \n",
        "#   return duplicate[0:2], duplicate[2:]\n",
        "\n",
        "def train_test(data):\n",
        "  duplicate = copy.copy(data)    \n",
        "  random.shuffle(duplicate)  \n",
        "  return duplicate[0:2], duplicate[2:]\n",
        "  \n",
        "for i in range(5):\n",
        "  train, test = train_test(data)\n",
        "  print (data, train, test)"
      ],
      "execution_count": 0,
      "outputs": []
    },
    {
      "cell_type": "code",
      "metadata": {
        "id": "-nwLBdkVK2ye",
        "colab_type": "code",
        "colab": {}
      },
      "source": [
        "# scikit-learn k-fold cross-validation\n",
        "from numpy import array\n",
        "from sklearn.model_selection import KFold\n",
        "\n",
        "# data sample\n",
        "data = array([0.1, 0.2, 0.3, 0.4, 0.5, 0.6])\n",
        "\n",
        "# prepare cross validation\n",
        "kfold = KFold(3, True, 1)\n",
        "\n",
        "# enumerate splits\n",
        "for train, test in kfold.split(data):\n",
        "\tprint('train: %s, test: %s' % (data[train], data[test]))"
      ],
      "execution_count": 0,
      "outputs": []
    },
    {
      "cell_type": "markdown",
      "metadata": {
        "id": "eSR8K1NfGCQA",
        "colab_type": "text"
      },
      "source": [
        "1e-7\n",
        "=1<sub>-10000000</sub>\n"
      ]
    },
    {
      "cell_type": "code",
      "metadata": {
        "id": "3_5wn9e_4j7E",
        "colab_type": "code",
        "outputId": "6523f53c-30e1-407b-8b09-f066967dbca4",
        "colab": {
          "base_uri": "https://localhost:8080/",
          "height": 70
        }
      },
      "source": [
        "import math\n",
        "\n",
        "def entropy_cal(array):\n",
        "    total_entropy = 0\n",
        "    for i in array:\n",
        "        total_entropy += -i * math.log(i + 1e-7, 2)\n",
        "    return total_entropy\n",
        "\n",
        "# +1e-7 = 1*10^-7\n",
        "probabilities = [0.5, 0.5]\n",
        "entropy = entropy_cal(probabilities)\n",
        "print(entropy)\n",
        "\n",
        "probabilities = [1.0, 0.0]\n",
        "entropy = entropy_cal(probabilities)\n",
        "print(entropy)\n",
        "\n",
        "probabilities = [0.9, 0.1]\n",
        "entropy = entropy_cal(probabilities)\n",
        "print(entropy)"
      ],
      "execution_count": 0,
      "outputs": [
        {
          "output_type": "stream",
          "text": [
            "0.9999997114610208\n",
            "-1.4426949695965583e-07\n",
            "0.4689953050503533\n"
          ],
          "name": "stdout"
        }
      ]
    },
    {
      "cell_type": "code",
      "metadata": {
        "id": "4FXqj7YWsMa7",
        "colab_type": "code",
        "outputId": "22fa1f57-35eb-451d-8d19-25be21c1c4f0",
        "colab": {
          "base_uri": "https://localhost:8080/",
          "height": 51
        }
      },
      "source": [
        "display(math.log(0+1e-7,2), math.log2(0+1e-7))"
      ],
      "execution_count": 0,
      "outputs": [
        {
          "output_type": "display_data",
          "data": {
            "text/plain": [
              "-23.25349666421154"
            ]
          },
          "metadata": {
            "tags": []
          }
        },
        {
          "output_type": "display_data",
          "data": {
            "text/plain": [
              "-23.253496664211536"
            ]
          },
          "metadata": {
            "tags": []
          }
        }
      ]
    },
    {
      "cell_type": "code",
      "metadata": {
        "id": "celIlXp0PtNV",
        "colab_type": "code",
        "outputId": "1705fba2-890e-463a-9388-80e6605f04c3",
        "colab": {
          "base_uri": "https://localhost:8080/",
          "height": 51
        }
      },
      "source": [
        "# 로그함수는 밑이 자연상수 e, 혹은 10, 또는 2 이냐에 따라서 np.log(x), np.log10(x), np.log2(x) 를 구분해서 사용\n",
        "import numpy as np\n",
        "\n",
        "print(np.log(0+1e-7)) \n",
        "print(np.log2(0+1e-7))"
      ],
      "execution_count": 0,
      "outputs": [
        {
          "output_type": "stream",
          "text": [
            "-16.11809565095832\n",
            "-23.253496664211536\n"
          ],
          "name": "stdout"
        }
      ]
    },
    {
      "cell_type": "code",
      "metadata": {
        "id": "r5MiCvzplETm",
        "colab_type": "code",
        "outputId": "6c6d65d1-a582-4f47-becc-b1da377ce2cd",
        "colab": {
          "base_uri": "https://localhost:8080/",
          "height": 34
        }
      },
      "source": [
        "import math\n",
        "\n",
        "distance= ( [5, 4, 3], [1, 7, 9] )\n",
        "dst1 = distance[0]\n",
        "dst2 = distance[1]\n",
        "\n",
        "def euc_dst(dst1,dst2):  \n",
        "  # sum = 0.0\n",
        "  # for d1, d2 in zip(dst1,dst2):\n",
        "  #   sum+=(d1-d2)**2\n",
        "  # return sum**0.5\n",
        "  # return math.sqrt(sum)\n",
        "  return math.sqrt(sum([(d1-d2)**2 for d1, d2 in zip(dst1,dst2)]))\n",
        "# math.sqrt(\n",
        "#     sum(\n",
        "#         [\n",
        "#          (d1-d2)**2 \n",
        "#             for d1, d2 \n",
        "#                 in zip(dst1,dst2)\n",
        "#          ]\n",
        "#         )\n",
        "#     )\n",
        "\n",
        "print(euc_dst(dst1,dst2))"
      ],
      "execution_count": 0,
      "outputs": [
        {
          "output_type": "stream",
          "text": [
            "7.810249675906654\n"
          ],
          "name": "stdout"
        }
      ]
    },
    {
      "cell_type": "code",
      "metadata": {
        "id": "CIrlGYUEmkVT",
        "colab_type": "code",
        "outputId": "70868744-2161-4c82-96e2-bdc904a969d4",
        "colab": {
          "base_uri": "https://localhost:8080/",
          "height": 104
        }
      },
      "source": [
        "import numpy as np\n",
        "\n",
        "distance= ( [5, 4, 3], [1, 7, 9] )\n",
        "\n",
        "dst1=np.array(distance[0])\n",
        "dst2=np.array(distance[1])\n",
        "\n",
        "print(dst1-dst2)\n",
        "print((dst1-dst2)**2)\n",
        "print(sum((dst1-dst2)**2))\n",
        "print(math.sqrt(sum((dst1-dst2)**2)))\n",
        "\n",
        "# numpy를 이용한 계산 예\n",
        "def euc_distance(d):\n",
        "  # np.array로 데이터 변환\n",
        "  dst1=np.array(d[0])\n",
        "  dst2=np.array(d[1])\n",
        "  # 브로드캐스팅으로 한번에 차이를 계산하고\n",
        "  # 차이의 제곱을 만들어 합산을 한다. \n",
        "  return math.sqrt(sum((dst1-dst2)**2)) \n",
        "\n",
        "print(euc_distance(distance))   "
      ],
      "execution_count": 0,
      "outputs": [
        {
          "output_type": "stream",
          "text": [
            "[ 4 -3 -6]\n",
            "[16  9 36]\n",
            "61\n",
            "7.810249675906654\n",
            "7.810249675906654\n"
          ],
          "name": "stdout"
        }
      ]
    },
    {
      "cell_type": "code",
      "metadata": {
        "id": "O2_hPfOgmUyW",
        "colab_type": "code",
        "outputId": "acbdc2b6-8a7a-490c-c62e-8868e13bd751",
        "colab": {
          "base_uri": "https://localhost:8080/",
          "height": 34
        }
      },
      "source": [
        "def euclidean_distance(pt1, pt2):\n",
        "  distance = 0\n",
        "  for i in range(len(pt1)):\n",
        "    distance += (pt1[i] - pt2[i]) ** 2\n",
        "  return distance ** 0.5\n",
        "\n",
        "print(euclidean_distance([5, 4, 3], [1, 7, 9]))"
      ],
      "execution_count": 0,
      "outputs": [
        {
          "output_type": "stream",
          "text": [
            "7.810249675906654\n"
          ],
          "name": "stdout"
        }
      ]
    },
    {
      "cell_type": "code",
      "metadata": {
        "id": "5vJva99g83_T",
        "colab_type": "code",
        "outputId": "263ae37f-9361-4305-b0a8-1c335f96a553",
        "colab": {
          "base_uri": "https://localhost:8080/",
          "height": 34
        }
      },
      "source": [
        "def man_dst(dst):\n",
        "  dst1=dst[0]\n",
        "  dst2=dst[1]\n",
        "  dst_sum = 0.0\n",
        "  for d1,d2 in zip(dst1,dst2):\n",
        "    dst_sum += abs(d1-d2)\n",
        "  return dst_sum\n",
        "  \n",
        "\n",
        "d = ( [5, 4, 3], [1, 7, 9])  \n",
        "print(man_dst(d))"
      ],
      "execution_count": 0,
      "outputs": [
        {
          "output_type": "stream",
          "text": [
            "13.0\n"
          ],
          "name": "stdout"
        }
      ]
    },
    {
      "cell_type": "code",
      "metadata": {
        "id": "cpfoQuqfmYB1",
        "colab_type": "code",
        "outputId": "39760d8e-394b-4b77-fc9f-a8d54e7256f6",
        "colab": {
          "base_uri": "https://localhost:8080/",
          "height": 34
        }
      },
      "source": [
        "def manhattan_distance(pt1, pt2):\n",
        "  distance = 0\n",
        "  for i in range(len(pt1)):\n",
        "    distance += abs(pt1[i] - pt2[i])\n",
        "  return distance\n",
        "\n",
        "print(manhattan_distance([5, 4, 3], [1, 7, 9]))"
      ],
      "execution_count": 0,
      "outputs": [
        {
          "output_type": "stream",
          "text": [
            "13\n"
          ],
          "name": "stdout"
        }
      ]
    },
    {
      "cell_type": "code",
      "metadata": {
        "id": "nGRCe5dCnphz",
        "colab_type": "code",
        "outputId": "6bc8aa7c-a87b-4c0e-d163-1789d5bd949f",
        "colab": {
          "base_uri": "https://localhost:8080/",
          "height": 34
        }
      },
      "source": [
        "def hamming_distance(pt1, pt2):\n",
        "  distance = 0\n",
        "  for i in range(len(pt1)):\n",
        "    if pt1[i] != pt2[i]:\n",
        "      distance += 1\n",
        "  return distance\n",
        "\n",
        "print(hamming_distance([5, 4, 3], [1, 7, 9]))"
      ],
      "execution_count": 0,
      "outputs": [
        {
          "output_type": "stream",
          "text": [
            "3\n"
          ],
          "name": "stdout"
        }
      ]
    },
    {
      "cell_type": "code",
      "metadata": {
        "id": "Dw1Zfl8UCgjS",
        "colab_type": "code",
        "outputId": "fefbce87-2b1c-41f9-b208-0e4d17f9cdf2",
        "colab": {
          "base_uri": "https://localhost:8080/",
          "height": 34
        }
      },
      "source": [
        "def ham_dst(p1,p2):\n",
        "  d1=np.array(p1)\n",
        "  d2=np.array(p2)\n",
        "  return sum(d1!=d2)\n",
        "\n",
        "print(ham_dst([5, 4, 3], [1, 7, 9]))"
      ],
      "execution_count": 0,
      "outputs": [
        {
          "output_type": "stream",
          "text": [
            "3\n"
          ],
          "name": "stdout"
        }
      ]
    },
    {
      "cell_type": "code",
      "metadata": {
        "id": "hTPtHatGDEpj",
        "colab_type": "code",
        "outputId": "20c1b5a0-9966-4110-96b1-0a7543e12f33",
        "colab": {
          "base_uri": "https://localhost:8080/",
          "height": 34
        }
      },
      "source": [
        "d1 = np.array([5, 4, 3])\n",
        "d2 = np.array([1, 7, 9])\n",
        "display(d1 != d2)\n",
        "\n",
        "# false = 0\n",
        "# 0이 아닌 것은 모두 true\n",
        "\n",
        "# True + True  => 2\n",
        "# True * False => 0\n",
        "# 즉 True = 1, False = 0  "
      ],
      "execution_count": 0,
      "outputs": [
        {
          "output_type": "display_data",
          "data": {
            "text/plain": [
              "array([ True,  True,  True])"
            ]
          },
          "metadata": {
            "tags": []
          }
        }
      ]
    },
    {
      "cell_type": "code",
      "metadata": {
        "id": "wZscngEHntL1",
        "colab_type": "code",
        "outputId": "dea3f624-175b-4647-fb43-775121e8ac43",
        "colab": {
          "base_uri": "https://localhost:8080/",
          "height": 68
        }
      },
      "source": [
        "from scipy.spatial import distance\n",
        "\n",
        "print(distance.euclidean([1, 2], [4, 0]))\n",
        "print(distance.cityblock([1, 2], [4, 0]))\n",
        "print(distance.hamming([5, 4, 9], [1, 7, 9]))"
      ],
      "execution_count": 0,
      "outputs": [
        {
          "output_type": "stream",
          "text": [
            "3.605551275463989\n",
            "5\n",
            "0.6666666666666666\n"
          ],
          "name": "stdout"
        }
      ]
    },
    {
      "cell_type": "code",
      "metadata": {
        "id": "kMyGIYHaq_hx",
        "colab_type": "code",
        "colab": {
          "base_uri": "https://localhost:8080/",
          "height": 35
        },
        "outputId": "63d768a1-e7b7-4244-c18f-bfcf4e1a6073"
      },
      "source": [
        "def min_max_normalize(lst):\n",
        "    normalized = []    \n",
        "    for value in lst:\n",
        "        normalized_num = (value - min(lst)) / (max(lst) - min(lst))\n",
        "        normalized.append(normalized_num)\n",
        "    \n",
        "    return normalized\n",
        "\n",
        " \n",
        "lst = [1000, 765, 800]\n",
        "print(min_max_normalize(lst))"
      ],
      "execution_count": 60,
      "outputs": [
        {
          "output_type": "stream",
          "text": [
            "[1.0, 0.0, 0.14893617021276595]\n"
          ],
          "name": "stdout"
        }
      ]
    },
    {
      "cell_type": "code",
      "metadata": {
        "id": "3z9pYJomsaUq",
        "colab_type": "code",
        "colab": {
          "base_uri": "https://localhost:8080/",
          "height": 52
        },
        "outputId": "8a32dc94-76ae-493c-a547-985dc18bda3d"
      },
      "source": [
        "def z_score_normalize(lst):\n",
        "    normalized = []\n",
        "\n",
        "    for value in lst:\n",
        "        normalized_num = (value - np.mean(lst)) / np.std(lst)\n",
        "        normalized.append(normalized_num)\n",
        "    return normalized\n",
        "\n",
        "lst = [1000, 765, 800] \n",
        "print(z_score_normalize(lst))\n",
        "\n",
        "# NUMPY 브로드캐스팅을 사용한 정규화, 수식과 가장 비슷한 형태\n",
        "print((np.array(lst)-np.mean(lst))/np.std(lst))\n"
      ],
      "execution_count": 64,
      "outputs": [
        {
          "output_type": "stream",
          "text": [
            "[1.4006774632809225, -0.869386011691607, -0.5312914515893153]\n",
            "[ 1.40067746 -0.86938601 -0.53129145]\n"
          ],
          "name": "stdout"
        }
      ]
    },
    {
      "cell_type": "code",
      "metadata": {
        "id": "MD_NGrpx2c3D",
        "colab_type": "code",
        "colab": {
          "base_uri": "https://localhost:8080/",
          "height": 70
        },
        "outputId": "102a0bb1-315e-475a-eba6-048264bfc1af"
      },
      "source": [
        "import numpy as np\n",
        "\n",
        "data = np.array([\n",
        "    [1000, 10, 0.5],\n",
        "    [765, 5, 0.35],\n",
        "    [800, 7, 0.09], ])\n",
        "data"
      ],
      "execution_count": 61,
      "outputs": [
        {
          "output_type": "execute_result",
          "data": {
            "text/plain": [
              "array([[1.00e+03, 1.00e+01, 5.00e-01],\n",
              "       [7.65e+02, 5.00e+00, 3.50e-01],\n",
              "       [8.00e+02, 7.00e+00, 9.00e-02]])"
            ]
          },
          "metadata": {
            "tags": []
          },
          "execution_count": 61
        }
      ]
    },
    {
      "cell_type": "code",
      "metadata": {
        "id": "v_qdQGsY76NE",
        "colab_type": "code",
        "outputId": "0238e53a-9657-41a1-ca19-a26b3e0ff529",
        "colab": {
          "base_uri": "https://localhost:8080/",
          "height": 68
        }
      },
      "source": [
        "for d in np.transpose(data):\n",
        "  print(min_max_normalize(d))  "
      ],
      "execution_count": 0,
      "outputs": [
        {
          "output_type": "stream",
          "text": [
            "[1.0, 0.0, 0.14893617021276595]\n",
            "[1.0, 0.0, 0.4]\n",
            "[1.0, 0.6341463414634146, 0.0]\n"
          ],
          "name": "stdout"
        }
      ]
    },
    {
      "cell_type": "code",
      "metadata": {
        "id": "0uys6F4v90mZ",
        "colab_type": "code",
        "outputId": "c42309b0-9fec-4129-85ae-8020529e26d9",
        "colab": {
          "base_uri": "https://localhost:8080/",
          "height": 68
        }
      },
      "source": [
        "for d in np.transpose(data):\n",
        "  print(z_score_normalize(d))"
      ],
      "execution_count": 0,
      "outputs": [
        {
          "output_type": "stream",
          "text": [
            "[1.4006774632809225, -0.869386011691607, -0.5312914515893153]\n",
            "[1.2977713690461004, -1.1355499479153375, -0.16222142113076238]\n",
            "[1.1020718464618129, 0.21647839841214184, -1.3185502448739541]\n"
          ],
          "name": "stdout"
        }
      ]
    },
    {
      "cell_type": "code",
      "metadata": {
        "id": "riWEaRjK84QZ",
        "colab_type": "code",
        "outputId": "aa9c001d-d09b-4c43-86d0-12c629c283e2",
        "colab": {
          "base_uri": "https://localhost:8080/",
          "height": 68
        }
      },
      "source": [
        "from sklearn.preprocessing import MinMaxScaler\n",
        "\n",
        "scaler = MinMaxScaler()\n",
        "print(scaler.fit_transform(data))"
      ],
      "execution_count": 0,
      "outputs": [
        {
          "output_type": "stream",
          "text": [
            "[[1.         1.         1.        ]\n",
            " [0.         0.         0.63414634]\n",
            " [0.14893617 0.4        0.        ]]\n"
          ],
          "name": "stdout"
        }
      ]
    },
    {
      "cell_type": "code",
      "metadata": {
        "id": "YnVOdaDa9e1L",
        "colab_type": "code",
        "outputId": "ee5fdfac-78c9-4148-a140-2df0f3fdfd57",
        "colab": {
          "base_uri": "https://localhost:8080/",
          "height": 68
        }
      },
      "source": [
        "from sklearn.preprocessing import StandardScaler\n",
        "\n",
        "standardScaler = StandardScaler()\n",
        "print(standardScaler.fit_transform(data))"
      ],
      "execution_count": 0,
      "outputs": [
        {
          "output_type": "stream",
          "text": [
            "[[ 1.40067746  1.29777137  1.10207185]\n",
            " [-0.86938601 -1.13554995  0.2164784 ]\n",
            " [-0.53129145 -0.16222142 -1.31855024]]\n"
          ],
          "name": "stdout"
        }
      ]
    },
    {
      "cell_type": "code",
      "metadata": {
        "id": "4KoUNFNZzxn4",
        "colab_type": "code",
        "outputId": "e98af981-51fe-4bbb-bb62-ef168cde87ea",
        "colab": {
          "base_uri": "https://localhost:8080/",
          "height": 68
        }
      },
      "source": [
        "from sklearn.preprocessing import normalize\n",
        "\n",
        "data = normalize(data, axis=0, norm='max')\n",
        "print(data)"
      ],
      "execution_count": 0,
      "outputs": [
        {
          "output_type": "stream",
          "text": [
            "[[1.    1.    1.   ]\n",
            " [0.765 0.5   0.7  ]\n",
            " [0.8   0.7   0.18 ]]\n"
          ],
          "name": "stdout"
        }
      ]
    },
    {
      "cell_type": "markdown",
      "metadata": {
        "id": "hjceOfRM-KZ5",
        "colab_type": "text"
      },
      "source": [
        "# K-최근접 이웃(K-Nearest Neighbors)을 활용한 분류"
      ]
    },
    {
      "cell_type": "code",
      "metadata": {
        "id": "U4oqxMRi_iqt",
        "colab_type": "code",
        "colab": {}
      },
      "source": [
        "# Test distance function\n",
        "# [x, y, type]\n",
        "dataset = [[2.7810836,2.550537003,0],\n",
        "\t[1.465489372,2.362125076,0],\n",
        "\t[3.396561688,4.400293529,0],\n",
        "\t[1.38807019,1.850220317,0],\n",
        "\t[3.06407232,3.005305973,0],\n",
        "\t[7.627531214,2.759262235,1],\n",
        "\t[5.332441248,2.088626775,1],\n",
        "\t[6.922596716,1.77106367,1],\n",
        "\t[8.675418651,-0.242068655,1],\n",
        "\t[7.673756466,3.508563011,1]]"
      ],
      "execution_count": 0,
      "outputs": []
    },
    {
      "cell_type": "markdown",
      "metadata": {
        "id": "2boIu_-FDg5l",
        "colab_type": "text"
      },
      "source": [
        "### 실습1"
      ]
    },
    {
      "cell_type": "code",
      "metadata": {
        "id": "PeGdtc11_vEH",
        "colab_type": "code",
        "colab": {}
      },
      "source": [
        "from math import sqrt\n",
        "\n",
        "# calculate the Euclidean distance between two vectors\n",
        "# row = [x, y, type]\n",
        "def euclidean_distance(row1, row2):\n",
        "\tdistance = 0.0\n",
        "\tfor i in range(len(row1)):\n",
        "\t\tdistance += (row1[i] - row2[i])**2\n",
        "\treturn sqrt(distance)"
      ],
      "execution_count": 0,
      "outputs": []
    },
    {
      "cell_type": "code",
      "metadata": {
        "id": "FFYd-Waf_7bI",
        "colab_type": "code",
        "outputId": "ab9d1b8c-2af4-45ae-ed40-5b82cc2c9e07",
        "colab": {
          "base_uri": "https://localhost:8080/",
          "height": 194
        }
      },
      "source": [
        "row0 = [3,3]\n",
        "\n",
        "for row in dataset:\n",
        "  # print(row)\n",
        "\tdistance = euclidean_distance(row0, row)\n",
        "\tprint(distance)"
      ],
      "execution_count": 72,
      "outputs": [
        {
          "output_type": "stream",
          "text": [
            "0.4999413724239892\n",
            "1.6618084384528082\n",
            "1.455363576481383\n",
            "1.9799775331569336\n",
            "0.06429164440002412\n",
            "4.633788925710958\n",
            "2.5041731830324157\n",
            "4.110602084800699\n",
            "6.536159883896061\n",
            "4.701344046082375\n"
          ],
          "name": "stdout"
        }
      ]
    },
    {
      "cell_type": "markdown",
      "metadata": {
        "id": "x6H9Y5e5Dkf_",
        "colab_type": "text"
      },
      "source": [
        "### 실습2"
      ]
    },
    {
      "cell_type": "code",
      "metadata": {
        "id": "n46OAsEMARJP",
        "colab_type": "code",
        "colab": {}
      },
      "source": [
        "# Locate the most similar neighbors\n",
        "def get_neighbors(train, test_row, num_neighbors):\n",
        "\tdistances = list()\n",
        "\tfor train_row in train:\n",
        "\t\tdist = euclidean_distance(test_row, train_row)\t\n",
        "\t\tdistances.append((train_row, dist))\n",
        "\tdistances.sort(key=lambda tup: tup[1])\n",
        "\tneighbors = list()\n",
        "\tfor i in range(num_neighbors):\n",
        "\t\t# print(distances[i])\n",
        "\t\tneighbors.append(distances[i][0])\n",
        "\treturn neighbors"
      ],
      "execution_count": 0,
      "outputs": []
    },
    {
      "cell_type": "code",
      "metadata": {
        "id": "YqsvJ9wdATbb",
        "colab_type": "code",
        "outputId": "5b51b4ca-04ea-44eb-c970-c43e3d39ab33",
        "colab": {
          "base_uri": "https://localhost:8080/",
          "height": 71
        }
      },
      "source": [
        "neighbors = get_neighbors(dataset, row0, 3)\n",
        "for neighbor in neighbors:\n",
        "\tprint(neighbor)"
      ],
      "execution_count": 74,
      "outputs": [
        {
          "output_type": "stream",
          "text": [
            "[3.06407232, 3.005305973, 0]\n",
            "[2.7810836, 2.550537003, 0]\n",
            "[3.396561688, 4.400293529, 0]\n"
          ],
          "name": "stdout"
        }
      ]
    },
    {
      "cell_type": "markdown",
      "metadata": {
        "id": "X_yI6veDEuaF",
        "colab_type": "text"
      },
      "source": [
        "### 실습3"
      ]
    },
    {
      "cell_type": "code",
      "metadata": {
        "id": "DN7u9IqZAY9P",
        "colab_type": "code",
        "colab": {}
      },
      "source": [
        "# Make a classification prediction with neighbors\n",
        "def predict_classification(train, test_row, num_neighbors):\n",
        "\tneighbors = get_neighbors(train, test_row, num_neighbors)\n",
        "\tfor neighbor in neighbors:\n",
        "\t\tprint(neighbor)\n",
        "\t\tprint(neighbor[-1])\t\t\n",
        "\toutput_values = [row[-1] for row in neighbors]\n",
        "\tprint('output_values')\n",
        "\tprint(output_values)\n",
        "\tprediction = max(set(output_values), key=output_values.count)\n",
        "\treturn prediction,output_values"
      ],
      "execution_count": 0,
      "outputs": []
    },
    {
      "cell_type": "code",
      "metadata": {
        "id": "ddMsC_kSAjzd",
        "colab_type": "code",
        "outputId": "add81e41-0d47-4507-97cf-7f10b9b0a633",
        "colab": {
          "base_uri": "https://localhost:8080/",
          "height": 153
        }
      },
      "source": [
        "row0 = [3,3,0]\n",
        "row0 = [6,5,0]\n",
        "predictio,output_values = predict_classification(dataset, row0, 3)\n",
        "# print('Expected %d, Got %d.' % (row0[-1], prediction))"
      ],
      "execution_count": 0,
      "outputs": [
        {
          "output_type": "stream",
          "text": [
            "[7.673756466, 3.508563011, 1]\n",
            "1\n",
            "[3.396561688, 4.400293529, 0]\n",
            "0\n",
            "[7.627531214, 2.759262235, 1]\n",
            "1\n",
            "output_values\n",
            "[1, 0, 1]\n"
          ],
          "name": "stdout"
        }
      ]
    },
    {
      "cell_type": "code",
      "metadata": {
        "id": "_CTQw_1RNSyD",
        "colab_type": "code",
        "outputId": "17cad75c-0efe-4077-b04c-0c3adae8122c",
        "colab": {
          "base_uri": "https://localhost:8080/",
          "height": 34
        }
      },
      "source": [
        "output_values\n",
        "# max(set(output_values), key=output_values.count)"
      ],
      "execution_count": 0,
      "outputs": [
        {
          "output_type": "execute_result",
          "data": {
            "text/plain": [
              "[1, 0, 1]"
            ]
          },
          "metadata": {
            "tags": []
          },
          "execution_count": 58
        }
      ]
    },
    {
      "cell_type": "code",
      "metadata": {
        "id": "gnCltpyFAvrl",
        "colab_type": "code",
        "outputId": "e8eefdaa-c613-40b6-e04a-147989c0d3a2",
        "colab": {
          "base_uri": "https://localhost:8080/",
          "height": 85
        }
      },
      "source": [
        "row0 = [6,5,0]\n",
        "prediction = predict_classification(dataset, row0, 3)\n",
        "print('Expected %d, Got %d.' % (row0[-1], prediction))"
      ],
      "execution_count": 0,
      "outputs": [
        {
          "output_type": "stream",
          "text": [
            "[7.673756466, 3.508563011, 1]\n",
            "[3.396561688, 4.400293529, 0]\n",
            "[7.627531214, 2.759262235, 1]\n",
            "Expected 0, Got 1.\n"
          ],
          "name": "stdout"
        }
      ]
    },
    {
      "cell_type": "markdown",
      "metadata": {
        "id": "RqzpBjSL_kO5",
        "colab_type": "text"
      },
      "source": [
        "## KNeighborsClassifier 이용한 kNN"
      ]
    },
    {
      "cell_type": "code",
      "metadata": {
        "id": "UYo14JJLyB7m",
        "colab_type": "code",
        "colab": {}
      },
      "source": [
        "from sklearn.neighbors import KNeighborsClassifier"
      ],
      "execution_count": 0,
      "outputs": []
    },
    {
      "cell_type": "code",
      "metadata": {
        "id": "s7s-VnBAyDVn",
        "colab_type": "code",
        "colab": {}
      },
      "source": [
        "# 이제 KNeighborsClassifier 모델을 생성해야 하는데, 이 때 n_neighbors로 k를 정해줘야 한다. \n",
        "# (그리고 x 데이터를 분류를 할 때 k개의 이웃 중 거리가 가까운 이웃의 영향을 더 많이 받도록 \n",
        "# 가중치를 설정하려면 weights = \"distance\"를 지정해줄 수 있는데 여기서는 일단 생략)\n",
        "classifier = KNeighborsClassifier(n_neighbors = 3)"
      ],
      "execution_count": 0,
      "outputs": []
    },
    {
      "cell_type": "code",
      "metadata": {
        "id": "2A4UZh6vyFue",
        "colab_type": "code",
        "outputId": "167dfcc2-1722-4031-bc36-457fe9266241",
        "colab": {
          "base_uri": "https://localhost:8080/",
          "height": 68
        }
      },
      "source": [
        "# 그 다음 데이터를 .fit() 시켜준다. x 데이터는 여러 개의 차원으로 이루어진 배열(점들의 집합)이 되고,\n",
        "# y 데이터는 레이블(각 점들의 분류 결과)가 된다. 이 예제에서는 0 아니면 1로 분류되는 거다.\n",
        "training_points = [\n",
        "  [0.5, 0.2, 0.1],\n",
        "  [0.9, 0.7, 0.3],\n",
        "  [0.4, 0.5, 0.7]\n",
        "]\n",
        "\n",
        "training_labels = [0, 1, 1]\n",
        "\n",
        "classifier.fit(training_points, training_labels)"
      ],
      "execution_count": 0,
      "outputs": [
        {
          "output_type": "execute_result",
          "data": {
            "text/plain": [
              "KNeighborsClassifier(algorithm='auto', leaf_size=30, metric='minkowski',\n",
              "                     metric_params=None, n_jobs=None, n_neighbors=3, p=2,\n",
              "                     weights='uniform')"
            ]
          },
          "metadata": {
            "tags": []
          },
          "execution_count": 20
        }
      ]
    },
    {
      "cell_type": "code",
      "metadata": {
        "id": "clZYRM8UyIVm",
        "colab_type": "code",
        "colab": {}
      },
      "source": [
        "unknown_points = [\n",
        "  [0.2, 0.1, 0.7],\n",
        "  [0.4, 0.7, 0.6],\n",
        "  [0.5, 0.8, 0.1]\n",
        "]\n",
        "\n",
        "guesses = classifier.predict(unknown_points)"
      ],
      "execution_count": 0,
      "outputs": []
    },
    {
      "cell_type": "code",
      "metadata": {
        "id": "frF3o56byLq6",
        "colab_type": "code",
        "outputId": "c4ca41c1-1111-48b2-b590-a25039ec6319",
        "colab": {
          "base_uri": "https://localhost:8080/",
          "height": 34
        }
      },
      "source": [
        "guesses"
      ],
      "execution_count": 0,
      "outputs": [
        {
          "output_type": "execute_result",
          "data": {
            "text/plain": [
              "array([1, 1, 1])"
            ]
          },
          "metadata": {
            "tags": []
          },
          "execution_count": 22
        }
      ]
    },
    {
      "cell_type": "code",
      "metadata": {
        "id": "Q-iP_VLYyNp-",
        "colab_type": "code",
        "colab": {}
      },
      "source": [
        "from sklearn.datasets import load_breast_cancer\n",
        "# sklearn에서 제공하는 예시 데이터 중 유방암 데이터를 사용\n",
        "breast_cancer_data = load_breast_cancer()"
      ],
      "execution_count": 0,
      "outputs": []
    },
    {
      "cell_type": "code",
      "metadata": {
        "id": "BSbhnf4a0Vsg",
        "colab_type": "code",
        "colab": {}
      },
      "source": [
        "import pandas as pd\n",
        "#데이터 확인하기\n",
        "df_data = pd.DataFrame(breast_cancer_data.data)\n",
        "df_labels = pd.DataFrame(breast_cancer_data.target)"
      ],
      "execution_count": 0,
      "outputs": []
    },
    {
      "cell_type": "code",
      "metadata": {
        "id": "8FWHV96u0cVj",
        "colab_type": "code",
        "outputId": "f2a2ab35-dfe6-4270-faaa-811f420689d4",
        "colab": {
          "base_uri": "https://localhost:8080/",
          "height": 204
        }
      },
      "source": [
        "df_labels.head()"
      ],
      "execution_count": 0,
      "outputs": [
        {
          "output_type": "execute_result",
          "data": {
            "text/html": [
              "<div>\n",
              "<style scoped>\n",
              "    .dataframe tbody tr th:only-of-type {\n",
              "        vertical-align: middle;\n",
              "    }\n",
              "\n",
              "    .dataframe tbody tr th {\n",
              "        vertical-align: top;\n",
              "    }\n",
              "\n",
              "    .dataframe thead th {\n",
              "        text-align: right;\n",
              "    }\n",
              "</style>\n",
              "<table border=\"1\" class=\"dataframe\">\n",
              "  <thead>\n",
              "    <tr style=\"text-align: right;\">\n",
              "      <th></th>\n",
              "      <th>0</th>\n",
              "    </tr>\n",
              "  </thead>\n",
              "  <tbody>\n",
              "    <tr>\n",
              "      <th>0</th>\n",
              "      <td>0</td>\n",
              "    </tr>\n",
              "    <tr>\n",
              "      <th>1</th>\n",
              "      <td>0</td>\n",
              "    </tr>\n",
              "    <tr>\n",
              "      <th>2</th>\n",
              "      <td>0</td>\n",
              "    </tr>\n",
              "    <tr>\n",
              "      <th>3</th>\n",
              "      <td>0</td>\n",
              "    </tr>\n",
              "    <tr>\n",
              "      <th>4</th>\n",
              "      <td>0</td>\n",
              "    </tr>\n",
              "  </tbody>\n",
              "</table>\n",
              "</div>"
            ],
            "text/plain": [
              "   0\n",
              "0  0\n",
              "1  0\n",
              "2  0\n",
              "3  0\n",
              "4  0"
            ]
          },
          "metadata": {
            "tags": []
          },
          "execution_count": 25
        }
      ]
    },
    {
      "cell_type": "code",
      "metadata": {
        "id": "eKwygS2T0i0M",
        "colab_type": "code",
        "outputId": "af456a0f-4cea-4f82-93e3-385745d41549",
        "colab": {
          "base_uri": "https://localhost:8080/",
          "height": 34
        }
      },
      "source": [
        "# 0과 1이 각각 어떤 걸 의미하는지는 이렇게 .target_names을 찍어보면 알 수 있다.\n",
        "# 악성(malignant), 양성(benign)\n",
        "print(breast_cancer_data.target_names)"
      ],
      "execution_count": 0,
      "outputs": [
        {
          "output_type": "stream",
          "text": [
            "['malignant' 'benign']\n"
          ],
          "name": "stdout"
        }
      ]
    },
    {
      "cell_type": "code",
      "metadata": {
        "id": "t_mGTP3D0oE6",
        "colab_type": "code",
        "outputId": "cf559252-6f4b-41f2-df79-237b159aefeb",
        "colab": {
          "base_uri": "https://localhost:8080/",
          "height": 224
        }
      },
      "source": [
        "# 항목 이름(컬럼) 같은 것도 없고, 그냥 30개 항목에 대한 값만 쭉 들어 있다. \n",
        "# 값이 아주 크거나 아주 작은 것이 있다\n",
        "df_data.head()"
      ],
      "execution_count": 0,
      "outputs": [
        {
          "output_type": "execute_result",
          "data": {
            "text/html": [
              "<div>\n",
              "<style scoped>\n",
              "    .dataframe tbody tr th:only-of-type {\n",
              "        vertical-align: middle;\n",
              "    }\n",
              "\n",
              "    .dataframe tbody tr th {\n",
              "        vertical-align: top;\n",
              "    }\n",
              "\n",
              "    .dataframe thead th {\n",
              "        text-align: right;\n",
              "    }\n",
              "</style>\n",
              "<table border=\"1\" class=\"dataframe\">\n",
              "  <thead>\n",
              "    <tr style=\"text-align: right;\">\n",
              "      <th></th>\n",
              "      <th>0</th>\n",
              "      <th>1</th>\n",
              "      <th>2</th>\n",
              "      <th>3</th>\n",
              "      <th>4</th>\n",
              "      <th>5</th>\n",
              "      <th>6</th>\n",
              "      <th>7</th>\n",
              "      <th>8</th>\n",
              "      <th>9</th>\n",
              "      <th>10</th>\n",
              "      <th>11</th>\n",
              "      <th>12</th>\n",
              "      <th>13</th>\n",
              "      <th>14</th>\n",
              "      <th>15</th>\n",
              "      <th>16</th>\n",
              "      <th>17</th>\n",
              "      <th>18</th>\n",
              "      <th>19</th>\n",
              "      <th>20</th>\n",
              "      <th>21</th>\n",
              "      <th>22</th>\n",
              "      <th>23</th>\n",
              "      <th>24</th>\n",
              "      <th>25</th>\n",
              "      <th>26</th>\n",
              "      <th>27</th>\n",
              "      <th>28</th>\n",
              "      <th>29</th>\n",
              "    </tr>\n",
              "  </thead>\n",
              "  <tbody>\n",
              "    <tr>\n",
              "      <th>0</th>\n",
              "      <td>17.99</td>\n",
              "      <td>10.38</td>\n",
              "      <td>122.80</td>\n",
              "      <td>1001.0</td>\n",
              "      <td>0.11840</td>\n",
              "      <td>0.27760</td>\n",
              "      <td>0.3001</td>\n",
              "      <td>0.14710</td>\n",
              "      <td>0.2419</td>\n",
              "      <td>0.07871</td>\n",
              "      <td>1.0950</td>\n",
              "      <td>0.9053</td>\n",
              "      <td>8.589</td>\n",
              "      <td>153.40</td>\n",
              "      <td>0.006399</td>\n",
              "      <td>0.04904</td>\n",
              "      <td>0.05373</td>\n",
              "      <td>0.01587</td>\n",
              "      <td>0.03003</td>\n",
              "      <td>0.006193</td>\n",
              "      <td>25.38</td>\n",
              "      <td>17.33</td>\n",
              "      <td>184.60</td>\n",
              "      <td>2019.0</td>\n",
              "      <td>0.1622</td>\n",
              "      <td>0.6656</td>\n",
              "      <td>0.7119</td>\n",
              "      <td>0.2654</td>\n",
              "      <td>0.4601</td>\n",
              "      <td>0.11890</td>\n",
              "    </tr>\n",
              "    <tr>\n",
              "      <th>1</th>\n",
              "      <td>20.57</td>\n",
              "      <td>17.77</td>\n",
              "      <td>132.90</td>\n",
              "      <td>1326.0</td>\n",
              "      <td>0.08474</td>\n",
              "      <td>0.07864</td>\n",
              "      <td>0.0869</td>\n",
              "      <td>0.07017</td>\n",
              "      <td>0.1812</td>\n",
              "      <td>0.05667</td>\n",
              "      <td>0.5435</td>\n",
              "      <td>0.7339</td>\n",
              "      <td>3.398</td>\n",
              "      <td>74.08</td>\n",
              "      <td>0.005225</td>\n",
              "      <td>0.01308</td>\n",
              "      <td>0.01860</td>\n",
              "      <td>0.01340</td>\n",
              "      <td>0.01389</td>\n",
              "      <td>0.003532</td>\n",
              "      <td>24.99</td>\n",
              "      <td>23.41</td>\n",
              "      <td>158.80</td>\n",
              "      <td>1956.0</td>\n",
              "      <td>0.1238</td>\n",
              "      <td>0.1866</td>\n",
              "      <td>0.2416</td>\n",
              "      <td>0.1860</td>\n",
              "      <td>0.2750</td>\n",
              "      <td>0.08902</td>\n",
              "    </tr>\n",
              "    <tr>\n",
              "      <th>2</th>\n",
              "      <td>19.69</td>\n",
              "      <td>21.25</td>\n",
              "      <td>130.00</td>\n",
              "      <td>1203.0</td>\n",
              "      <td>0.10960</td>\n",
              "      <td>0.15990</td>\n",
              "      <td>0.1974</td>\n",
              "      <td>0.12790</td>\n",
              "      <td>0.2069</td>\n",
              "      <td>0.05999</td>\n",
              "      <td>0.7456</td>\n",
              "      <td>0.7869</td>\n",
              "      <td>4.585</td>\n",
              "      <td>94.03</td>\n",
              "      <td>0.006150</td>\n",
              "      <td>0.04006</td>\n",
              "      <td>0.03832</td>\n",
              "      <td>0.02058</td>\n",
              "      <td>0.02250</td>\n",
              "      <td>0.004571</td>\n",
              "      <td>23.57</td>\n",
              "      <td>25.53</td>\n",
              "      <td>152.50</td>\n",
              "      <td>1709.0</td>\n",
              "      <td>0.1444</td>\n",
              "      <td>0.4245</td>\n",
              "      <td>0.4504</td>\n",
              "      <td>0.2430</td>\n",
              "      <td>0.3613</td>\n",
              "      <td>0.08758</td>\n",
              "    </tr>\n",
              "    <tr>\n",
              "      <th>3</th>\n",
              "      <td>11.42</td>\n",
              "      <td>20.38</td>\n",
              "      <td>77.58</td>\n",
              "      <td>386.1</td>\n",
              "      <td>0.14250</td>\n",
              "      <td>0.28390</td>\n",
              "      <td>0.2414</td>\n",
              "      <td>0.10520</td>\n",
              "      <td>0.2597</td>\n",
              "      <td>0.09744</td>\n",
              "      <td>0.4956</td>\n",
              "      <td>1.1560</td>\n",
              "      <td>3.445</td>\n",
              "      <td>27.23</td>\n",
              "      <td>0.009110</td>\n",
              "      <td>0.07458</td>\n",
              "      <td>0.05661</td>\n",
              "      <td>0.01867</td>\n",
              "      <td>0.05963</td>\n",
              "      <td>0.009208</td>\n",
              "      <td>14.91</td>\n",
              "      <td>26.50</td>\n",
              "      <td>98.87</td>\n",
              "      <td>567.7</td>\n",
              "      <td>0.2098</td>\n",
              "      <td>0.8663</td>\n",
              "      <td>0.6869</td>\n",
              "      <td>0.2575</td>\n",
              "      <td>0.6638</td>\n",
              "      <td>0.17300</td>\n",
              "    </tr>\n",
              "    <tr>\n",
              "      <th>4</th>\n",
              "      <td>20.29</td>\n",
              "      <td>14.34</td>\n",
              "      <td>135.10</td>\n",
              "      <td>1297.0</td>\n",
              "      <td>0.10030</td>\n",
              "      <td>0.13280</td>\n",
              "      <td>0.1980</td>\n",
              "      <td>0.10430</td>\n",
              "      <td>0.1809</td>\n",
              "      <td>0.05883</td>\n",
              "      <td>0.7572</td>\n",
              "      <td>0.7813</td>\n",
              "      <td>5.438</td>\n",
              "      <td>94.44</td>\n",
              "      <td>0.011490</td>\n",
              "      <td>0.02461</td>\n",
              "      <td>0.05688</td>\n",
              "      <td>0.01885</td>\n",
              "      <td>0.01756</td>\n",
              "      <td>0.005115</td>\n",
              "      <td>22.54</td>\n",
              "      <td>16.67</td>\n",
              "      <td>152.20</td>\n",
              "      <td>1575.0</td>\n",
              "      <td>0.1374</td>\n",
              "      <td>0.2050</td>\n",
              "      <td>0.4000</td>\n",
              "      <td>0.1625</td>\n",
              "      <td>0.2364</td>\n",
              "      <td>0.07678</td>\n",
              "    </tr>\n",
              "  </tbody>\n",
              "</table>\n",
              "</div>"
            ],
            "text/plain": [
              "      0      1       2       3   ...      26      27      28       29\n",
              "0  17.99  10.38  122.80  1001.0  ...  0.7119  0.2654  0.4601  0.11890\n",
              "1  20.57  17.77  132.90  1326.0  ...  0.2416  0.1860  0.2750  0.08902\n",
              "2  19.69  21.25  130.00  1203.0  ...  0.4504  0.2430  0.3613  0.08758\n",
              "3  11.42  20.38   77.58   386.1  ...  0.6869  0.2575  0.6638  0.17300\n",
              "4  20.29  14.34  135.10  1297.0  ...  0.4000  0.1625  0.2364  0.07678\n",
              "\n",
              "[5 rows x 30 columns]"
            ]
          },
          "metadata": {
            "tags": []
          },
          "execution_count": 27
        }
      ]
    },
    {
      "cell_type": "code",
      "metadata": {
        "id": "2EUM1Mpr0_vu",
        "colab_type": "code",
        "outputId": "d7a9c352-4c57-41c9-be06-72d477e6153c",
        "colab": {
          "base_uri": "https://localhost:8080/",
          "height": 317
        }
      },
      "source": [
        "# 각 항목별로 최대/최소값을 비롯한 기초 통계량을 확인하기 위해 .describe()를 찍어보았다.\n",
        "# 3번 컬럼은 최대 값이 2501이나 되는데, 9번 컬럼은 0.097이 최대값이다. 최소값도 항목에 따라 편차가 크다.\n",
        "# 항목마다 스케일이 너무나 달라 정규화 필요\n",
        "df_data.describe()"
      ],
      "execution_count": 0,
      "outputs": [
        {
          "output_type": "execute_result",
          "data": {
            "text/html": [
              "<div>\n",
              "<style scoped>\n",
              "    .dataframe tbody tr th:only-of-type {\n",
              "        vertical-align: middle;\n",
              "    }\n",
              "\n",
              "    .dataframe tbody tr th {\n",
              "        vertical-align: top;\n",
              "    }\n",
              "\n",
              "    .dataframe thead th {\n",
              "        text-align: right;\n",
              "    }\n",
              "</style>\n",
              "<table border=\"1\" class=\"dataframe\">\n",
              "  <thead>\n",
              "    <tr style=\"text-align: right;\">\n",
              "      <th></th>\n",
              "      <th>0</th>\n",
              "      <th>1</th>\n",
              "      <th>2</th>\n",
              "      <th>3</th>\n",
              "      <th>4</th>\n",
              "      <th>5</th>\n",
              "      <th>6</th>\n",
              "      <th>7</th>\n",
              "      <th>8</th>\n",
              "      <th>9</th>\n",
              "      <th>10</th>\n",
              "      <th>11</th>\n",
              "      <th>12</th>\n",
              "      <th>13</th>\n",
              "      <th>14</th>\n",
              "      <th>15</th>\n",
              "      <th>16</th>\n",
              "      <th>17</th>\n",
              "      <th>18</th>\n",
              "      <th>19</th>\n",
              "      <th>20</th>\n",
              "      <th>21</th>\n",
              "      <th>22</th>\n",
              "      <th>23</th>\n",
              "      <th>24</th>\n",
              "      <th>25</th>\n",
              "      <th>26</th>\n",
              "      <th>27</th>\n",
              "      <th>28</th>\n",
              "      <th>29</th>\n",
              "    </tr>\n",
              "  </thead>\n",
              "  <tbody>\n",
              "    <tr>\n",
              "      <th>count</th>\n",
              "      <td>569.000000</td>\n",
              "      <td>569.000000</td>\n",
              "      <td>569.000000</td>\n",
              "      <td>569.000000</td>\n",
              "      <td>569.000000</td>\n",
              "      <td>569.000000</td>\n",
              "      <td>569.000000</td>\n",
              "      <td>569.000000</td>\n",
              "      <td>569.000000</td>\n",
              "      <td>569.000000</td>\n",
              "      <td>569.000000</td>\n",
              "      <td>569.000000</td>\n",
              "      <td>569.000000</td>\n",
              "      <td>569.000000</td>\n",
              "      <td>569.000000</td>\n",
              "      <td>569.000000</td>\n",
              "      <td>569.000000</td>\n",
              "      <td>569.000000</td>\n",
              "      <td>569.000000</td>\n",
              "      <td>569.000000</td>\n",
              "      <td>569.000000</td>\n",
              "      <td>569.000000</td>\n",
              "      <td>569.000000</td>\n",
              "      <td>569.000000</td>\n",
              "      <td>569.000000</td>\n",
              "      <td>569.000000</td>\n",
              "      <td>569.000000</td>\n",
              "      <td>569.000000</td>\n",
              "      <td>569.000000</td>\n",
              "      <td>569.000000</td>\n",
              "    </tr>\n",
              "    <tr>\n",
              "      <th>mean</th>\n",
              "      <td>14.127292</td>\n",
              "      <td>19.289649</td>\n",
              "      <td>91.969033</td>\n",
              "      <td>654.889104</td>\n",
              "      <td>0.096360</td>\n",
              "      <td>0.104341</td>\n",
              "      <td>0.088799</td>\n",
              "      <td>0.048919</td>\n",
              "      <td>0.181162</td>\n",
              "      <td>0.062798</td>\n",
              "      <td>0.405172</td>\n",
              "      <td>1.216853</td>\n",
              "      <td>2.866059</td>\n",
              "      <td>40.337079</td>\n",
              "      <td>0.007041</td>\n",
              "      <td>0.025478</td>\n",
              "      <td>0.031894</td>\n",
              "      <td>0.011796</td>\n",
              "      <td>0.020542</td>\n",
              "      <td>0.003795</td>\n",
              "      <td>16.269190</td>\n",
              "      <td>25.677223</td>\n",
              "      <td>107.261213</td>\n",
              "      <td>880.583128</td>\n",
              "      <td>0.132369</td>\n",
              "      <td>0.254265</td>\n",
              "      <td>0.272188</td>\n",
              "      <td>0.114606</td>\n",
              "      <td>0.290076</td>\n",
              "      <td>0.083946</td>\n",
              "    </tr>\n",
              "    <tr>\n",
              "      <th>std</th>\n",
              "      <td>3.524049</td>\n",
              "      <td>4.301036</td>\n",
              "      <td>24.298981</td>\n",
              "      <td>351.914129</td>\n",
              "      <td>0.014064</td>\n",
              "      <td>0.052813</td>\n",
              "      <td>0.079720</td>\n",
              "      <td>0.038803</td>\n",
              "      <td>0.027414</td>\n",
              "      <td>0.007060</td>\n",
              "      <td>0.277313</td>\n",
              "      <td>0.551648</td>\n",
              "      <td>2.021855</td>\n",
              "      <td>45.491006</td>\n",
              "      <td>0.003003</td>\n",
              "      <td>0.017908</td>\n",
              "      <td>0.030186</td>\n",
              "      <td>0.006170</td>\n",
              "      <td>0.008266</td>\n",
              "      <td>0.002646</td>\n",
              "      <td>4.833242</td>\n",
              "      <td>6.146258</td>\n",
              "      <td>33.602542</td>\n",
              "      <td>569.356993</td>\n",
              "      <td>0.022832</td>\n",
              "      <td>0.157336</td>\n",
              "      <td>0.208624</td>\n",
              "      <td>0.065732</td>\n",
              "      <td>0.061867</td>\n",
              "      <td>0.018061</td>\n",
              "    </tr>\n",
              "    <tr>\n",
              "      <th>min</th>\n",
              "      <td>6.981000</td>\n",
              "      <td>9.710000</td>\n",
              "      <td>43.790000</td>\n",
              "      <td>143.500000</td>\n",
              "      <td>0.052630</td>\n",
              "      <td>0.019380</td>\n",
              "      <td>0.000000</td>\n",
              "      <td>0.000000</td>\n",
              "      <td>0.106000</td>\n",
              "      <td>0.049960</td>\n",
              "      <td>0.111500</td>\n",
              "      <td>0.360200</td>\n",
              "      <td>0.757000</td>\n",
              "      <td>6.802000</td>\n",
              "      <td>0.001713</td>\n",
              "      <td>0.002252</td>\n",
              "      <td>0.000000</td>\n",
              "      <td>0.000000</td>\n",
              "      <td>0.007882</td>\n",
              "      <td>0.000895</td>\n",
              "      <td>7.930000</td>\n",
              "      <td>12.020000</td>\n",
              "      <td>50.410000</td>\n",
              "      <td>185.200000</td>\n",
              "      <td>0.071170</td>\n",
              "      <td>0.027290</td>\n",
              "      <td>0.000000</td>\n",
              "      <td>0.000000</td>\n",
              "      <td>0.156500</td>\n",
              "      <td>0.055040</td>\n",
              "    </tr>\n",
              "    <tr>\n",
              "      <th>25%</th>\n",
              "      <td>11.700000</td>\n",
              "      <td>16.170000</td>\n",
              "      <td>75.170000</td>\n",
              "      <td>420.300000</td>\n",
              "      <td>0.086370</td>\n",
              "      <td>0.064920</td>\n",
              "      <td>0.029560</td>\n",
              "      <td>0.020310</td>\n",
              "      <td>0.161900</td>\n",
              "      <td>0.057700</td>\n",
              "      <td>0.232400</td>\n",
              "      <td>0.833900</td>\n",
              "      <td>1.606000</td>\n",
              "      <td>17.850000</td>\n",
              "      <td>0.005169</td>\n",
              "      <td>0.013080</td>\n",
              "      <td>0.015090</td>\n",
              "      <td>0.007638</td>\n",
              "      <td>0.015160</td>\n",
              "      <td>0.002248</td>\n",
              "      <td>13.010000</td>\n",
              "      <td>21.080000</td>\n",
              "      <td>84.110000</td>\n",
              "      <td>515.300000</td>\n",
              "      <td>0.116600</td>\n",
              "      <td>0.147200</td>\n",
              "      <td>0.114500</td>\n",
              "      <td>0.064930</td>\n",
              "      <td>0.250400</td>\n",
              "      <td>0.071460</td>\n",
              "    </tr>\n",
              "    <tr>\n",
              "      <th>50%</th>\n",
              "      <td>13.370000</td>\n",
              "      <td>18.840000</td>\n",
              "      <td>86.240000</td>\n",
              "      <td>551.100000</td>\n",
              "      <td>0.095870</td>\n",
              "      <td>0.092630</td>\n",
              "      <td>0.061540</td>\n",
              "      <td>0.033500</td>\n",
              "      <td>0.179200</td>\n",
              "      <td>0.061540</td>\n",
              "      <td>0.324200</td>\n",
              "      <td>1.108000</td>\n",
              "      <td>2.287000</td>\n",
              "      <td>24.530000</td>\n",
              "      <td>0.006380</td>\n",
              "      <td>0.020450</td>\n",
              "      <td>0.025890</td>\n",
              "      <td>0.010930</td>\n",
              "      <td>0.018730</td>\n",
              "      <td>0.003187</td>\n",
              "      <td>14.970000</td>\n",
              "      <td>25.410000</td>\n",
              "      <td>97.660000</td>\n",
              "      <td>686.500000</td>\n",
              "      <td>0.131300</td>\n",
              "      <td>0.211900</td>\n",
              "      <td>0.226700</td>\n",
              "      <td>0.099930</td>\n",
              "      <td>0.282200</td>\n",
              "      <td>0.080040</td>\n",
              "    </tr>\n",
              "    <tr>\n",
              "      <th>75%</th>\n",
              "      <td>15.780000</td>\n",
              "      <td>21.800000</td>\n",
              "      <td>104.100000</td>\n",
              "      <td>782.700000</td>\n",
              "      <td>0.105300</td>\n",
              "      <td>0.130400</td>\n",
              "      <td>0.130700</td>\n",
              "      <td>0.074000</td>\n",
              "      <td>0.195700</td>\n",
              "      <td>0.066120</td>\n",
              "      <td>0.478900</td>\n",
              "      <td>1.474000</td>\n",
              "      <td>3.357000</td>\n",
              "      <td>45.190000</td>\n",
              "      <td>0.008146</td>\n",
              "      <td>0.032450</td>\n",
              "      <td>0.042050</td>\n",
              "      <td>0.014710</td>\n",
              "      <td>0.023480</td>\n",
              "      <td>0.004558</td>\n",
              "      <td>18.790000</td>\n",
              "      <td>29.720000</td>\n",
              "      <td>125.400000</td>\n",
              "      <td>1084.000000</td>\n",
              "      <td>0.146000</td>\n",
              "      <td>0.339100</td>\n",
              "      <td>0.382900</td>\n",
              "      <td>0.161400</td>\n",
              "      <td>0.317900</td>\n",
              "      <td>0.092080</td>\n",
              "    </tr>\n",
              "    <tr>\n",
              "      <th>max</th>\n",
              "      <td>28.110000</td>\n",
              "      <td>39.280000</td>\n",
              "      <td>188.500000</td>\n",
              "      <td>2501.000000</td>\n",
              "      <td>0.163400</td>\n",
              "      <td>0.345400</td>\n",
              "      <td>0.426800</td>\n",
              "      <td>0.201200</td>\n",
              "      <td>0.304000</td>\n",
              "      <td>0.097440</td>\n",
              "      <td>2.873000</td>\n",
              "      <td>4.885000</td>\n",
              "      <td>21.980000</td>\n",
              "      <td>542.200000</td>\n",
              "      <td>0.031130</td>\n",
              "      <td>0.135400</td>\n",
              "      <td>0.396000</td>\n",
              "      <td>0.052790</td>\n",
              "      <td>0.078950</td>\n",
              "      <td>0.029840</td>\n",
              "      <td>36.040000</td>\n",
              "      <td>49.540000</td>\n",
              "      <td>251.200000</td>\n",
              "      <td>4254.000000</td>\n",
              "      <td>0.222600</td>\n",
              "      <td>1.058000</td>\n",
              "      <td>1.252000</td>\n",
              "      <td>0.291000</td>\n",
              "      <td>0.663800</td>\n",
              "      <td>0.207500</td>\n",
              "    </tr>\n",
              "  </tbody>\n",
              "</table>\n",
              "</div>"
            ],
            "text/plain": [
              "               0           1           2   ...          27          28          29\n",
              "count  569.000000  569.000000  569.000000  ...  569.000000  569.000000  569.000000\n",
              "mean    14.127292   19.289649   91.969033  ...    0.114606    0.290076    0.083946\n",
              "std      3.524049    4.301036   24.298981  ...    0.065732    0.061867    0.018061\n",
              "min      6.981000    9.710000   43.790000  ...    0.000000    0.156500    0.055040\n",
              "25%     11.700000   16.170000   75.170000  ...    0.064930    0.250400    0.071460\n",
              "50%     13.370000   18.840000   86.240000  ...    0.099930    0.282200    0.080040\n",
              "75%     15.780000   21.800000  104.100000  ...    0.161400    0.317900    0.092080\n",
              "max     28.110000   39.280000  188.500000  ...    0.291000    0.663800    0.207500\n",
              "\n",
              "[8 rows x 30 columns]"
            ]
          },
          "metadata": {
            "tags": []
          },
          "execution_count": 28
        }
      ]
    },
    {
      "cell_type": "code",
      "metadata": {
        "id": "NERpeCiu1GWA",
        "colab_type": "code",
        "outputId": "493568d9-0ac7-4220-ae74-0f2ca0571dbf",
        "colab": {
          "base_uri": "https://localhost:8080/",
          "height": 317
        }
      },
      "source": [
        "for x in range(len(df_data.columns)):\n",
        "    df_data[x] = min_max_normalize(df_data[x])\n",
        "\n",
        "# 모든 항목이 최소값은 0, 최대값은 1로 변환된 걸 확인할 수 있다.\n",
        "df_data.describe()\n"
      ],
      "execution_count": 0,
      "outputs": [
        {
          "output_type": "execute_result",
          "data": {
            "text/html": [
              "<div>\n",
              "<style scoped>\n",
              "    .dataframe tbody tr th:only-of-type {\n",
              "        vertical-align: middle;\n",
              "    }\n",
              "\n",
              "    .dataframe tbody tr th {\n",
              "        vertical-align: top;\n",
              "    }\n",
              "\n",
              "    .dataframe thead th {\n",
              "        text-align: right;\n",
              "    }\n",
              "</style>\n",
              "<table border=\"1\" class=\"dataframe\">\n",
              "  <thead>\n",
              "    <tr style=\"text-align: right;\">\n",
              "      <th></th>\n",
              "      <th>0</th>\n",
              "      <th>1</th>\n",
              "      <th>2</th>\n",
              "      <th>3</th>\n",
              "      <th>4</th>\n",
              "      <th>5</th>\n",
              "      <th>6</th>\n",
              "      <th>7</th>\n",
              "      <th>8</th>\n",
              "      <th>9</th>\n",
              "      <th>10</th>\n",
              "      <th>11</th>\n",
              "      <th>12</th>\n",
              "      <th>13</th>\n",
              "      <th>14</th>\n",
              "      <th>15</th>\n",
              "      <th>16</th>\n",
              "      <th>17</th>\n",
              "      <th>18</th>\n",
              "      <th>19</th>\n",
              "      <th>20</th>\n",
              "      <th>21</th>\n",
              "      <th>22</th>\n",
              "      <th>23</th>\n",
              "      <th>24</th>\n",
              "      <th>25</th>\n",
              "      <th>26</th>\n",
              "      <th>27</th>\n",
              "      <th>28</th>\n",
              "      <th>29</th>\n",
              "    </tr>\n",
              "  </thead>\n",
              "  <tbody>\n",
              "    <tr>\n",
              "      <th>count</th>\n",
              "      <td>569.000000</td>\n",
              "      <td>569.000000</td>\n",
              "      <td>569.000000</td>\n",
              "      <td>569.000000</td>\n",
              "      <td>569.000000</td>\n",
              "      <td>569.000000</td>\n",
              "      <td>569.000000</td>\n",
              "      <td>569.000000</td>\n",
              "      <td>569.000000</td>\n",
              "      <td>569.000000</td>\n",
              "      <td>569.000000</td>\n",
              "      <td>569.000000</td>\n",
              "      <td>569.000000</td>\n",
              "      <td>569.000000</td>\n",
              "      <td>569.000000</td>\n",
              "      <td>569.000000</td>\n",
              "      <td>569.000000</td>\n",
              "      <td>569.000000</td>\n",
              "      <td>569.000000</td>\n",
              "      <td>569.000000</td>\n",
              "      <td>569.000000</td>\n",
              "      <td>569.000000</td>\n",
              "      <td>569.000000</td>\n",
              "      <td>569.000000</td>\n",
              "      <td>569.000000</td>\n",
              "      <td>569.000000</td>\n",
              "      <td>569.000000</td>\n",
              "      <td>569.000000</td>\n",
              "      <td>569.000000</td>\n",
              "      <td>569.000000</td>\n",
              "    </tr>\n",
              "    <tr>\n",
              "      <th>mean</th>\n",
              "      <td>0.338222</td>\n",
              "      <td>0.323965</td>\n",
              "      <td>0.332935</td>\n",
              "      <td>0.216920</td>\n",
              "      <td>0.394785</td>\n",
              "      <td>0.260601</td>\n",
              "      <td>0.208058</td>\n",
              "      <td>0.243137</td>\n",
              "      <td>0.379605</td>\n",
              "      <td>0.270379</td>\n",
              "      <td>0.106345</td>\n",
              "      <td>0.189324</td>\n",
              "      <td>0.099376</td>\n",
              "      <td>0.062636</td>\n",
              "      <td>0.181119</td>\n",
              "      <td>0.174439</td>\n",
              "      <td>0.080540</td>\n",
              "      <td>0.223454</td>\n",
              "      <td>0.178143</td>\n",
              "      <td>0.100193</td>\n",
              "      <td>0.296663</td>\n",
              "      <td>0.363998</td>\n",
              "      <td>0.283138</td>\n",
              "      <td>0.170906</td>\n",
              "      <td>0.404138</td>\n",
              "      <td>0.220212</td>\n",
              "      <td>0.217403</td>\n",
              "      <td>0.393836</td>\n",
              "      <td>0.263307</td>\n",
              "      <td>0.189596</td>\n",
              "    </tr>\n",
              "    <tr>\n",
              "      <th>std</th>\n",
              "      <td>0.166787</td>\n",
              "      <td>0.145453</td>\n",
              "      <td>0.167915</td>\n",
              "      <td>0.149274</td>\n",
              "      <td>0.126967</td>\n",
              "      <td>0.161992</td>\n",
              "      <td>0.186785</td>\n",
              "      <td>0.192857</td>\n",
              "      <td>0.138456</td>\n",
              "      <td>0.148702</td>\n",
              "      <td>0.100421</td>\n",
              "      <td>0.121917</td>\n",
              "      <td>0.095267</td>\n",
              "      <td>0.084967</td>\n",
              "      <td>0.102067</td>\n",
              "      <td>0.134498</td>\n",
              "      <td>0.076227</td>\n",
              "      <td>0.116884</td>\n",
              "      <td>0.116316</td>\n",
              "      <td>0.091417</td>\n",
              "      <td>0.171940</td>\n",
              "      <td>0.163813</td>\n",
              "      <td>0.167352</td>\n",
              "      <td>0.139932</td>\n",
              "      <td>0.150779</td>\n",
              "      <td>0.152649</td>\n",
              "      <td>0.166633</td>\n",
              "      <td>0.225884</td>\n",
              "      <td>0.121954</td>\n",
              "      <td>0.118466</td>\n",
              "    </tr>\n",
              "    <tr>\n",
              "      <th>min</th>\n",
              "      <td>0.000000</td>\n",
              "      <td>0.000000</td>\n",
              "      <td>0.000000</td>\n",
              "      <td>0.000000</td>\n",
              "      <td>0.000000</td>\n",
              "      <td>0.000000</td>\n",
              "      <td>0.000000</td>\n",
              "      <td>0.000000</td>\n",
              "      <td>0.000000</td>\n",
              "      <td>0.000000</td>\n",
              "      <td>0.000000</td>\n",
              "      <td>0.000000</td>\n",
              "      <td>0.000000</td>\n",
              "      <td>0.000000</td>\n",
              "      <td>0.000000</td>\n",
              "      <td>0.000000</td>\n",
              "      <td>0.000000</td>\n",
              "      <td>0.000000</td>\n",
              "      <td>0.000000</td>\n",
              "      <td>0.000000</td>\n",
              "      <td>0.000000</td>\n",
              "      <td>0.000000</td>\n",
              "      <td>0.000000</td>\n",
              "      <td>0.000000</td>\n",
              "      <td>0.000000</td>\n",
              "      <td>0.000000</td>\n",
              "      <td>0.000000</td>\n",
              "      <td>0.000000</td>\n",
              "      <td>0.000000</td>\n",
              "      <td>0.000000</td>\n",
              "    </tr>\n",
              "    <tr>\n",
              "      <th>25%</th>\n",
              "      <td>0.223342</td>\n",
              "      <td>0.218465</td>\n",
              "      <td>0.216847</td>\n",
              "      <td>0.117413</td>\n",
              "      <td>0.304595</td>\n",
              "      <td>0.139685</td>\n",
              "      <td>0.069260</td>\n",
              "      <td>0.100944</td>\n",
              "      <td>0.282323</td>\n",
              "      <td>0.163016</td>\n",
              "      <td>0.043781</td>\n",
              "      <td>0.104690</td>\n",
              "      <td>0.040004</td>\n",
              "      <td>0.020635</td>\n",
              "      <td>0.117483</td>\n",
              "      <td>0.081323</td>\n",
              "      <td>0.038106</td>\n",
              "      <td>0.144686</td>\n",
              "      <td>0.102409</td>\n",
              "      <td>0.046750</td>\n",
              "      <td>0.180719</td>\n",
              "      <td>0.241471</td>\n",
              "      <td>0.167837</td>\n",
              "      <td>0.081130</td>\n",
              "      <td>0.300007</td>\n",
              "      <td>0.116337</td>\n",
              "      <td>0.091454</td>\n",
              "      <td>0.223127</td>\n",
              "      <td>0.185098</td>\n",
              "      <td>0.107700</td>\n",
              "    </tr>\n",
              "    <tr>\n",
              "      <th>50%</th>\n",
              "      <td>0.302381</td>\n",
              "      <td>0.308759</td>\n",
              "      <td>0.293345</td>\n",
              "      <td>0.172895</td>\n",
              "      <td>0.390358</td>\n",
              "      <td>0.224679</td>\n",
              "      <td>0.144189</td>\n",
              "      <td>0.166501</td>\n",
              "      <td>0.369697</td>\n",
              "      <td>0.243892</td>\n",
              "      <td>0.077023</td>\n",
              "      <td>0.165267</td>\n",
              "      <td>0.072092</td>\n",
              "      <td>0.033112</td>\n",
              "      <td>0.158650</td>\n",
              "      <td>0.136675</td>\n",
              "      <td>0.065379</td>\n",
              "      <td>0.207047</td>\n",
              "      <td>0.152643</td>\n",
              "      <td>0.079191</td>\n",
              "      <td>0.250445</td>\n",
              "      <td>0.356876</td>\n",
              "      <td>0.235320</td>\n",
              "      <td>0.123206</td>\n",
              "      <td>0.397081</td>\n",
              "      <td>0.179110</td>\n",
              "      <td>0.181070</td>\n",
              "      <td>0.343402</td>\n",
              "      <td>0.247782</td>\n",
              "      <td>0.163977</td>\n",
              "    </tr>\n",
              "    <tr>\n",
              "      <th>75%</th>\n",
              "      <td>0.416442</td>\n",
              "      <td>0.408860</td>\n",
              "      <td>0.416765</td>\n",
              "      <td>0.271135</td>\n",
              "      <td>0.475490</td>\n",
              "      <td>0.340531</td>\n",
              "      <td>0.306232</td>\n",
              "      <td>0.367793</td>\n",
              "      <td>0.453030</td>\n",
              "      <td>0.340354</td>\n",
              "      <td>0.133044</td>\n",
              "      <td>0.246155</td>\n",
              "      <td>0.122509</td>\n",
              "      <td>0.071700</td>\n",
              "      <td>0.218683</td>\n",
              "      <td>0.226800</td>\n",
              "      <td>0.106187</td>\n",
              "      <td>0.278651</td>\n",
              "      <td>0.219480</td>\n",
              "      <td>0.126556</td>\n",
              "      <td>0.386339</td>\n",
              "      <td>0.471748</td>\n",
              "      <td>0.373475</td>\n",
              "      <td>0.220901</td>\n",
              "      <td>0.494156</td>\n",
              "      <td>0.302520</td>\n",
              "      <td>0.305831</td>\n",
              "      <td>0.554639</td>\n",
              "      <td>0.318155</td>\n",
              "      <td>0.242949</td>\n",
              "    </tr>\n",
              "    <tr>\n",
              "      <th>max</th>\n",
              "      <td>1.000000</td>\n",
              "      <td>1.000000</td>\n",
              "      <td>1.000000</td>\n",
              "      <td>1.000000</td>\n",
              "      <td>1.000000</td>\n",
              "      <td>1.000000</td>\n",
              "      <td>1.000000</td>\n",
              "      <td>1.000000</td>\n",
              "      <td>1.000000</td>\n",
              "      <td>1.000000</td>\n",
              "      <td>1.000000</td>\n",
              "      <td>1.000000</td>\n",
              "      <td>1.000000</td>\n",
              "      <td>1.000000</td>\n",
              "      <td>1.000000</td>\n",
              "      <td>1.000000</td>\n",
              "      <td>1.000000</td>\n",
              "      <td>1.000000</td>\n",
              "      <td>1.000000</td>\n",
              "      <td>1.000000</td>\n",
              "      <td>1.000000</td>\n",
              "      <td>1.000000</td>\n",
              "      <td>1.000000</td>\n",
              "      <td>1.000000</td>\n",
              "      <td>1.000000</td>\n",
              "      <td>1.000000</td>\n",
              "      <td>1.000000</td>\n",
              "      <td>1.000000</td>\n",
              "      <td>1.000000</td>\n",
              "      <td>1.000000</td>\n",
              "    </tr>\n",
              "  </tbody>\n",
              "</table>\n",
              "</div>"
            ],
            "text/plain": [
              "               0           1           2   ...          27          28          29\n",
              "count  569.000000  569.000000  569.000000  ...  569.000000  569.000000  569.000000\n",
              "mean     0.338222    0.323965    0.332935  ...    0.393836    0.263307    0.189596\n",
              "std      0.166787    0.145453    0.167915  ...    0.225884    0.121954    0.118466\n",
              "min      0.000000    0.000000    0.000000  ...    0.000000    0.000000    0.000000\n",
              "25%      0.223342    0.218465    0.216847  ...    0.223127    0.185098    0.107700\n",
              "50%      0.302381    0.308759    0.293345  ...    0.343402    0.247782    0.163977\n",
              "75%      0.416442    0.408860    0.416765  ...    0.554639    0.318155    0.242949\n",
              "max      1.000000    1.000000    1.000000  ...    1.000000    1.000000    1.000000\n",
              "\n",
              "[8 rows x 30 columns]"
            ]
          },
          "metadata": {
            "tags": []
          },
          "execution_count": 31
        }
      ]
    },
    {
      "cell_type": "code",
      "metadata": {
        "id": "DsZh5FD91irR",
        "colab_type": "code",
        "colab": {}
      },
      "source": [
        "# 데이터 세트 분리하기 (Training & Validation)\n",
        "from sklearn.model_selection import train_test_split\n",
        "\n",
        "#실제로 생성한 분류 모델의 성능을 테스트를 해봐야 하니까 학습(training) 세트와 검증(validation) 세트를 분리\n",
        "#데이터에는 분류된 레이블(target)이 있으니, 검증 데이터를 예측 모델에 넣어서 실제 그 레이블(정답)을 잘 맞추는지 본다\n",
        "#데이터 세트 분리는 sklearn에서 train_test_split을 통해 손쉽게 할 수 있다. \n",
        "#데이터 세트를 나누는 비율을 지정할 수도 있는데 기본 값은 0.75:0.25, 즉 3:1이다. 3으로 학습해서 1로 시험보는 거다. \n",
        "#만약 비율을 바꾸고 싶다면 test_size의 값만 0에서 1사이로 넣어주면 된다. \n",
        "#데이터 세트를 나눌 때 난수를 바탕으로 무작위로 나누게 되는데, random_state는 이때 난수의 초기값을 고정시켜 주는 기능이다. \n",
        "#random_state = 100 이라고 지정해놓았으니, 나중에도 이렇게 적어주면 이 실험 결과를 재현할 수 있다. (안 그러면 매번 다르게 나눠줄 거다.)\n",
        "\n",
        "training_data, validation_data , training_labels, validation_labels = train_test_split(df_data, df_labels, test_size = 0.2, random_state = 100)"
      ],
      "execution_count": 0,
      "outputs": []
    },
    {
      "cell_type": "code",
      "metadata": {
        "id": "qICVrmS23FHX",
        "colab_type": "code",
        "outputId": "2ffcf2de-4a5d-4376-fa42-0743bae7c95b",
        "colab": {
          "base_uri": "https://localhost:8080/",
          "height": 85
        }
      },
      "source": [
        "# 갯수 확인\n",
        "print(len(training_data))\n",
        "print(len(validation_data))\n",
        "print(len(training_labels))\n",
        "print(len(validation_labels))"
      ],
      "execution_count": 0,
      "outputs": [
        {
          "output_type": "stream",
          "text": [
            "455\n",
            "114\n",
            "455\n",
            "114\n"
          ],
          "name": "stdout"
        }
      ]
    },
    {
      "cell_type": "code",
      "metadata": {
        "id": "oEle0JzJ3JP_",
        "colab_type": "code",
        "colab": {}
      },
      "source": [
        "from sklearn.neighbors import KNeighborsClassifier\n",
        "\n",
        "#모델을 생성하는데 k=3으로 지정\n",
        "classifier = KNeighborsClassifier(n_neighbors = 3)"
      ],
      "execution_count": 0,
      "outputs": []
    },
    {
      "cell_type": "code",
      "metadata": {
        "id": "19_M_k5i3m_e",
        "colab_type": "code",
        "outputId": "127fdb8a-0bbc-4361-f77c-6123ee3b5e10",
        "colab": {
          "base_uri": "https://localhost:8080/",
          "height": 122
        }
      },
      "source": [
        "#생성한 모델에 데이터를 학습시키자. \n",
        "#위에서 나눠놓은 학습 데이터 세트(training_data, training_labels)로 학습시킨다.\n",
        "classifier.fit(training_data, training_labels)"
      ],
      "execution_count": 0,
      "outputs": [
        {
          "output_type": "stream",
          "text": [
            "/usr/local/lib/python3.6/dist-packages/ipykernel_launcher.py:3: DataConversionWarning: A column-vector y was passed when a 1d array was expected. Please change the shape of y to (n_samples, ), for example using ravel().\n",
            "  This is separate from the ipykernel package so we can avoid doing imports until\n"
          ],
          "name": "stderr"
        },
        {
          "output_type": "execute_result",
          "data": {
            "text/plain": [
              "KNeighborsClassifier(algorithm='auto', leaf_size=30, metric='minkowski',\n",
              "                     metric_params=None, n_jobs=None, n_neighbors=3, p=2,\n",
              "                     weights='uniform')"
            ]
          },
          "metadata": {
            "tags": []
          },
          "execution_count": 35
        }
      ]
    },
    {
      "cell_type": "code",
      "metadata": {
        "id": "B8fLT_lz30_W",
        "colab_type": "code",
        "outputId": "bc3bd6da-4694-4b65-98ff-55aa12de3f0a",
        "colab": {
          "base_uri": "https://localhost:8080/",
          "height": 34
        }
      },
      "source": [
        "#모델의 정확도(Accuracy) 평가하기\n",
        "#KNeighborsClassifier에서는 .score()를 쓰면 모델의 정확도를 바로 확인할 수 있다.\n",
        "print(classifier.score(validation_data, validation_labels))"
      ],
      "execution_count": 0,
      "outputs": [
        {
          "output_type": "stream",
          "text": [
            "0.9649122807017544\n"
          ],
          "name": "stdout"
        }
      ]
    },
    {
      "cell_type": "code",
      "metadata": {
        "id": "jrOz0Bsz5IxO",
        "colab_type": "code",
        "outputId": "479efe7b-e3ad-4d10-e336-278e038e170d",
        "colab": {
          "base_uri": "https://localhost:8080/",
          "height": 119
        }
      },
      "source": [
        "classifier.predict(validation_data)"
      ],
      "execution_count": 0,
      "outputs": [
        {
          "output_type": "execute_result",
          "data": {
            "text/plain": [
              "array([0, 1, 0, 1, 1, 1, 0, 0, 1, 1, 1, 0, 0, 0, 1, 1, 1, 1, 1, 1, 1, 1,\n",
              "       0, 0, 0, 0, 1, 1, 1, 1, 1, 1, 1, 0, 0, 1, 1, 1, 1, 0, 0, 1, 1, 0,\n",
              "       1, 0, 1, 1, 1, 1, 1, 1, 1, 1, 1, 1, 1, 0, 0, 1, 0, 0, 1, 1, 0, 1,\n",
              "       0, 0, 1, 0, 0, 1, 0, 0, 1, 1, 1, 0, 0, 1, 1, 0, 0, 0, 1, 0, 0, 1,\n",
              "       0, 1, 1, 1, 1, 0, 1, 0, 0, 1, 0, 1, 0, 0, 1, 1, 1, 1, 1, 1, 1, 1,\n",
              "       1, 1, 0, 1])"
            ]
          },
          "metadata": {
            "tags": []
          },
          "execution_count": 40
        }
      ]
    },
    {
      "cell_type": "markdown",
      "metadata": {
        "id": "1G-Kyj_5J_7n",
        "colab_type": "text"
      },
      "source": [
        "#K-최근접 이웃(K-Nearest Neighbors)을 활용한 회귀"
      ]
    },
    {
      "cell_type": "code",
      "metadata": {
        "id": "loVlrSymJPFv",
        "colab_type": "code",
        "colab": {}
      },
      "source": [
        "#sklearn KNeighborsRegressor\n",
        "from sklearn.neighbors import KNeighborsRegressor"
      ],
      "execution_count": 0,
      "outputs": []
    },
    {
      "cell_type": "code",
      "metadata": {
        "id": "l-o9fcxPJVFX",
        "colab_type": "code",
        "colab": {}
      },
      "source": [
        "#회귀 모델을 생성한다. 이 때 n_neighbors, 즉 k를 정해줘야 한다. \n",
        "#그리고 위에서 설정한 가중 평균을 적용하기 위해 weights = \"distance\"를 넣어주었다. \n",
        "#(이렇게 써주지 않으면 weight의 기본값은 단순한 평균을 사용하는 방법, “uniform”이 적용된다.)\n",
        "regressor = KNeighborsRegressor(n_neighbors = 3, weights = \"distance\")"
      ],
      "execution_count": 0,
      "outputs": []
    },
    {
      "cell_type": "code",
      "metadata": {
        "id": "w-8ls7IzJgH5",
        "colab_type": "code",
        "outputId": "2a1bf40a-e871-4fff-dfa5-06418be7814c",
        "colab": {
          "base_uri": "https://localhost:8080/",
          "height": 68
        }
      },
      "source": [
        "#데이터를 .fit() 시켜준다. 학습 데이터는 여러 개의 차원으로 이루어진 배열이 될 거고, \n",
        "#레이블은 (분류가 아니라 회귀를 사용하는 것이라서 범주형 데이터가 아닌) \n",
        "#연속적인 데이터, 즉 수치가 들어오게 된다.\n",
        "training_points = [\n",
        "  [0.5, 0.2, 0.1],\n",
        "  [0.9, 0.7, 0.3],\n",
        "  [0.4, 0.5, 0.7]\n",
        "]\n",
        "\n",
        "training_labels = [5.0, 6.8, 9.0]\n",
        "regressor.fit(training_points, training_labels)"
      ],
      "execution_count": 0,
      "outputs": [
        {
          "output_type": "execute_result",
          "data": {
            "text/plain": [
              "KNeighborsRegressor(algorithm='auto', leaf_size=30, metric='minkowski',\n",
              "                    metric_params=None, n_jobs=None, n_neighbors=3, p=2,\n",
              "                    weights='distance')"
            ]
          },
          "metadata": {
            "tags": []
          },
          "execution_count": 45
        }
      ]
    },
    {
      "cell_type": "code",
      "metadata": {
        "id": "KFfk7fu4Juwe",
        "colab_type": "code",
        "colab": {}
      },
      "source": [
        "#새로운 값들을 분류하고 싶다면 .predict()를 사용\n",
        "unknown_points = [\n",
        "  [0.2, 0.1, 0.7],\n",
        "  [0.4, 0.7, 0.6],\n",
        "  [0.5, 0.8, 0.1]\n",
        "]\n",
        "\n",
        "guesses = regressor.predict(unknown_points)"
      ],
      "execution_count": 0,
      "outputs": []
    },
    {
      "cell_type": "code",
      "metadata": {
        "id": "WoNIW2rjKRbG",
        "colab_type": "code",
        "outputId": "77a2e256-f408-4d78-a67c-9f83edc0a779",
        "colab": {
          "base_uri": "https://localhost:8080/",
          "height": 34
        }
      },
      "source": [
        "guesses"
      ],
      "execution_count": 0,
      "outputs": [
        {
          "output_type": "execute_result",
          "data": {
            "text/plain": [
              "array([7.28143288, 7.76451922, 6.8457845 ])"
            ]
          },
          "metadata": {
            "tags": []
          },
          "execution_count": 47
        }
      ]
    },
    {
      "cell_type": "markdown",
      "metadata": {
        "id": "Ozbed1zXQR_J",
        "colab_type": "text"
      },
      "source": [
        "# 오류 평가 실습"
      ]
    },
    {
      "cell_type": "code",
      "metadata": {
        "id": "dOXOQ_p0QUOe",
        "colab_type": "code",
        "colab": {}
      },
      "source": [
        "def evalErrors(labels, guesses):\n",
        "  true_positives = 0\n",
        "  true_negatives = 0\n",
        "  false_positives = 0\n",
        "  false_negatives = 0\n",
        "\n",
        "  for i in range(len(guesses)):\n",
        "    #True Positives\n",
        "    if labels[i] == 1 and guesses[i] == 1:\n",
        "      true_positives += 1\n",
        "    #True Negatives\n",
        "    if labels[i] == 0 and guesses[i] == 0:\n",
        "      true_negatives += 1\n",
        "    #False Positives\n",
        "    if labels[i] == 0 and guesses[i] == 1:\n",
        "      false_positives += 1\n",
        "    #False Negatives\n",
        "    if labels[i] == 1 and guesses[i] == 0:\n",
        "      false_negatives += 1\n",
        "\n",
        "  return  true_positives, true_negatives, false_positives, false_negatives\n",
        "\n",
        "labels = [1, 0, 0, 1, 1, 1, 0, 1, 1, 1]\n",
        "guesses = [0, 1, 1, 1, 1, 0, 1, 0, 1, 0]\n",
        "\n",
        "true_positives, true_negatives, false_positives, false_negatives = evalErrors(labels, guesses)\n",
        "\n",
        "print('true_positives: %s' % true_positives)\n",
        "print('true_negatives: %s' % false_positives)\n",
        "print('false_positives: %s' % true_negatives)\n",
        "print('false_negatives: %s' % false_negatives)"
      ],
      "execution_count": 0,
      "outputs": []
    },
    {
      "cell_type": "markdown",
      "metadata": {
        "id": "Xr0VXq9RXWRV",
        "colab_type": "text"
      },
      "source": [
        "# 머신러닝 분류 모델의 성능 평가 지표 Accuracy, Recall, Precision, F1"
      ]
    },
    {
      "cell_type": "code",
      "metadata": {
        "id": "ytPfELuzXOpT",
        "colab_type": "code",
        "colab": {}
      },
      "source": [
        "from sklearn.metrics import accuracy_score, recall_score, precision_score, f1_score\n",
        "\n",
        "labels = [1, 0, 0, 1, 1, 1, 0, 1, 1, 1]\n",
        "guesses = [0, 1, 1, 1, 1, 0, 1, 0, 1, 0]\n",
        "\n",
        "print(accuracy_score(labels, guesses))\n",
        "print(recall_score(labels, guesses))\n",
        "print(precision_score(labels, guesses))\n",
        "print(f1_score(labels, guesses))"
      ],
      "execution_count": 0,
      "outputs": []
    },
    {
      "cell_type": "markdown",
      "metadata": {
        "id": "3i66ZZ-TknDI",
        "colab_type": "text"
      },
      "source": [
        "#선형회귀"
      ]
    },
    {
      "cell_type": "code",
      "metadata": {
        "id": "65IAAW_8pVxX",
        "colab_type": "code",
        "outputId": "c558ed61-a57a-44c2-c881-1926f1621d88",
        "colab": {
          "base_uri": "https://localhost:8080/",
          "height": 85
        }
      },
      "source": [
        "import numpy as np\n",
        "\n",
        "x_train = np.array([1., 2., 3., 4., 5., 6.])\n",
        "y_train = np.array([9., 12., 15., 18., 21., 24.])\n",
        "\n",
        "W = 0.0\n",
        "b = 0.0\n",
        "\n",
        "n_data = len(x_train)\n",
        "\n",
        "epochs = 5000\n",
        "learning_rate = 0.01\n",
        "\n",
        "for i in range(epochs):\n",
        "    hypothesis = x_train * W + b\n",
        "    cost = np.sum((hypothesis - y_train) ** 2) / n_data\n",
        "    gradient_w = np.sum((W * x_train - y_train + b) * 2 * x_train) / n_data\n",
        "    gradient_b = np.sum((W * x_train - y_train + b) * 2) / n_data\n",
        "\n",
        "    # if i % 100 == 0:\n",
        "        # print('Epoch ({:10d}/{:10d}) cost: {:10f}, W: {:10f}, b:{:10f}'.format(i, epochs, cost, W, b))\n",
        "\n",
        "    W -= learning_rate * gradient_w\n",
        "    b -= learning_rate * gradient_b\n",
        "\n",
        "\n",
        "print('W: {:10f}'.format(W))\n",
        "print('b: {:10f}'.format(b))\n",
        "print('result : ')\n",
        "print(x_train * W + b)"
      ],
      "execution_count": 0,
      "outputs": [
        {
          "output_type": "stream",
          "text": [
            "W:   3.000000\n",
            "b:   6.000000\n",
            "result : \n",
            "[ 8.99999996 11.99999997 14.99999998 18.         21.00000001 24.00000002]\n"
          ],
          "name": "stdout"
        }
      ]
    },
    {
      "cell_type": "markdown",
      "metadata": {
        "id": "YOQG9Yc-tG-5",
        "colab_type": "text"
      },
      "source": [
        "###LinearRegression을 사용한 선형회귀"
      ]
    },
    {
      "cell_type": "code",
      "metadata": {
        "id": "y2lelYThko5i",
        "colab_type": "code",
        "colab": {}
      },
      "source": [
        "from sklearn.linear_model import LinearRegression\n",
        "import pandas as pd\n",
        "import numpy as np\n",
        "\n",
        "x_train = np.array([1., 2., 3., 4., 5., 6.])\n",
        "y_train = np.array([9., 12., 15., 18., 21., 24.])\n",
        "df=pd.DataFrame({'X':x_train, 'y':y_train})\n",
        "X=df['X']\n",
        "y=df['y']"
      ],
      "execution_count": 0,
      "outputs": []
    },
    {
      "cell_type": "code",
      "metadata": {
        "id": "Z5Uu8hB6kqQs",
        "colab_type": "code",
        "outputId": "766fa9ea-2baa-4cb8-80e8-857facf3fc4d",
        "colab": {
          "base_uri": "https://localhost:8080/",
          "height": 34
        }
      },
      "source": [
        "m = LinearRegression()\n",
        "m.fit(X.values.reshape(-1,1), y)"
      ],
      "execution_count": 0,
      "outputs": [
        {
          "output_type": "execute_result",
          "data": {
            "text/plain": [
              "LinearRegression(copy_X=True, fit_intercept=True, n_jobs=None, normalize=False)"
            ]
          },
          "metadata": {
            "tags": []
          },
          "execution_count": 83
        }
      ]
    },
    {
      "cell_type": "code",
      "metadata": {
        "id": "HwERRkrundxT",
        "colab_type": "code",
        "outputId": "fc476a82-76a5-42fb-9279-a4970d6394b4",
        "colab": {
          "base_uri": "https://localhost:8080/",
          "height": 34
        }
      },
      "source": [
        "print(m.coef_ , m.intercept_)"
      ],
      "execution_count": 0,
      "outputs": [
        {
          "output_type": "stream",
          "text": [
            "[3.] 5.999999999999998\n"
          ],
          "name": "stdout"
        }
      ]
    },
    {
      "cell_type": "code",
      "metadata": {
        "id": "MUO28Ak9kvDT",
        "colab_type": "code",
        "outputId": "e589cf81-d964-410e-f639-b207f8cea663",
        "colab": {
          "base_uri": "https://localhost:8080/",
          "height": 34
        }
      },
      "source": [
        "y_predicted =m.predict([[7.]])\n",
        "print(y_predicted)"
      ],
      "execution_count": 0,
      "outputs": [
        {
          "output_type": "stream",
          "text": [
            "[27.]\n"
          ],
          "name": "stdout"
        }
      ]
    },
    {
      "cell_type": "markdown",
      "metadata": {
        "id": "xN2RYeALy91f",
        "colab_type": "text"
      },
      "source": [
        "#로지스틱회귀(Logistic Regression) "
      ]
    },
    {
      "cell_type": "code",
      "metadata": {
        "id": "9SPfSawlzBKK",
        "colab_type": "code",
        "colab": {}
      },
      "source": [
        "from sklearn.linear_model import LogisticRegression"
      ],
      "execution_count": 0,
      "outputs": []
    },
    {
      "cell_type": "code",
      "metadata": {
        "id": "3J8tBknuzEJ7",
        "colab_type": "code",
        "colab": {}
      },
      "source": [
        "#LogisticRegression 모델을 생성하고, 그 안에 속성들(features)과 그 레이블(labels)을 fit 시킨다\n",
        "model = LinearRegression()\n",
        "model.fit(features, labels)\n",
        "#fit() 메서드는 모델에 필요한 두 가지 변수를 전달해준다.\n",
        "#계수: model.coef_\n",
        "#절편: model.intercept_"
      ],
      "execution_count": 0,
      "outputs": []
    },
    {
      "cell_type": "code",
      "metadata": {
        "id": "-rLoBvpfzLjR",
        "colab_type": "code",
        "colab": {}
      },
      "source": [
        "#.predict()를 사용하면 새로운 속성들을 넣었을 때 \n",
        "#그 레이블에 속하는지 아닌지 1또는 0으로 구성된 벡터를 반환해준다.\n",
        "model.predict(features)"
      ],
      "execution_count": 0,
      "outputs": []
    },
    {
      "cell_type": "code",
      "metadata": {
        "id": "BBH0kQo3ziBx",
        "colab_type": "code",
        "colab": {}
      },
      "source": [
        "#분류 결과가 아니라, 해당 레이블로 분류될 확률 값을 알고 싶다면 \n",
        "#.predict_proba()를 사용한다. \n",
        "#각 샘플에 대한 확률을 0에서 1사이의 값으로 돌려준다\n",
        "model.predict_proba(features)"
      ],
      "execution_count": 0,
      "outputs": []
    },
    {
      "cell_type": "markdown",
      "metadata": {
        "id": "m8JqqJIOfz4q",
        "colab_type": "text"
      },
      "source": [
        "##타이타닉 탑승객 명단으로 알아본 로지스틱 회귀 분석"
      ]
    },
    {
      "cell_type": "markdown",
      "metadata": {
        "id": "_-u5IRbygKth",
        "colab_type": "text"
      },
      "source": [
        "###1. 데이터 불러오기"
      ]
    },
    {
      "cell_type": "code",
      "metadata": {
        "id": "U8F-5Y3Ff5b6",
        "colab_type": "code",
        "colab": {}
      },
      "source": [
        "import pandas as pd\n",
        "\n",
        "passengers = pd.read_csv(\"passengers.csv\")\n",
        "print(passengers.shape)\n",
        "print(passengers.head())"
      ],
      "execution_count": 0,
      "outputs": []
    },
    {
      "cell_type": "markdown",
      "metadata": {
        "id": "pEq2MfqBgAyR",
        "colab_type": "text"
      },
      "source": [
        "###2. 데이터 전처리하기"
      ]
    },
    {
      "cell_type": "markdown",
      "metadata": {
        "id": "kzYwNREtgPpg",
        "colab_type": "text"
      },
      "source": [
        "####분석에 사용할 feature 고르기\n",
        "일단 생존 여부에 중요한 영향을 미쳤을 것으로 예상하는 값들만 추려보면, Sex, Age, Pcalss를 생각해볼 수 있다. 여성, 어린이, 1/2/3등석 순으로 살아남을 확률이 높다고 가설을 세워본 거다.\n",
        "\n",
        "####문자열을 숫자로 변환하기\n",
        "일단 머신러닝 라이브러리 sklearn에 넣어주기 전에 성별(Sex)는 숫자 데이터 1과 0으로 바꿔주자. 여성이 살아남을 확률이 높을 것 같으니 남성을 0, 여성을 1로 놓자."
      ]
    },
    {
      "cell_type": "code",
      "metadata": {
        "id": "Gll26SGUgE0T",
        "colab_type": "code",
        "colab": {}
      },
      "source": [
        "passengers['Sex'] = passengers['Sex'].map({'female':1,'male':0})"
      ],
      "execution_count": 0,
      "outputs": []
    },
    {
      "cell_type": "markdown",
      "metadata": {
        "id": "yJFCHxMTgY0B",
        "colab_type": "text"
      },
      "source": [
        "####결측치 채워주기\n",
        "데이터를 보면 Age 값이 비어있는 경우가 있다. 이 경우 그냥 평균 값으로 대체해서 넣어주자."
      ]
    },
    {
      "cell_type": "code",
      "metadata": {
        "id": "f7E9uhiPganJ",
        "colab_type": "code",
        "colab": {}
      },
      "source": [
        "passengers['Age'].fillna(value=passengers['Age'].mean(), inplace=True)"
      ],
      "execution_count": 0,
      "outputs": []
    },
    {
      "cell_type": "markdown",
      "metadata": {
        "id": "kXs2dtN_gcqH",
        "colab_type": "text"
      },
      "source": [
        "####feature 분리하기\n",
        "Pcalss의 경우 1등석에 탔는지, 2등석에 탔는지에 대해 각각의 feature로 만들어주기 위해 컬럼을 새로 생성해보자."
      ]
    },
    {
      "cell_type": "code",
      "metadata": {
        "id": "i34346xnggch",
        "colab_type": "code",
        "colab": {}
      },
      "source": [
        "passengers['FirstClass'] = passengers['Pclass'].apply(lambda x: 1 if x == 1 else 0)\n",
        "passengers['SecondClass'] = passengers['Pclass'].apply(lambda x: 1 if x == 2 else 0)"
      ],
      "execution_count": 0,
      "outputs": []
    },
    {
      "cell_type": "markdown",
      "metadata": {
        "id": "m2Sly6BfgimC",
        "colab_type": "text"
      },
      "source": [
        "이제 데이터 세트를 이렇게 준비"
      ]
    },
    {
      "cell_type": "code",
      "metadata": {
        "id": "lTmDZJj-glwQ",
        "colab_type": "code",
        "colab": {}
      },
      "source": [
        "features = passengers[['Sex', 'Age', 'FirstClass', 'SecondClass']]\n",
        "survival = passengers['Survived']"
      ],
      "execution_count": 0,
      "outputs": []
    },
    {
      "cell_type": "markdown",
      "metadata": {
        "id": "OQyMLVOugspp",
        "colab_type": "text"
      },
      "source": [
        "###3. 학습세트/평가세트 분리하기"
      ]
    },
    {
      "cell_type": "code",
      "metadata": {
        "id": "JmkV6Jahgt0s",
        "colab_type": "code",
        "colab": {}
      },
      "source": [
        "from sklearn.model_selection import train_test_split\n",
        "\n",
        "train_features, test_features, train_labels, test_labels = train_test_split(features, survival)"
      ],
      "execution_count": 0,
      "outputs": []
    },
    {
      "cell_type": "markdown",
      "metadata": {
        "id": "ux3gaOs3gwpU",
        "colab_type": "text"
      },
      "source": [
        "###4. 데이터 정규화(스케일링) 하기\n",
        "로지스틱 회귀는 실행할 때 regularation을 사용하기 때문에 그 전에 반드시 우리가 가진 데이터를 스케일링하는 작업이 필요하다. (이 부분은 이해 안 가더라도 일단 그냥 해야 된다고 생각하자.)\n",
        "\n",
        "sklearn이 제공하는 StandardScaler를 활용해서 손쉽게 할 수 있다. StandardScaler는 평균 0, 표준편차 1로 변환하는 방법이지만 이외에도 최소값 0, 최대값 1이 되도록 변환하는 MinMaxScaler, 중앙값(median) 0, IQR(interquartile range) 1이 되도록 변환하는 RobustScaler 등이 있다.\n",
        "\n",
        "StandardScaler를 사용하면 아래와 같이 데이터를 정규화(스케일링) 할 수 있다."
      ]
    },
    {
      "cell_type": "code",
      "metadata": {
        "id": "5iOQeKv4g1FB",
        "colab_type": "code",
        "colab": {}
      },
      "source": [
        "from sklearn.preprocessing import StandardScaler\n",
        "\n",
        "scaler = StandardScaler()\n",
        "\n",
        "train_features = scaler.fit_transform(train_features)\n",
        "test_features = scaler.transform(test_features)"
      ],
      "execution_count": 0,
      "outputs": []
    },
    {
      "cell_type": "markdown",
      "metadata": {
        "id": "6Yw9npluhBEq",
        "colab_type": "text"
      },
      "source": [
        "fit_transform 은 fit과 transform을 합친 건데, fit은 일단 각 속성(feature)마다 컬럼을 만드는 작업이라고 생각하면 된다. 이후 transform을 통해 데이터를 변형시키는 거다.\n",
        "\n",
        "그래서 위 코드에서도 학습세트로 fit을 한 번 해주었기 때문에, 평가세트에서는 별도로 fit을 할 필요 없이 바로 transform하면 되는 거다.\n",
        "###5. 모델 생성 및 평가하기\n",
        "모델을 생성하는 방법은 아래와 같다."
      ]
    },
    {
      "cell_type": "code",
      "metadata": {
        "id": "4LGTeqquhCA8",
        "colab_type": "code",
        "colab": {}
      },
      "source": [
        "from sklearn.linear_model import LogisticRegression\n",
        "\n",
        "model = LogisticRegression()\n",
        "model.fit(train_features, train_labels)"
      ],
      "execution_count": 0,
      "outputs": []
    },
    {
      "cell_type": "markdown",
      "metadata": {
        "id": "66vDJuQ6hLCh",
        "colab_type": "text"
      },
      "source": [
        "데이터만 넣어주고 fit 해주면 끝이다.\n",
        "\n",
        "그러면 이제 학습 세트로 정확도를 바로 찍어볼 수 있다."
      ]
    },
    {
      "cell_type": "code",
      "metadata": {
        "id": "gyav6jJdhL8o",
        "colab_type": "code",
        "colab": {}
      },
      "source": [
        "print(model.score(train_features, train_labels))"
      ],
      "execution_count": 0,
      "outputs": []
    },
    {
      "cell_type": "markdown",
      "metadata": {
        "id": "bOv9AK1mhUKS",
        "colab_type": "text"
      },
      "source": [
        "각 feature들의 계수(coefficients)를 확인해볼 차례다. 어떤 feature가 생존에 큰 영향을 주는지 확인"
      ]
    },
    {
      "cell_type": "code",
      "metadata": {
        "id": "c7xfVBx8hU5v",
        "colab_type": "code",
        "colab": {}
      },
      "source": [
        "print(model.coef_)"
      ],
      "execution_count": 0,
      "outputs": []
    },
    {
      "cell_type": "markdown",
      "metadata": {
        "id": "SwHWYHELhbib",
        "colab_type": "text"
      },
      "source": [
        "Sex, Age, FirstClass, SecondClass 순으로 넣었기 때문에 그 순서대로 확인해주면 된다. 성별이 1(여자)이고, 일등석 탑승 여부가 중요하다는 걸 알 수 있다. 반면 나이에 대한 계수는 음수가 나오는데 나이가 많을수록 생존 확률이 낮아진다는 의미로 이해하면 되겠다.\n",
        "\n",
        "###5. 예측하기\n",
        "이번엔 새로운 데이터를 넣어서 예측해보자.\n",
        "\n",
        "예를 들면 아래와 같이 타이타닉 영화 실제 주인공이었던 Jack, Rose의 값을 임의로 만들고, 내 정보도 넣어봤다. (가상이니까… 1등석에 탄 걸로 해봤다.)"
      ]
    },
    {
      "cell_type": "code",
      "metadata": {
        "id": "g5Ote9iDhhEQ",
        "colab_type": "code",
        "colab": {}
      },
      "source": [
        "import numpy as np\n",
        "\n",
        "Jack = np.array([0.0, 20.0, 0.0, 0.0])\n",
        "Rose = np.array([1.0, 17.0, 1.0, 0.0])\n",
        "ME = np.array([0.0, 32.0, 1.0, 0.0])\n",
        "\n",
        "sample_passengers = np.array([Jack, Rose, ME])"
      ],
      "execution_count": 0,
      "outputs": []
    },
    {
      "cell_type": "markdown",
      "metadata": {
        "id": "G6dbvvMBhnO2",
        "colab_type": "text"
      },
      "source": [
        "그 다음 위에서 했던 것처럼 데이터 스케일링을 다시 해줘야 한다."
      ]
    },
    {
      "cell_type": "code",
      "metadata": {
        "id": "hJbKS08HhoOI",
        "colab_type": "code",
        "colab": {}
      },
      "source": [
        "sample_passengers = scaler.transform(sample_passengers)"
      ],
      "execution_count": 0,
      "outputs": []
    },
    {
      "cell_type": "markdown",
      "metadata": {
        "id": "EgVL4ZmFhsxY",
        "colab_type": "text"
      },
      "source": [
        "예측을 해보자."
      ]
    },
    {
      "cell_type": "code",
      "metadata": {
        "id": "P1MHzYVfhteH",
        "colab_type": "code",
        "colab": {}
      },
      "source": [
        "print(model.predict(sample_passengers))"
      ],
      "execution_count": 0,
      "outputs": []
    },
    {
      "cell_type": "markdown",
      "metadata": {
        "id": "oZmyi4l1hv43",
        "colab_type": "text"
      },
      "source": [
        "Rose만 살고 Jack과 나는 죽는 걸로 나온다."
      ]
    },
    {
      "cell_type": "code",
      "metadata": {
        "id": "f4ToxQ3Mh0ee",
        "colab_type": "code",
        "colab": {}
      },
      "source": [
        "print(model.predict_proba(sample_passengers))"
      ],
      "execution_count": 0,
      "outputs": []
    },
    {
      "cell_type": "markdown",
      "metadata": {
        "id": "9-1qDysHh4rU",
        "colab_type": "text"
      },
      "source": [
        "확률을 확인해보자."
      ]
    },
    {
      "cell_type": "markdown",
      "metadata": {
        "id": "oeE8cqtC3nhf",
        "colab_type": "text"
      },
      "source": [
        "#서포트 벡터 머신(Support Vector Machine)"
      ]
    },
    {
      "cell_type": "code",
      "metadata": {
        "id": "6L5gyjOt3wwJ",
        "colab_type": "code",
        "outputId": "d828766e-4b3f-42ca-9af7-4828bf212f2d",
        "colab": {
          "base_uri": "https://localhost:8080/",
          "height": 85
        }
      },
      "source": [
        "\n",
        "from sklearn.svm import SVC\n",
        "\n",
        "classifier = SVC(kernel = 'linear')\n",
        "\n",
        "training_points = [[1, 2], [1, 5], [2, 2], [7, 5], [9, 4], [8, 2]]\n",
        "labels = [1, 1, 1, 0, 0, 0]\n",
        "\n",
        "classifier.fit(training_points, labels) "
      ],
      "execution_count": 0,
      "outputs": [
        {
          "output_type": "execute_result",
          "data": {
            "text/plain": [
              "SVC(C=1.0, break_ties=False, cache_size=200, class_weight=None, coef0=0.0,\n",
              "    decision_function_shape='ovr', degree=3, gamma='scale', kernel='linear',\n",
              "    max_iter=-1, probability=False, random_state=None, shrinking=True,\n",
              "    tol=0.001, verbose=False)"
            ]
          },
          "metadata": {
            "tags": []
          },
          "execution_count": 1
        }
      ]
    },
    {
      "cell_type": "code",
      "metadata": {
        "id": "M6WFGszn3_rz",
        "colab_type": "code",
        "outputId": "20b4b7a5-c1f1-45c4-e9c0-1a7724908f56",
        "colab": {
          "base_uri": "https://localhost:8080/",
          "height": 34
        }
      },
      "source": [
        "#.predict() 메서드를 통해 분류를 해볼 수 있다. \n",
        "#예를 들어 [3, 2]라는 데이터를 넣어 예측을 하려면 \n",
        "print(classifier.predict([[3, 2]]))\n",
        "# 결과가 1이면 빨간 점, 0이면 파란 점"
      ],
      "execution_count": 0,
      "outputs": [
        {
          "output_type": "stream",
          "text": [
            "[1]\n"
          ],
          "name": "stdout"
        }
      ]
    },
    {
      "cell_type": "code",
      "metadata": {
        "id": "grSzBhPQ4InR",
        "colab_type": "code",
        "outputId": "af103cb3-08c3-46ce-b86b-ba168cc7b108",
        "colab": {
          "base_uri": "https://localhost:8080/",
          "height": 68
        }
      },
      "source": [
        "#서포트 벡터, 결정 경계를 정의하는 서포트 벡터를 확인하려면\n",
        "print(classifier.support_vectors_)"
      ],
      "execution_count": 0,
      "outputs": [
        {
          "output_type": "stream",
          "text": [
            "[[7. 5.]\n",
            " [8. 2.]\n",
            " [2. 2.]]\n"
          ],
          "name": "stdout"
        }
      ]
    },
    {
      "cell_type": "markdown",
      "metadata": {
        "id": "nQbDAFYVtj6u",
        "colab_type": "text"
      },
      "source": [
        "#의사결정 나무(Decision Tree)"
      ]
    },
    {
      "cell_type": "code",
      "metadata": {
        "id": "PRHERLAZtjQW",
        "colab_type": "code",
        "colab": {}
      },
      "source": [
        "import math\n",
        "from collections import defaultdict, Counter\n",
        "from functools import partial"
      ],
      "execution_count": 0,
      "outputs": []
    },
    {
      "cell_type": "markdown",
      "metadata": {
        "id": "mJ-CZsaNQ_xG",
        "colab_type": "text"
      },
      "source": [
        "###데이터셋\n",
        "목표는 해당 학습 데이터 세트로 특정 직원이 인터뷰를 잘 할 수 있을지 예측하는 것이다. 데이터는 직원의 직급과 사용하는 프로그래밍 언어, 트위터 계정 유무, 박사 학위 유무와, 라벨로서 과거 인터뷰 평가(잘했으면 True, 아니면 False) 내역이 주어져있다."
      ]
    },
    {
      "cell_type": "code",
      "metadata": {
        "id": "4Pv-29E4QuUD",
        "colab_type": "code",
        "colab": {}
      },
      "source": [
        "dataset = [\n",
        "    ({'level': 'Senior', 'lang': 'Java', 'tweets': 'no', 'phd': 'no'}, False),\n",
        "    ({'level': 'Senior', 'lang': 'Java', 'tweets': 'no', 'phd': 'yes'}, False),\n",
        "    ({'level': 'Mid', 'lang': 'Python', 'tweets': 'no', 'phd': 'no'}, True),\n",
        "    ({'level': 'Junior', 'lang': 'Python', 'tweets': 'no', 'phd': 'no'}, True),\n",
        "    ({'level': 'Junior', 'lang': 'R', 'tweets': 'yes', 'phd': 'no'}, True),\n",
        "    ({'level': 'Junior', 'lang': 'R', 'tweets': 'yes', 'phd': 'yes'}, False),\n",
        "    ({'level': 'Mid', 'lang': 'R', 'tweets': 'yes', 'phd': 'yes'}, True),\n",
        "    ({'level': 'Senior', 'lang': 'Python', 'tweets': 'no', 'phd': 'no'}, False),\n",
        "    ({'level': 'Senior', 'lang': 'R', 'tweets': 'yes', 'phd': 'no'}, True),\n",
        "    ({'level': 'Junior', 'lang': 'Python', 'tweets': 'yes', 'phd': 'no'}, True),\n",
        "    ({'level': 'Senior', 'lang': 'Python', 'tweets': 'yes', 'phd': 'yes'}, True),\n",
        "    ({'level': 'Mid', 'lang': 'Python', 'tweets': 'no', 'phd': 'yes'}, True),\n",
        "    ({'level': 'Mid', 'lang': 'Java', 'tweets': 'yes', 'phd': 'no'}, True),\n",
        "    ({'level': 'Junior', 'lang': 'Python', 'tweets': 'no', 'phd': 'yes'}, False)\n",
        "]"
      ],
      "execution_count": 0,
      "outputs": []
    },
    {
      "cell_type": "markdown",
      "metadata": {
        "id": "-W_SArb4RIeV",
        "colab_type": "text"
      },
      "source": [
        "###셰넌 엔트로피\n",
        "어떤 상태가 얼마만큼의 정보를 담고 있는가를 측정한 것이다. \n",
        "이는 정보량이라 표현할 수 있으며, 정보이론의 기초를 따르면 \n",
        "정보를 더 많이 알면 알수록 새롭게 알 수 있는 정보는 적어지므로, \n",
        "엔트로피가 높을수록 새로운 정보일 가능성이 높다. \n",
        "이는 다시말하면, 정보량은 상태의 불확실성과 관계가 있다. "
      ]
    },
    {
      "cell_type": "code",
      "metadata": {
        "id": "L4c4kfiGQ0E-",
        "colab_type": "code",
        "colab": {}
      },
      "source": [
        "def entropy(class_probabilities):\n",
        "    return sum(-p * math.log(p, 2) for p in class_probabilities if p)"
      ],
      "execution_count": 0,
      "outputs": []
    },
    {
      "cell_type": "markdown",
      "metadata": {
        "id": "gxNXPwWzRO-8",
        "colab_type": "text"
      },
      "source": [
        "###데이터셋의 라벨에 대한 확률분포\n",
        "데이터셋에서 각 데이터가 특정 라벨에 속할 확률 계산. \n",
        "\n",
        "이 코드에 데이터셋을 넣어서 결과를 확인하면, \n",
        "[0.35714285714, 0.64285714] 이다. \n",
        "각각 False, True 라벨에 속할 확률이다."
      ]
    },
    {
      "cell_type": "code",
      "metadata": {
        "id": "L3ikoKfMQ5wO",
        "colab_type": "code",
        "colab": {}
      },
      "source": [
        "def class_probabilities(dataset):\n",
        "    '''학습데이터로 특정 라벨에 속할 확률 구하기: [False에 속할 확률, True에 속할 확률]'''\n",
        "    labels = [label for _, label in dataset]\n",
        "    total_count = len(labels) # 데이터셋 총 개수\n",
        "    return [count / total_count for count in Counter(labels).values()]"
      ],
      "execution_count": 0,
      "outputs": []
    },
    {
      "cell_type": "markdown",
      "metadata": {
        "id": "ysBmY-GrRalF",
        "colab_type": "text"
      },
      "source": [
        "데이터셋의 엔트로피"
      ]
    },
    {
      "cell_type": "code",
      "metadata": {
        "id": "EdrFBBowRtsl",
        "colab_type": "code",
        "colab": {}
      },
      "source": [
        "def data_entropy(dataset):\n",
        "    probabilities = class_probabilities(dataset)\n",
        "    return entropy(probabilities)"
      ],
      "execution_count": 0,
      "outputs": []
    },
    {
      "cell_type": "markdown",
      "metadata": {
        "id": "gRU5f_NFRz49",
        "colab_type": "text"
      },
      "source": [
        "이는 전체 데이터셋에 대한 엔트로피이다. 하지만, 결정 트리의 각 레벨을 넘기다보면 데이터셋이 분할되므로, 여러개로 분할된 각각의 데이터셋의 엔트로피를 조합하여 전체 데이터셋의 엔트로피를 구할 수 있어야 한다. 이는 각 엔트로피의 가중합으로 정의할 수 있다."
      ]
    },
    {
      "cell_type": "code",
      "metadata": {
        "id": "qGY5bFPmRy53",
        "colab_type": "code",
        "colab": {}
      },
      "source": [
        "def partition_entropy(subsets):\n",
        "    total_count = sum(len(subset) for subset in subsets) # q를 구하기 위한 전체 데이터셋 길이\n",
        "    return sum(data_entropy(subset) * (len(subset) / total_count)\n",
        "              for subset in subsets)"
      ],
      "execution_count": 0,
      "outputs": []
    },
    {
      "cell_type": "markdown",
      "metadata": {
        "id": "Zy35WdTRR9Kb",
        "colab_type": "text"
      },
      "source": [
        "###Decision tree 생성 알고리즘\n",
        "ID3 알고리즘에 기반하면, 기본은 그리디 알고리즘이며, 이는 각 순간마다 최적의 선택을 한다는 뜻이다. 최적의 선택 기준은 위에서 설명한 엔트로피가 될 것이고, 모든 단계를 지나면 특정값이 나와야 하므로, 엔트로피가 작은쪽이 최적의 선택이라 할 수 있겠다. 결정트리의 기본적인 로직은 각 속성에 대하여 파티션을 나누고 단계를 진행하면 할 수록 엔트로피는 최소값이 되어 이는 결국 결과값이 되는 것이다.\n",
        "\n",
        "이를 기반하여, 데이터셋을 속성에 따라 파티셔닝해야 하므로, 이를 코드화하면 아래와 같다."
      ]
    },
    {
      "cell_type": "code",
      "metadata": {
        "id": "oKxJyUISR8GI",
        "colab_type": "code",
        "colab": {}
      },
      "source": [
        "def partition_by(inputs, attribute):\n",
        "    groups = defaultdict(list)\n",
        "    for input in inputs:\n",
        "        key = input[0][attribute]\n",
        "        groups[key].append(input)\n",
        "    return groups"
      ],
      "execution_count": 0,
      "outputs": []
    },
    {
      "cell_type": "markdown",
      "metadata": {
        "id": "ExVyO2AbSDgt",
        "colab_type": "text"
      },
      "source": [
        "각 파티션에 의해 분할된 데이터셋들의 전체 엔트로피가 기준이 된다고 하였으므로, 이를 코드화하면 아래와 같다."
      ]
    },
    {
      "cell_type": "code",
      "metadata": {
        "id": "AhRszRX7SGBB",
        "colab_type": "code",
        "colab": {}
      },
      "source": [
        "def partition_entropy_by(inputs, attribute):\n",
        "    partitions = partition_by(inputs, attribute)\n",
        "    return partition_entropy(partitions.values())"
      ],
      "execution_count": 0,
      "outputs": []
    },
    {
      "cell_type": "markdown",
      "metadata": {
        "id": "kFhocKOZSJCc",
        "colab_type": "text"
      },
      "source": [
        "이를 이용하여, 각 파티션에 대한 엔트로피를 구하여 최소화되는 파티션을 구하고, 서브트리를 만들 수 있다. 먼저 전체 데이터셋에서 엔트로피가 최소화되는 속성을 구해야 한다."
      ]
    },
    {
      "cell_type": "code",
      "metadata": {
        "id": "eKiRCVO0SLhc",
        "colab_type": "code",
        "outputId": "c0929fc5-1a15-4cc0-b4fd-7f46c10e654b",
        "colab": {
          "base_uri": "https://localhost:8080/",
          "height": 85
        }
      },
      "source": [
        "for key in ['level', 'lang', 'tweets', 'phd']:\n",
        "    print(key, partition_entropy_by(dataset, key))\n",
        "\n",
        "# level 0.693536138896\n",
        "# lang 0.860131712855\n",
        "# tweets 0.788450457308\n",
        "# phd 0.892158928262"
      ],
      "execution_count": 0,
      "outputs": [
        {
          "output_type": "stream",
          "text": [
            "level 0.6935361388961918\n",
            "lang 0.8601317128547441\n",
            "tweets 0.7884504573082896\n",
            "phd 0.8921589282623617\n"
          ],
          "name": "stdout"
        }
      ]
    },
    {
      "cell_type": "markdown",
      "metadata": {
        "id": "p9ynjJXsSRld",
        "colab_type": "text"
      },
      "source": [
        "level 속성으로 분할하면 엔트로피가 가장 낮아지므로, 결정트리의 루트 노드는 level 속성으로 분할해야 할 것이다. 분할된 데이터셋은 각각 Senior, Mid, Junior 셋이므로 이 세개의 셋에 대하여 각각 서브트리를 구해야한다.\n",
        "\n",
        "먼저 Mid 셋을 보면, 모든 클래스의 값이 True 이므로, 서브트리를 만들 필요없이 True를 리턴한다.\n",
        "\n",
        "Senior 셋을 보면, tweets로 분할한 데이터셋들의 엔트로피가 0이므로, tweets로 분할하여 서브트리를 만든다.\n",
        "\n",
        "Junior 셋을 보면, phd로 분할하면 엔트로피가 0이므로, phd로 분할하여 서브트리를 만든다.\n",
        "\n",
        "이를 도식화하면, 아래와 같다."
      ]
    },
    {
      "cell_type": "code",
      "metadata": {
        "id": "IEjrqUc5SSvb",
        "colab_type": "code",
        "colab": {}
      },
      "source": [
        "#  level? -- Senior --> tweets? -- no --> False\n",
        "#         |                     |- yes --> True\n",
        "#         |- Mid --> True\n",
        "#         |- Junior --> phd? -- no --> True\n",
        "#                            |- yes --> False"
      ],
      "execution_count": 0,
      "outputs": []
    },
    {
      "cell_type": "markdown",
      "metadata": {
        "id": "ciUHaGKsSYjt",
        "colab_type": "text"
      },
      "source": [
        "이 과정을 자동화하면 다음과 같다.\n",
        "\n",
        "첫째로, ID3 알고리즘을 구현하면, 아래와 같다."
      ]
    },
    {
      "cell_type": "code",
      "metadata": {
        "id": "5WTVogjcSZbW",
        "colab_type": "code",
        "colab": {}
      },
      "source": [
        "def build_tree_id3(inputs, split_candidates=None):\n",
        "    if split_candidates is None:\n",
        "        split_candidates = inputs[0][0].keys()\n",
        "\n",
        "    num_inputs = len(inputs)\n",
        "    num_trues = len([label for item, label in inputs if label])\n",
        "    num_falses = num_inputs - num_trues\n",
        "\n",
        "    if num_trues == 0:\n",
        "        return False\n",
        "    if num_falses == 0:\n",
        "        return True\n",
        "\n",
        "    if not split_candidates:\n",
        "        return num_trues >= num_falses\n",
        "\n",
        "    best_attribute = min(split_candidates, key=partial(partition_entropy_by, inputs))\n",
        "\n",
        "    partitions = partition_by(inputs, best_attribute)\n",
        "    new_candidates = [a for a in split_candidates\n",
        "                     if a != best_attribute]\n",
        "\n",
        "    subtrees = { attribute_value: build_tree_id3(subset, new_candidates)\n",
        "        for attribute_value, subset in partitions.items() }\n",
        "\n",
        "    subtrees[None] = num_trues > num_falses \n",
        "    return (best_attribute, subtrees)"
      ],
      "execution_count": 0,
      "outputs": []
    },
    {
      "cell_type": "markdown",
      "metadata": {
        "id": "iiw44EgLSc3R",
        "colab_type": "text"
      },
      "source": [
        "이후, 분류기를 구현하면 다음과 같다."
      ]
    },
    {
      "cell_type": "code",
      "metadata": {
        "id": "ZSts7HXdSfYv",
        "colab_type": "code",
        "colab": {}
      },
      "source": [
        "  def classify(tree, input):\n",
        "    if tree in [True, False]:\n",
        "        return tree\n",
        "    attribute, subtree_dict = tree\n",
        "    subtree_key = input.get(attribute)\n",
        "    if subtree_key not in subtree_dict:\n",
        "        subtree_key = None\n",
        "    subtree = subtree_dict[subtree_key]\n",
        "    return classify(subtree, input)"
      ],
      "execution_count": 0,
      "outputs": []
    },
    {
      "cell_type": "markdown",
      "metadata": {
        "id": "B1ue_aHrSkcT",
        "colab_type": "text"
      },
      "source": [
        "###결과 #\n",
        "아래와 같은 새로운 직원 데이터에 대하여 이 직원이 인터뷰를 잘할 수 있을지 예측해보자."
      ]
    },
    {
      "cell_type": "code",
      "metadata": {
        "id": "lMHRpzk1SnnT",
        "colab_type": "code",
        "outputId": "4fc525ec-312d-4281-daf9-18e367ddb7d7",
        "colab": {
          "base_uri": "https://localhost:8080/",
          "height": 34
        }
      },
      "source": [
        "# 새로운 데이터\n",
        "data = {\"level\": \"Junior\", \"lang\": \"Java\", \"tweets\": \"yes\"}\n",
        "\n",
        "# 학습데이터를 이용하여 결정트리 생성\n",
        "tree = build_tree_id3(dataset)\n",
        "# 실제로 분류해보기\n",
        "classify(tree, data)\n",
        "# 결과: True"
      ],
      "execution_count": 0,
      "outputs": [
        {
          "output_type": "execute_result",
          "data": {
            "text/plain": [
              "True"
            ]
          },
          "metadata": {
            "tags": []
          },
          "execution_count": 53
        }
      ]
    },
    {
      "cell_type": "markdown",
      "metadata": {
        "id": "iDyupmx0Iy26",
        "colab_type": "text"
      },
      "source": [
        "#k-Means 군집분석"
      ]
    },
    {
      "cell_type": "code",
      "metadata": {
        "id": "9Z37LrrAI58R",
        "colab_type": "code",
        "outputId": "4bde04a9-7e3b-4ab3-e30a-cf75c869359b",
        "colab": {
          "base_uri": "https://localhost:8080/",
          "height": 71
        }
      },
      "source": [
        "import numpy as np\n",
        "import pandas as pd\n",
        "import numpy.matlib\n",
        "import matplotlib.pyplot as plt\n",
        "import seaborn as sns\n",
        "\n",
        "url ='https://raw.githubusercontent.com/jimsjoo/DL/master/dataset/titanic_train.csv'\n",
        "titanic = pd.read_csv(url)"
      ],
      "execution_count": 0,
      "outputs": [
        {
          "output_type": "stream",
          "text": [
            "/usr/local/lib/python3.6/dist-packages/statsmodels/tools/_testing.py:19: FutureWarning: pandas.util.testing is deprecated. Use the functions in the public API at pandas.testing instead.\n",
            "  import pandas.util.testing as tm\n"
          ],
          "name": "stderr"
        }
      ]
    },
    {
      "cell_type": "code",
      "metadata": {
        "id": "OAkileDeI_wS",
        "colab_type": "code",
        "colab": {}
      },
      "source": [
        "cluster_data = titanic[['Fare','Age']].copy(deep=True)\n",
        "cluster_data.dropna(axis=0, inplace=True)\n",
        "cluster_data.sort_values(by=['Fare','Age'], inplace=True)\n",
        "cluster_array = np.array(cluster_data)"
      ],
      "execution_count": 0,
      "outputs": []
    },
    {
      "cell_type": "code",
      "metadata": {
        "id": "A7fw0sa3JNtX",
        "colab_type": "code",
        "outputId": "a72f89ac-a99d-4c4b-d0f0-7b4769d5143e",
        "colab": {
          "base_uri": "https://localhost:8080/",
          "height": 187
        }
      },
      "source": [
        "\n",
        "print(cluster_array[0:10])"
      ],
      "execution_count": 0,
      "outputs": [
        {
          "output_type": "stream",
          "text": [
            "[[ 0.     19.    ]\n",
            " [ 0.     25.    ]\n",
            " [ 0.     36.    ]\n",
            " [ 0.     38.    ]\n",
            " [ 0.     39.    ]\n",
            " [ 0.     40.    ]\n",
            " [ 0.     49.    ]\n",
            " [ 4.0125 20.    ]\n",
            " [ 5.     33.    ]\n",
            " [ 6.2375 61.    ]]\n"
          ],
          "name": "stdout"
        }
      ]
    },
    {
      "cell_type": "code",
      "metadata": {
        "id": "jUe-gVK_JO7p",
        "colab_type": "code",
        "colab": {}
      },
      "source": [
        "# Calculate Euclidean distance between two observations\n",
        "def calc_distance(X1, X2):\n",
        "    return (sum((X1 - X2)**2))**0.5\n",
        "\n",
        "# Assign cluster clusters based on closest centroid\n",
        "def assign_clusters(centroids, cluster_array):\n",
        "    clusters = []\n",
        "    for i in range(cluster_array.shape[0]):\n",
        "        distances = []\n",
        "        for centroid in centroids:\n",
        "            distances.append(calc_distance(centroid, \n",
        "                                           cluster_array[i]))\n",
        "        cluster = [z for z, val in enumerate(distances) if val==min(distances)]\n",
        "        clusters.append(cluster[0])\n",
        "    return clusters\n",
        "\n",
        "# Calculate new centroids based on each cluster's mean\n",
        "def calc_centroids(clusters, cluster_array):\n",
        "    new_centroids = []\n",
        "    cluster_df = pd.concat([pd.DataFrame(cluster_array),\n",
        "                            pd.DataFrame(clusters, \n",
        "                                         columns=['cluster'])], \n",
        "                           axis=1)\n",
        "    for c in set(cluster_df['cluster']):\n",
        "        current_cluster = cluster_df[cluster_df['cluster']\\\n",
        "                                     ==c][cluster_df.columns[:-1]]\n",
        "        cluster_mean = current_cluster.mean(axis=0)\n",
        "        new_centroids.append(cluster_mean)\n",
        "    return new_centroids\n",
        "\n",
        "# Calculate variance within each cluster\n",
        "def calc_centroid_variance(clusters, cluster_array):\n",
        "    sum_squares = []\n",
        "    cluster_df = pd.concat([pd.DataFrame(cluster_array),\n",
        "                            pd.DataFrame(clusters, \n",
        "                                         columns=['cluster'])], \n",
        "                           axis=1)\n",
        "    for c in set(cluster_df['cluster']):\n",
        "        current_cluster = cluster_df[cluster_df['cluster']\\\n",
        "                                     ==c][cluster_df.columns[:-1]]\n",
        "        cluster_mean = current_cluster.mean(axis=0)\n",
        "        mean_repmat = np.matlib.repmat(cluster_mean, \n",
        "                                       current_cluster.shape[0],1)\n",
        "        sum_squares.append(np.sum(np.sum((current_cluster - mean_repmat)**2)))\n",
        "    return sum_squares"
      ],
      "execution_count": 0,
      "outputs": []
    },
    {
      "cell_type": "code",
      "metadata": {
        "id": "mSHcR4kBJUvU",
        "colab_type": "code",
        "outputId": "9c0fcb42-7b7f-4182-b5d8-602267c68efd",
        "colab": {
          "base_uri": "https://localhost:8080/",
          "height": 374
        }
      },
      "source": [
        "k = 4\n",
        "cluster_vars = []\n",
        "\n",
        "centroids = [cluster_array[i+2] for i in range(k)]\n",
        "clusters = assign_clusters(centroids, cluster_array)\n",
        "initial_clusters = clusters\n",
        "print(0, round(np.mean(calc_centroid_variance(clusters, cluster_array))))\n",
        "\n",
        "for i in range(20):\n",
        "    centroids = calc_centroids(clusters, cluster_array)\n",
        "    clusters = assign_clusters(centroids, cluster_array)\n",
        "    cluster_var = np.mean(calc_centroid_variance(clusters, \n",
        "                                                 cluster_array))\n",
        "    cluster_vars.append(cluster_var)\n",
        "    print(i+1, round(cluster_var))"
      ],
      "execution_count": 0,
      "outputs": [
        {
          "output_type": "stream",
          "text": [
            "0 507874.0\n",
            "1 259347.0\n",
            "2 229172.0\n",
            "3 182890.0\n",
            "4 145160.0\n",
            "5 128549.0\n",
            "6 120822.0\n",
            "7 111083.0\n",
            "8 108858.0\n",
            "9 108504.0\n",
            "10 108219.0\n",
            "11 107999.0\n",
            "12 107851.0\n",
            "13 107678.0\n",
            "14 107171.0\n",
            "15 106905.0\n",
            "16 106818.0\n",
            "17 106803.0\n",
            "18 106799.0\n",
            "19 106798.0\n",
            "20 106796.0\n"
          ],
          "name": "stdout"
        }
      ]
    },
    {
      "cell_type": "code",
      "metadata": {
        "id": "RqXD6dJ0JaQC",
        "colab_type": "code",
        "outputId": "69756b95-2854-43a1-948d-89cbd09420e2",
        "colab": {
          "base_uri": "https://localhost:8080/",
          "height": 388
        }
      },
      "source": [
        "\n",
        "plt.subplots(figsize=(9,6))\n",
        "plt.plot(cluster_vars)\n",
        "plt.xlabel('Iterations')\n",
        "plt.ylabel('Mean Sum of Squared Deviations');\n",
        "plt.savefig('mean_ssd', bpi=150)"
      ],
      "execution_count": 0,
      "outputs": [
        {
          "output_type": "display_data",
          "data": {
            "image/png": "[encoded data removed]",
            "text/plain": [
              "<Figure size 648x432 with 1 Axes>"
            ]
          },
          "metadata": {
            "tags": [],
            "needs_background": "light"
          }
        }
      ]
    },
    {
      "cell_type": "code",
      "metadata": {
        "id": "ydsWcnUmJdVF",
        "colab_type": "code",
        "outputId": "183618e0-a2e0-45d7-ebd9-61ba4ea10ecc",
        "colab": {
          "base_uri": "https://localhost:8080/",
          "height": 388
        }
      },
      "source": [
        "\n",
        "plt.subplots(figsize=(9,6))\n",
        "plt.scatter(x=cluster_array[:,0], y=cluster_array[:,1], \n",
        "            c=initial_clusters, cmap=plt.cm.Spectral);\n",
        "plt.xlabel('Passenger Fare')\n",
        "plt.ylabel('Passenger Age');\n",
        "plt.savefig('initial_clusters', bpi=150)"
      ],
      "execution_count": 0,
      "outputs": [
        {
          "output_type": "display_data",
          "data": {
            "image/png": "[encoded data removed]",
            "text/plain": [
              "<Figure size 648x432 with 1 Axes>"
            ]
          },
          "metadata": {
            "tags": [],
            "needs_background": "light"
          }
        }
      ]
    },
    {
      "cell_type": "code",
      "metadata": {
        "id": "pQIFkopuJeIx",
        "colab_type": "code",
        "outputId": "6dccaa0a-1aab-4f47-fb71-868f77dfa7e2",
        "colab": {
          "base_uri": "https://localhost:8080/",
          "height": 388
        }
      },
      "source": [
        "\n",
        "plt.subplots(figsize=(9,6))\n",
        "plt.scatter(x=cluster_array[:,0], y=cluster_array[:,1], \n",
        "            c=clusters, cmap=plt.cm.Spectral);\n",
        "plt.xlabel('Passenger Fare')\n",
        "plt.ylabel('Passenger Age');\n",
        "plt.savefig('final_clusters', bpi=150)"
      ],
      "execution_count": 0,
      "outputs": [
        {
          "output_type": "display_data",
          "data": {
            "image/png": "[encoded data removed]",
            "text/plain": [
              "<Figure size 648x432 with 1 Axes>"
            ]
          },
          "metadata": {
            "tags": [],
            "needs_background": "light"
          }
        }
      ]
    },
    {
      "cell_type": "code",
      "metadata": {
        "id": "moRzH40LJiPQ",
        "colab_type": "code",
        "colab": {}
      },
      "source": [
        "results_df = cluster_data.join(titanic[['Survived']], \n",
        "                               how='left').reset_index(drop=True)\n",
        "results_df = pd.concat([results_df,\n",
        "                        pd.DataFrame(initial_clusters, \n",
        "                                     columns=['initial_cluster']),\n",
        "                        pd.DataFrame(clusters, \n",
        "                                     columns=['converged_cluster'])],\n",
        "                       axis=1)"
      ],
      "execution_count": 0,
      "outputs": []
    },
    {
      "cell_type": "code",
      "metadata": {
        "id": "ObvqXmrHJm6X",
        "colab_type": "code",
        "colab": {}
      },
      "source": [
        "pivot_initial = (results_df.pivot_table(values=['Survived'], \n",
        "                                        index=['initial_cluster'],\n",
        "                                        aggfunc='mean'))\n",
        "pivot_initial['label'] = ['Initial' for i in range(pivot_initial.shape[0])]\n",
        "\n",
        "pivot_converged = results_df.pivot_table(values=['Survived'], \n",
        "                                         index=['converged_cluster'],\n",
        "                                         aggfunc='mean')\n",
        "pivot_converged['label'] = ['Converged' for i in range(pivot_converged.shape[0])]\n",
        "\n",
        "pivot_df = pd.concat([pivot_initial, pivot_converged], axis=0).reset_index()\n",
        "pivot_df = pivot_df.rename({'index': 'Cluster',\n",
        "                            'Survived': 'Survival Percentage (%)'}, axis=1)"
      ],
      "execution_count": 0,
      "outputs": []
    },
    {
      "cell_type": "code",
      "metadata": {
        "id": "tkAksjAqJpls",
        "colab_type": "code",
        "outputId": "371d7215-f2ab-4dc3-d1bb-ae696af54c80",
        "colab": {
          "base_uri": "https://localhost:8080/",
          "height": 388
        }
      },
      "source": [
        "plt.subplots(figsize=(9,6))\n",
        "sns.barplot(x='Cluster', y='Survival Percentage (%)', \n",
        "            hue='label', data=pivot_df);\n",
        "plt.savefig('survival', bpi=150)"
      ],
      "execution_count": 0,
      "outputs": [
        {
          "output_type": "display_data",
          "data": {
            "image/png": "[encoded data removed]",
            "text/plain": [
              "<Figure size 648x432 with 1 Axes>"
            ]
          },
          "metadata": {
            "tags": [],
            "needs_background": "light"
          }
        }
      ]
    }
  ]
}