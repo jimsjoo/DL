{
  "nbformat": 4,
  "nbformat_minor": 0,
  "metadata": {
    "kernelspec": {
      "display_name": "Python 3",
      "language": "python",
      "name": "python3"
    },
    "language_info": {
      "codemirror_mode": {
        "name": "ipython",
        "version": 3
      },
      "file_extension": ".py",
      "mimetype": "text/x-python",
      "name": "python",
      "nbconvert_exporter": "python",
      "pygments_lexer": "ipython3",
      "version": "3.7.3"
    },
    "colab": {
      "name": "99-1 Pandas.ipynb",
      "provenance": [],
      "collapsed_sections": [
        "t4pn5Eg_y76o",
        "Ye6f6KTTy76x",
        "2XU_ITBBy760",
        "0TRkb_Iyy77J",
        "gr5Uni1xy77N",
        "15cwqIfUy77b",
        "-6PS7Zh2y77e",
        "y_zEYg5my77g",
        "srh2kyLTy77j",
        "8lmeY5h5y77u",
        "QMk62gddy78E",
        "2mR9HSjYy78W",
        "7sMdHf1uy78j",
        "oDgmUzh9y780"
      ],
      "include_colab_link": true
    }
  },
  "cells": [
    {
      "cell_type": "markdown",
      "metadata": {
        "id": "view-in-github",
        "colab_type": "text"
      },
      "source": [
        "<a href=\"https://colab.research.google.com/github/jimsjoo/DL/blob/master/99_1_Pandas.ipynb\" target=\"_parent\"><img src=\"https://colab.research.google.com/assets/colab-badge.svg\" alt=\"Open In Colab\"/></a>"
      ]
    },
    {
      "cell_type": "markdown",
      "metadata": {
        "id": "xNSzoqz5y76B",
        "colab_type": "text"
      },
      "source": [
        "## 판다스?\n",
        "\n",
        "테이터프레임(엑셀과 비슷) 과 시리즈라는 자료형  \n",
        "데이터 분석을 위한 다양한 기능을 제공하는 라이브러리  \n",
        "R의 데이터프레임에 영향  \n",
        "내부적으로 numpy 를 사용하므로 함께 import  \n",
        "\n",
        "http://pandas.pydata.org\n",
        "\n",
        "기능요약  \n",
        "https://pandas.pydata.org/Pandas_Cheat_Sheet.pdf\n"
      ]
    },
    {
      "cell_type": "markdown",
      "metadata": {
        "id": "j6SRZMbFy76C",
        "colab_type": "text"
      },
      "source": [
        "# Series"
      ]
    },
    {
      "cell_type": "code",
      "metadata": {
        "id": "nbaihrYSy76C",
        "colab_type": "code",
        "colab": {}
      },
      "source": [
        "import pandas as pd\n",
        "import numpy as np"
      ],
      "execution_count": 0,
      "outputs": []
    },
    {
      "cell_type": "code",
      "metadata": {
        "id": "OhW2-s3My76G",
        "colab_type": "code",
        "outputId": "3b9cfa18-64a8-4024-cf58-005634f47778",
        "colab": {}
      },
      "source": [
        "x = [1, 2, 3, 4, 5]\n",
        "pd.Series(x)"
      ],
      "execution_count": 0,
      "outputs": [
        {
          "output_type": "execute_result",
          "data": {
            "text/plain": [
              "0    1\n",
              "1    2\n",
              "2    3\n",
              "3    4\n",
              "4    5\n",
              "dtype: int64"
            ]
          },
          "metadata": {
            "tags": []
          },
          "execution_count": 4
        }
      ]
    },
    {
      "cell_type": "code",
      "metadata": {
        "id": "3bSf1kYyy76K",
        "colab_type": "code",
        "outputId": "02b51cac-c460-4003-9b57-04f892c8871d",
        "colab": {}
      },
      "source": [
        "x = np.array([1, 2, 3, 4, 5])\n",
        "pd.Series(x)"
      ],
      "execution_count": 0,
      "outputs": [
        {
          "output_type": "execute_result",
          "data": {
            "text/plain": [
              "0    1\n",
              "1    2\n",
              "2    3\n",
              "3    4\n",
              "4    5\n",
              "dtype: int64"
            ]
          },
          "metadata": {
            "tags": []
          },
          "execution_count": 5
        }
      ]
    },
    {
      "cell_type": "code",
      "metadata": {
        "id": "igq6OBg3y76N",
        "colab_type": "code",
        "outputId": "78418885-6310-4352-ec2b-955a17a6dac0",
        "colab": {}
      },
      "source": [
        "x = [1, 2, 3, 4, 5]\n",
        "x = pd.Series(x)\n",
        "\n",
        "print(x[0])\n",
        "print(x[1: 3])\n",
        "print(x[::-1])\n",
        "print(x[x > 3])\n",
        "print(x + 1)\n",
        "print(x * 10)\n",
        "print(x + x)"
      ],
      "execution_count": 0,
      "outputs": [
        {
          "output_type": "stream",
          "text": [
            "1\n",
            "1    2\n",
            "2    3\n",
            "dtype: int64\n",
            "4    5\n",
            "3    4\n",
            "2    3\n",
            "1    2\n",
            "0    1\n",
            "dtype: int64\n",
            "3    4\n",
            "4    5\n",
            "dtype: int64\n",
            "0    2\n",
            "1    3\n",
            "2    4\n",
            "3    5\n",
            "4    6\n",
            "dtype: int64\n",
            "0    10\n",
            "1    20\n",
            "2    30\n",
            "3    40\n",
            "4    50\n",
            "dtype: int64\n",
            "0     2\n",
            "1     4\n",
            "2     6\n",
            "3     8\n",
            "4    10\n",
            "dtype: int64\n"
          ],
          "name": "stdout"
        }
      ]
    },
    {
      "cell_type": "markdown",
      "metadata": {
        "id": "rFfxbKX_y76R",
        "colab_type": "text"
      },
      "source": [
        "# Series Index"
      ]
    },
    {
      "cell_type": "code",
      "metadata": {
        "id": "wpLylfdmy76R",
        "colab_type": "code",
        "outputId": "f37ebdbc-62de-43c1-ed9e-73f64efb06bc",
        "colab": {}
      },
      "source": [
        "import pandas as pd\n",
        "import numpy as np\n",
        "\n",
        "x = [1, 2, 3, 4, 5]\n",
        "x = pd.Series(x)\n",
        "print(x.index)\n",
        "print(x.values)"
      ],
      "execution_count": 0,
      "outputs": [
        {
          "output_type": "stream",
          "text": [
            "RangeIndex(start=0, stop=5, step=1)\n",
            "[1 2 3 4 5]\n"
          ],
          "name": "stdout"
        }
      ]
    },
    {
      "cell_type": "code",
      "metadata": {
        "id": "NEc5fO4fy76U",
        "colab_type": "code",
        "outputId": "b42386cc-3f2a-4b03-89ff-e483f0d69268",
        "colab": {}
      },
      "source": [
        "x = [1, 2, 3, 4, 5]\n",
        "x = pd.Series(x, index=['a','b','c','d','e']) #인덱스설정\n",
        "print(x)\n",
        "\n",
        "print(x['a']) #명시적 인덱스접근\n",
        "print(x[0]) #묵시적 인덱스접근\n",
        "print(x[['a','e']]) #팬시색인, 한번에 여러값 접근\n",
        "print(x.a)"
      ],
      "execution_count": 0,
      "outputs": [
        {
          "output_type": "stream",
          "text": [
            "a    1\n",
            "b    2\n",
            "c    3\n",
            "d    4\n",
            "e    5\n",
            "dtype: int64\n",
            "1\n",
            "1\n",
            "a    1\n",
            "e    5\n",
            "dtype: int64\n",
            "1\n"
          ],
          "name": "stdout"
        }
      ]
    },
    {
      "cell_type": "code",
      "metadata": {
        "id": "Va1On6jXy76X",
        "colab_type": "code",
        "outputId": "53b7c231-7b09-4f27-a2e6-8ea61ceb374b",
        "colab": {}
      },
      "source": [
        "x = [1, 2, 3, 4, 5]\n",
        "x = pd.Series(x, index=[1, 2, 3, 4, 5])\n",
        "\n",
        "# x[0] 오류\n",
        "print(x.iloc[0]) #묵시적 인덱스로만\n",
        "print(x.loc[1]) #명시적 인덱스로만"
      ],
      "execution_count": 0,
      "outputs": [
        {
          "output_type": "stream",
          "text": [
            "1\n",
            "1\n"
          ],
          "name": "stdout"
        }
      ]
    },
    {
      "cell_type": "markdown",
      "metadata": {
        "id": "yGHlHwVEy76c",
        "colab_type": "text"
      },
      "source": [
        "## 딕셔너리 to Series"
      ]
    },
    {
      "cell_type": "code",
      "metadata": {
        "id": "ilFv_YjIy76d",
        "colab_type": "code",
        "outputId": "39259b22-2400-4f57-dc3a-7d273ca11be2",
        "colab": {}
      },
      "source": [
        "x = {\"수학\":90, \"영어\":80, \"과학\":95, \"미술\":80}\n",
        "x = pd.Series(x)\n",
        "x"
      ],
      "execution_count": 0,
      "outputs": [
        {
          "output_type": "execute_result",
          "data": {
            "text/plain": [
              "수학    90\n",
              "영어    80\n",
              "과학    95\n",
              "미술    80\n",
              "dtype: int64"
            ]
          },
          "metadata": {
            "tags": []
          },
          "execution_count": 10
        }
      ]
    },
    {
      "cell_type": "code",
      "metadata": {
        "id": "SQyHFGY2y76g",
        "colab_type": "code",
        "outputId": "628324b3-fb7b-4432-a9f1-de5bd80daa3d",
        "colab": {}
      },
      "source": [
        "print(x['수학'])"
      ],
      "execution_count": 0,
      "outputs": [
        {
          "output_type": "stream",
          "text": [
            "90\n"
          ],
          "name": "stdout"
        }
      ]
    },
    {
      "cell_type": "code",
      "metadata": {
        "id": "XEpzTvs0y76j",
        "colab_type": "code",
        "outputId": "33cfbdf1-5aee-4eaa-84d7-76dfd93315ac",
        "colab": {}
      },
      "source": [
        "print(x['영어':])"
      ],
      "execution_count": 0,
      "outputs": [
        {
          "output_type": "stream",
          "text": [
            "영어    80\n",
            "과학    95\n",
            "미술    80\n",
            "dtype: int64\n"
          ],
          "name": "stdout"
        }
      ]
    },
    {
      "cell_type": "code",
      "metadata": {
        "id": "SRQWO-n5y76l",
        "colab_type": "code",
        "outputId": "6443a586-681c-491b-ea4d-1a937a9c07fc",
        "colab": {}
      },
      "source": [
        "x = {\"수학\":90, \"영어\":80, \"과학\":95, \"미술\":80}\n",
        "x = pd.Series(x, index=[\"수학\", \"영어\", \"과학\"])\n",
        "x"
      ],
      "execution_count": 0,
      "outputs": [
        {
          "output_type": "execute_result",
          "data": {
            "text/plain": [
              "수학    90\n",
              "영어    80\n",
              "과학    95\n",
              "dtype: int64"
            ]
          },
          "metadata": {
            "tags": []
          },
          "execution_count": 13
        }
      ]
    },
    {
      "cell_type": "markdown",
      "metadata": {
        "id": "t4pn5Eg_y76o",
        "colab_type": "text"
      },
      "source": [
        "## Multi Index"
      ]
    },
    {
      "cell_type": "code",
      "metadata": {
        "scrolled": true,
        "id": "WNzs_EwBy76o",
        "colab_type": "code",
        "outputId": "1c0a1c75-e71d-450b-ee4c-eb2e34fc2eab",
        "colab": {}
      },
      "source": [
        "student_1 = {\"수학\":90, \"영어\":80, \"과학\":95, \"미술\":80}\n",
        "student_2 = {\"수학\":70, \"영어\":90, \"과학\":100, \"미술\":70}\n",
        "\n",
        "#index_1 = ['홍길동','홍길동','홍길동','홍길동','이몽룡','이몽룡','이몽룡','이몽룡']\n",
        "index_1 = ['홍길동' for i in range(len(student_1))] + ['이몽룡' for i in range(len(student_2))]\n",
        "\n",
        "#index_2 = ['수학','영어','과학','미술','수학','영어','과학','미술']\n",
        "index_2 = [i for i in student_1] + [i for i in student_2]\n",
        "\n",
        "value_all = list(student_1.values()) + list(student_2.values())\n",
        "\n",
        "students = pd.Series(value_all, index=[index_1, index_2])\n",
        "students"
      ],
      "execution_count": 0,
      "outputs": [
        {
          "output_type": "execute_result",
          "data": {
            "text/plain": [
              "홍길동  수학     90\n",
              "     영어     80\n",
              "     과학     95\n",
              "     미술     80\n",
              "이몽룡  수학     70\n",
              "     영어     90\n",
              "     과학    100\n",
              "     미술     70\n",
              "dtype: int64"
            ]
          },
          "metadata": {
            "tags": []
          },
          "execution_count": 14
        }
      ]
    },
    {
      "cell_type": "code",
      "metadata": {
        "id": "WpQLHOk4y76s",
        "colab_type": "code",
        "outputId": "a0fd726f-90c1-4294-ff54-cf39fdf7d238",
        "colab": {}
      },
      "source": [
        "students['홍길동']"
      ],
      "execution_count": 0,
      "outputs": [
        {
          "output_type": "execute_result",
          "data": {
            "text/plain": [
              "수학    90\n",
              "영어    80\n",
              "과학    95\n",
              "미술    80\n",
              "dtype: int64"
            ]
          },
          "metadata": {
            "tags": []
          },
          "execution_count": 15
        }
      ]
    },
    {
      "cell_type": "code",
      "metadata": {
        "id": "YT04TWfpy76v",
        "colab_type": "code",
        "outputId": "2070ea13-2f4d-4c99-d622-ea812724bb60",
        "colab": {}
      },
      "source": [
        "students['이몽룡']"
      ],
      "execution_count": 0,
      "outputs": [
        {
          "output_type": "execute_result",
          "data": {
            "text/plain": [
              "수학     70\n",
              "영어     90\n",
              "과학    100\n",
              "미술     70\n",
              "dtype: int64"
            ]
          },
          "metadata": {
            "tags": []
          },
          "execution_count": 16
        }
      ]
    },
    {
      "cell_type": "markdown",
      "metadata": {
        "id": "Ye6f6KTTy76x",
        "colab_type": "text"
      },
      "source": [
        "## 결측값 처리방법 (NaN. None)"
      ]
    },
    {
      "cell_type": "code",
      "metadata": {
        "id": "2MtBvf_uy76x",
        "colab_type": "code",
        "outputId": "274cc3cd-3d5e-49e5-ccb2-98ddbb3d9e2d",
        "colab": {}
      },
      "source": [
        "x = [1, None, 2, None, 3, 4, None]\n",
        "x = pd.Series(x)\n",
        "print(x)\n",
        "\n",
        "print(x.sum())\n",
        "print(x.max())\n",
        "print(x.min())\n",
        "\n",
        "#결측값 개수\n",
        "print(x.isnull().sum())\n",
        "print(x.notnull().sum())\n",
        "\n",
        "#결측값 제거\n",
        "print(x.dropna())\n",
        "\n",
        "#결측값을 다른값으로 채우기\n",
        "x.fillna(0)"
      ],
      "execution_count": 0,
      "outputs": [
        {
          "output_type": "stream",
          "text": [
            "0    1.0\n",
            "1    NaN\n",
            "2    2.0\n",
            "3    NaN\n",
            "4    3.0\n",
            "5    4.0\n",
            "6    NaN\n",
            "dtype: float64\n",
            "10.0\n",
            "4.0\n",
            "1.0\n",
            "3\n",
            "4\n",
            "0    1.0\n",
            "2    2.0\n",
            "4    3.0\n",
            "5    4.0\n",
            "dtype: float64\n"
          ],
          "name": "stdout"
        },
        {
          "output_type": "execute_result",
          "data": {
            "text/plain": [
              "0    1.0\n",
              "1    0.0\n",
              "2    2.0\n",
              "3    0.0\n",
              "4    3.0\n",
              "5    4.0\n",
              "6    0.0\n",
              "dtype: float64"
            ]
          },
          "metadata": {
            "tags": []
          },
          "execution_count": 17
        }
      ]
    },
    {
      "cell_type": "markdown",
      "metadata": {
        "id": "2XU_ITBBy760",
        "colab_type": "text"
      },
      "source": [
        "## concat"
      ]
    },
    {
      "cell_type": "code",
      "metadata": {
        "id": "tP456d_hy761",
        "colab_type": "code",
        "outputId": "8a0d6bc2-a193-4578-9a75-98edace3a3c5",
        "colab": {}
      },
      "source": [
        "x = pd.Series([1, 2, 3])\n",
        "y = pd.Series([4, 5, 6])\n",
        "z = pd.Series([7, 8, 9])\n",
        "\n",
        "pd.concat([x, y, z])"
      ],
      "execution_count": 0,
      "outputs": [
        {
          "output_type": "execute_result",
          "data": {
            "text/plain": [
              "0    1\n",
              "1    2\n",
              "2    3\n",
              "0    4\n",
              "1    5\n",
              "2    6\n",
              "0    7\n",
              "1    8\n",
              "2    9\n",
              "dtype: int64"
            ]
          },
          "metadata": {
            "tags": []
          },
          "execution_count": 18
        }
      ]
    },
    {
      "cell_type": "code",
      "metadata": {
        "scrolled": true,
        "id": "jupafdxsy763",
        "colab_type": "code",
        "outputId": "db22e3c8-54d8-4c66-c4a5-c04fb0a8860b",
        "colab": {}
      },
      "source": [
        "pd.concat([x, y, z], verify_integrity=True) #같은 값의 인덱스가 있을경우 오류"
      ],
      "execution_count": 0,
      "outputs": [
        {
          "output_type": "error",
          "ename": "ValueError",
          "evalue": "Indexes have overlapping values: Int64Index([0, 1, 2], dtype='int64')",
          "traceback": [
            "\u001b[0;31m---------------------------------------------------------------------------\u001b[0m",
            "\u001b[0;31mValueError\u001b[0m                                Traceback (most recent call last)",
            "\u001b[0;32m<ipython-input-19-6fdf9be3ae63>\u001b[0m in \u001b[0;36m<module>\u001b[0;34m\u001b[0m\n\u001b[0;32m----> 1\u001b[0;31m \u001b[0mpd\u001b[0m\u001b[0;34m.\u001b[0m\u001b[0mconcat\u001b[0m\u001b[0;34m(\u001b[0m\u001b[0;34m[\u001b[0m\u001b[0mx\u001b[0m\u001b[0;34m,\u001b[0m \u001b[0my\u001b[0m\u001b[0;34m,\u001b[0m \u001b[0mz\u001b[0m\u001b[0;34m]\u001b[0m\u001b[0;34m,\u001b[0m \u001b[0mverify_integrity\u001b[0m\u001b[0;34m=\u001b[0m\u001b[0;32mTrue\u001b[0m\u001b[0;34m)\u001b[0m \u001b[0;31m#같은 값의 인덱스가 있을경우 오류\u001b[0m\u001b[0;34m\u001b[0m\u001b[0;34m\u001b[0m\u001b[0m\n\u001b[0m",
            "\u001b[0;32m/Library/Frameworks/Python.framework/Versions/3.7/lib/python3.7/site-packages/pandas/core/reshape/concat.py\u001b[0m in \u001b[0;36mconcat\u001b[0;34m(objs, axis, join, join_axes, ignore_index, keys, levels, names, verify_integrity, sort, copy)\u001b[0m\n\u001b[1;32m    226\u001b[0m                        \u001b[0mkeys\u001b[0m\u001b[0;34m=\u001b[0m\u001b[0mkeys\u001b[0m\u001b[0;34m,\u001b[0m \u001b[0mlevels\u001b[0m\u001b[0;34m=\u001b[0m\u001b[0mlevels\u001b[0m\u001b[0;34m,\u001b[0m \u001b[0mnames\u001b[0m\u001b[0;34m=\u001b[0m\u001b[0mnames\u001b[0m\u001b[0;34m,\u001b[0m\u001b[0;34m\u001b[0m\u001b[0;34m\u001b[0m\u001b[0m\n\u001b[1;32m    227\u001b[0m                        \u001b[0mverify_integrity\u001b[0m\u001b[0;34m=\u001b[0m\u001b[0mverify_integrity\u001b[0m\u001b[0;34m,\u001b[0m\u001b[0;34m\u001b[0m\u001b[0;34m\u001b[0m\u001b[0m\n\u001b[0;32m--> 228\u001b[0;31m                        copy=copy, sort=sort)\n\u001b[0m\u001b[1;32m    229\u001b[0m     \u001b[0;32mreturn\u001b[0m \u001b[0mop\u001b[0m\u001b[0;34m.\u001b[0m\u001b[0mget_result\u001b[0m\u001b[0;34m(\u001b[0m\u001b[0;34m)\u001b[0m\u001b[0;34m\u001b[0m\u001b[0;34m\u001b[0m\u001b[0m\n\u001b[1;32m    230\u001b[0m \u001b[0;34m\u001b[0m\u001b[0m\n",
            "\u001b[0;32m/Library/Frameworks/Python.framework/Versions/3.7/lib/python3.7/site-packages/pandas/core/reshape/concat.py\u001b[0m in \u001b[0;36m__init__\u001b[0;34m(self, objs, axis, join, join_axes, keys, levels, names, ignore_index, verify_integrity, copy, sort)\u001b[0m\n\u001b[1;32m    379\u001b[0m         \u001b[0mself\u001b[0m\u001b[0;34m.\u001b[0m\u001b[0mcopy\u001b[0m \u001b[0;34m=\u001b[0m \u001b[0mcopy\u001b[0m\u001b[0;34m\u001b[0m\u001b[0;34m\u001b[0m\u001b[0m\n\u001b[1;32m    380\u001b[0m \u001b[0;34m\u001b[0m\u001b[0m\n\u001b[0;32m--> 381\u001b[0;31m         \u001b[0mself\u001b[0m\u001b[0;34m.\u001b[0m\u001b[0mnew_axes\u001b[0m \u001b[0;34m=\u001b[0m \u001b[0mself\u001b[0m\u001b[0;34m.\u001b[0m\u001b[0m_get_new_axes\u001b[0m\u001b[0;34m(\u001b[0m\u001b[0;34m)\u001b[0m\u001b[0;34m\u001b[0m\u001b[0;34m\u001b[0m\u001b[0m\n\u001b[0m\u001b[1;32m    382\u001b[0m \u001b[0;34m\u001b[0m\u001b[0m\n\u001b[1;32m    383\u001b[0m     \u001b[0;32mdef\u001b[0m \u001b[0mget_result\u001b[0m\u001b[0;34m(\u001b[0m\u001b[0mself\u001b[0m\u001b[0;34m)\u001b[0m\u001b[0;34m:\u001b[0m\u001b[0;34m\u001b[0m\u001b[0;34m\u001b[0m\u001b[0m\n",
            "\u001b[0;32m/Library/Frameworks/Python.framework/Versions/3.7/lib/python3.7/site-packages/pandas/core/reshape/concat.py\u001b[0m in \u001b[0;36m_get_new_axes\u001b[0;34m(self)\u001b[0m\n\u001b[1;32m    459\u001b[0m                 \u001b[0mnew_axes\u001b[0m\u001b[0;34m[\u001b[0m\u001b[0mi\u001b[0m\u001b[0;34m]\u001b[0m \u001b[0;34m=\u001b[0m \u001b[0max\u001b[0m\u001b[0;34m\u001b[0m\u001b[0;34m\u001b[0m\u001b[0m\n\u001b[1;32m    460\u001b[0m \u001b[0;34m\u001b[0m\u001b[0m\n\u001b[0;32m--> 461\u001b[0;31m         \u001b[0mnew_axes\u001b[0m\u001b[0;34m[\u001b[0m\u001b[0mself\u001b[0m\u001b[0;34m.\u001b[0m\u001b[0maxis\u001b[0m\u001b[0;34m]\u001b[0m \u001b[0;34m=\u001b[0m \u001b[0mself\u001b[0m\u001b[0;34m.\u001b[0m\u001b[0m_get_concat_axis\u001b[0m\u001b[0;34m(\u001b[0m\u001b[0;34m)\u001b[0m\u001b[0;34m\u001b[0m\u001b[0;34m\u001b[0m\u001b[0m\n\u001b[0m\u001b[1;32m    462\u001b[0m         \u001b[0;32mreturn\u001b[0m \u001b[0mnew_axes\u001b[0m\u001b[0;34m\u001b[0m\u001b[0;34m\u001b[0m\u001b[0m\n\u001b[1;32m    463\u001b[0m \u001b[0;34m\u001b[0m\u001b[0m\n",
            "\u001b[0;32m/Library/Frameworks/Python.framework/Versions/3.7/lib/python3.7/site-packages/pandas/core/reshape/concat.py\u001b[0m in \u001b[0;36m_get_concat_axis\u001b[0;34m(self)\u001b[0m\n\u001b[1;32m    517\u001b[0m                                                   self.levels, self.names)\n\u001b[1;32m    518\u001b[0m \u001b[0;34m\u001b[0m\u001b[0m\n\u001b[0;32m--> 519\u001b[0;31m         \u001b[0mself\u001b[0m\u001b[0;34m.\u001b[0m\u001b[0m_maybe_check_integrity\u001b[0m\u001b[0;34m(\u001b[0m\u001b[0mconcat_axis\u001b[0m\u001b[0;34m)\u001b[0m\u001b[0;34m\u001b[0m\u001b[0;34m\u001b[0m\u001b[0m\n\u001b[0m\u001b[1;32m    520\u001b[0m \u001b[0;34m\u001b[0m\u001b[0m\n\u001b[1;32m    521\u001b[0m         \u001b[0;32mreturn\u001b[0m \u001b[0mconcat_axis\u001b[0m\u001b[0;34m\u001b[0m\u001b[0;34m\u001b[0m\u001b[0m\n",
            "\u001b[0;32m/Library/Frameworks/Python.framework/Versions/3.7/lib/python3.7/site-packages/pandas/core/reshape/concat.py\u001b[0m in \u001b[0;36m_maybe_check_integrity\u001b[0;34m(self, concat_index)\u001b[0m\n\u001b[1;32m    526\u001b[0m                 \u001b[0moverlap\u001b[0m \u001b[0;34m=\u001b[0m \u001b[0mconcat_index\u001b[0m\u001b[0;34m[\u001b[0m\u001b[0mconcat_index\u001b[0m\u001b[0;34m.\u001b[0m\u001b[0mduplicated\u001b[0m\u001b[0;34m(\u001b[0m\u001b[0;34m)\u001b[0m\u001b[0;34m]\u001b[0m\u001b[0;34m.\u001b[0m\u001b[0munique\u001b[0m\u001b[0;34m(\u001b[0m\u001b[0;34m)\u001b[0m\u001b[0;34m\u001b[0m\u001b[0;34m\u001b[0m\u001b[0m\n\u001b[1;32m    527\u001b[0m                 raise ValueError('Indexes have overlapping values: '\n\u001b[0;32m--> 528\u001b[0;31m                                  '{overlap!s}'.format(overlap=overlap))\n\u001b[0m\u001b[1;32m    529\u001b[0m \u001b[0;34m\u001b[0m\u001b[0m\n\u001b[1;32m    530\u001b[0m \u001b[0;34m\u001b[0m\u001b[0m\n",
            "\u001b[0;31mValueError\u001b[0m: Indexes have overlapping values: Int64Index([0, 1, 2], dtype='int64')"
          ]
        }
      ]
    },
    {
      "cell_type": "code",
      "metadata": {
        "id": "88yyNnPiy767",
        "colab_type": "code",
        "outputId": "d7b5a0fb-7627-4f05-e09f-ded0834deee6",
        "colab": {}
      },
      "source": [
        "pd.concat([x, y, z], verify_integrity=False, ignore_index=True)"
      ],
      "execution_count": 0,
      "outputs": [
        {
          "output_type": "execute_result",
          "data": {
            "text/plain": [
              "0    1\n",
              "1    2\n",
              "2    3\n",
              "3    4\n",
              "4    5\n",
              "5    6\n",
              "6    7\n",
              "7    8\n",
              "8    9\n",
              "dtype: int64"
            ]
          },
          "metadata": {
            "tags": []
          },
          "execution_count": 20
        }
      ]
    },
    {
      "cell_type": "code",
      "metadata": {
        "id": "Q89K_QRIy76-",
        "colab_type": "code",
        "outputId": "e3f2926d-1834-4c85-9e18-abfa5e8bf2ce",
        "colab": {}
      },
      "source": [
        "pd.concat([x, y, z], verify_integrity=False, ignore_index=True, axis=1)"
      ],
      "execution_count": 0,
      "outputs": [
        {
          "output_type": "execute_result",
          "data": {
            "text/html": [
              "<div>\n",
              "<style scoped>\n",
              "    .dataframe tbody tr th:only-of-type {\n",
              "        vertical-align: middle;\n",
              "    }\n",
              "\n",
              "    .dataframe tbody tr th {\n",
              "        vertical-align: top;\n",
              "    }\n",
              "\n",
              "    .dataframe thead th {\n",
              "        text-align: right;\n",
              "    }\n",
              "</style>\n",
              "<table border=\"1\" class=\"dataframe\">\n",
              "  <thead>\n",
              "    <tr style=\"text-align: right;\">\n",
              "      <th></th>\n",
              "      <th>0</th>\n",
              "      <th>1</th>\n",
              "      <th>2</th>\n",
              "    </tr>\n",
              "  </thead>\n",
              "  <tbody>\n",
              "    <tr>\n",
              "      <th>0</th>\n",
              "      <td>1</td>\n",
              "      <td>4</td>\n",
              "      <td>7</td>\n",
              "    </tr>\n",
              "    <tr>\n",
              "      <th>1</th>\n",
              "      <td>2</td>\n",
              "      <td>5</td>\n",
              "      <td>8</td>\n",
              "    </tr>\n",
              "    <tr>\n",
              "      <th>2</th>\n",
              "      <td>3</td>\n",
              "      <td>6</td>\n",
              "      <td>9</td>\n",
              "    </tr>\n",
              "  </tbody>\n",
              "</table>\n",
              "</div>"
            ],
            "text/plain": [
              "   0  1  2\n",
              "0  1  4  7\n",
              "1  2  5  8\n",
              "2  3  6  9"
            ]
          },
          "metadata": {
            "tags": []
          },
          "execution_count": 21
        }
      ]
    },
    {
      "cell_type": "code",
      "metadata": {
        "id": "rSw8Nibmy77C",
        "colab_type": "code",
        "colab": {}
      },
      "source": [
        "x = pd.Series([1, 2, 3, 4])\n",
        "y = pd.Series([4, 5, 6])\n",
        "z = pd.Series([7, 8, 9])"
      ],
      "execution_count": 0,
      "outputs": []
    },
    {
      "cell_type": "code",
      "metadata": {
        "scrolled": true,
        "id": "HF4nvx0_y77E",
        "colab_type": "code",
        "outputId": "569d064f-0c3e-4f50-d0ff-0a81b65fd61b",
        "colab": {}
      },
      "source": [
        "pd.concat([x, y, z], verify_integrity=False, ignore_index=True, axis=1, join='inner')"
      ],
      "execution_count": 0,
      "outputs": [
        {
          "output_type": "execute_result",
          "data": {
            "text/html": [
              "<div>\n",
              "<style scoped>\n",
              "    .dataframe tbody tr th:only-of-type {\n",
              "        vertical-align: middle;\n",
              "    }\n",
              "\n",
              "    .dataframe tbody tr th {\n",
              "        vertical-align: top;\n",
              "    }\n",
              "\n",
              "    .dataframe thead th {\n",
              "        text-align: right;\n",
              "    }\n",
              "</style>\n",
              "<table border=\"1\" class=\"dataframe\">\n",
              "  <thead>\n",
              "    <tr style=\"text-align: right;\">\n",
              "      <th></th>\n",
              "      <th>0</th>\n",
              "      <th>1</th>\n",
              "      <th>2</th>\n",
              "    </tr>\n",
              "  </thead>\n",
              "  <tbody>\n",
              "    <tr>\n",
              "      <th>0</th>\n",
              "      <td>1</td>\n",
              "      <td>4</td>\n",
              "      <td>7</td>\n",
              "    </tr>\n",
              "    <tr>\n",
              "      <th>1</th>\n",
              "      <td>2</td>\n",
              "      <td>5</td>\n",
              "      <td>8</td>\n",
              "    </tr>\n",
              "    <tr>\n",
              "      <th>2</th>\n",
              "      <td>3</td>\n",
              "      <td>6</td>\n",
              "      <td>9</td>\n",
              "    </tr>\n",
              "  </tbody>\n",
              "</table>\n",
              "</div>"
            ],
            "text/plain": [
              "   0  1  2\n",
              "0  1  4  7\n",
              "1  2  5  8\n",
              "2  3  6  9"
            ]
          },
          "metadata": {
            "tags": []
          },
          "execution_count": 23
        }
      ]
    },
    {
      "cell_type": "code",
      "metadata": {
        "id": "AK9rak5Ry77G",
        "colab_type": "code",
        "outputId": "f3d4e754-2f3f-40fc-f2d8-5456671e4ea1",
        "colab": {}
      },
      "source": [
        "pd.concat([x, y, z], verify_integrity=False, ignore_index=True, axis=1, join='outer')"
      ],
      "execution_count": 0,
      "outputs": [
        {
          "output_type": "execute_result",
          "data": {
            "text/html": [
              "<div>\n",
              "<style scoped>\n",
              "    .dataframe tbody tr th:only-of-type {\n",
              "        vertical-align: middle;\n",
              "    }\n",
              "\n",
              "    .dataframe tbody tr th {\n",
              "        vertical-align: top;\n",
              "    }\n",
              "\n",
              "    .dataframe thead th {\n",
              "        text-align: right;\n",
              "    }\n",
              "</style>\n",
              "<table border=\"1\" class=\"dataframe\">\n",
              "  <thead>\n",
              "    <tr style=\"text-align: right;\">\n",
              "      <th></th>\n",
              "      <th>0</th>\n",
              "      <th>1</th>\n",
              "      <th>2</th>\n",
              "    </tr>\n",
              "  </thead>\n",
              "  <tbody>\n",
              "    <tr>\n",
              "      <th>0</th>\n",
              "      <td>1</td>\n",
              "      <td>4.0</td>\n",
              "      <td>7.0</td>\n",
              "    </tr>\n",
              "    <tr>\n",
              "      <th>1</th>\n",
              "      <td>2</td>\n",
              "      <td>5.0</td>\n",
              "      <td>8.0</td>\n",
              "    </tr>\n",
              "    <tr>\n",
              "      <th>2</th>\n",
              "      <td>3</td>\n",
              "      <td>6.0</td>\n",
              "      <td>9.0</td>\n",
              "    </tr>\n",
              "    <tr>\n",
              "      <th>3</th>\n",
              "      <td>4</td>\n",
              "      <td>NaN</td>\n",
              "      <td>NaN</td>\n",
              "    </tr>\n",
              "  </tbody>\n",
              "</table>\n",
              "</div>"
            ],
            "text/plain": [
              "   0    1    2\n",
              "0  1  4.0  7.0\n",
              "1  2  5.0  8.0\n",
              "2  3  6.0  9.0\n",
              "3  4  NaN  NaN"
            ]
          },
          "metadata": {
            "tags": []
          },
          "execution_count": 24
        }
      ]
    },
    {
      "cell_type": "markdown",
      "metadata": {
        "id": "0TRkb_Iyy77J",
        "colab_type": "text"
      },
      "source": [
        "## 연산과 집계함수"
      ]
    },
    {
      "cell_type": "code",
      "metadata": {
        "id": "UjKAibkoy77J",
        "colab_type": "code",
        "outputId": "caf0e119-6bf0-4f8b-b407-8b6da40a1eae",
        "colab": {}
      },
      "source": [
        "x = pd.Series([1, 2, 3, 4, 5])\n",
        "y = pd.Series([6, 7, 8, 9, 0])\n",
        "\n",
        "#더하기\n",
        "print(x.add(10))\n",
        "print(x.add(y))\n",
        "\n",
        "#빼기\n",
        "print(x.sub(y))\n",
        "\n",
        "#곱하기\n",
        "print(x.mul(y))\n",
        "\n",
        "#나누기\n",
        "print(x.floordiv(2))\n",
        "print(x.div(2))\n",
        "print(x.mod(2))\n",
        "\n",
        "#제곱\n",
        "print(x.pow(2))\n",
        "\n",
        "#기초통계\n",
        "print(x.count())\n",
        "print(x.min())\n",
        "print(x.max())\n",
        "print(x.mean())\n",
        "print(x.median()) #중간값\n",
        "print(x.sum())\n",
        "print(x.std()) # 표준편차\n",
        "print(x.var()) # 분산\n",
        "print(x.mad()) # 절대표준편차\n",
        "print(x.describe()) #기초통계모두\n",
        "\n",
        "print(x.head(2)) #앞의 일부데이터 확인\n",
        "print(x.tail(2)) #뒤의 일부데이터 확인"
      ],
      "execution_count": 0,
      "outputs": [
        {
          "output_type": "stream",
          "text": [
            "0    11\n",
            "1    12\n",
            "2    13\n",
            "3    14\n",
            "4    15\n",
            "dtype: int64\n",
            "0     7\n",
            "1     9\n",
            "2    11\n",
            "3    13\n",
            "4     5\n",
            "dtype: int64\n",
            "0   -5\n",
            "1   -5\n",
            "2   -5\n",
            "3   -5\n",
            "4    5\n",
            "dtype: int64\n",
            "0     6\n",
            "1    14\n",
            "2    24\n",
            "3    36\n",
            "4     0\n",
            "dtype: int64\n",
            "0    0\n",
            "1    1\n",
            "2    1\n",
            "3    2\n",
            "4    2\n",
            "dtype: int64\n",
            "0    0.5\n",
            "1    1.0\n",
            "2    1.5\n",
            "3    2.0\n",
            "4    2.5\n",
            "dtype: float64\n",
            "0    1\n",
            "1    0\n",
            "2    1\n",
            "3    0\n",
            "4    1\n",
            "dtype: int64\n",
            "0     1\n",
            "1     4\n",
            "2     9\n",
            "3    16\n",
            "4    25\n",
            "dtype: int64\n",
            "5\n",
            "1\n",
            "5\n",
            "3.0\n",
            "3.0\n",
            "15\n",
            "1.5811388300841898\n",
            "2.5\n",
            "1.2\n",
            "count    5.000000\n",
            "mean     3.000000\n",
            "std      1.581139\n",
            "min      1.000000\n",
            "25%      2.000000\n",
            "50%      3.000000\n",
            "75%      4.000000\n",
            "max      5.000000\n",
            "dtype: float64\n",
            "0    1\n",
            "1    2\n",
            "dtype: int64\n",
            "3    4\n",
            "4    5\n",
            "dtype: int64\n"
          ],
          "name": "stdout"
        }
      ]
    },
    {
      "cell_type": "markdown",
      "metadata": {
        "id": "gr5Uni1xy77N",
        "colab_type": "text"
      },
      "source": [
        "## 실습1"
      ]
    },
    {
      "cell_type": "code",
      "metadata": {
        "id": "QT67at9vy77O",
        "colab_type": "code",
        "outputId": "0a183f61-ad8b-4ad1-b2e1-043fa44a1e95",
        "colab": {}
      },
      "source": [
        "x = [np.nan, 1, 2, 3, 4, 5]\n",
        "y = pd.Series([x[np.random.randint(0, 6)] for i in range(20)])\n",
        "\n",
        "print(y)\n",
        "print(\"결측값개수\", y.isnull().sum())\n",
        "print(y.dropna())\n",
        "y.fillna(y.mean())"
      ],
      "execution_count": 0,
      "outputs": [
        {
          "output_type": "stream",
          "text": [
            "0     2.0\n",
            "1     NaN\n",
            "2     NaN\n",
            "3     1.0\n",
            "4     5.0\n",
            "5     3.0\n",
            "6     NaN\n",
            "7     2.0\n",
            "8     2.0\n",
            "9     1.0\n",
            "10    3.0\n",
            "11    NaN\n",
            "12    4.0\n",
            "13    5.0\n",
            "14    NaN\n",
            "15    1.0\n",
            "16    5.0\n",
            "17    1.0\n",
            "18    4.0\n",
            "19    NaN\n",
            "dtype: float64\n",
            "결측값개수 6\n",
            "0     2.0\n",
            "3     1.0\n",
            "4     5.0\n",
            "5     3.0\n",
            "7     2.0\n",
            "8     2.0\n",
            "9     1.0\n",
            "10    3.0\n",
            "12    4.0\n",
            "13    5.0\n",
            "15    1.0\n",
            "16    5.0\n",
            "17    1.0\n",
            "18    4.0\n",
            "dtype: float64\n"
          ],
          "name": "stdout"
        },
        {
          "output_type": "execute_result",
          "data": {
            "text/plain": [
              "0     2.000000\n",
              "1     2.785714\n",
              "2     2.785714\n",
              "3     1.000000\n",
              "4     5.000000\n",
              "5     3.000000\n",
              "6     2.785714\n",
              "7     2.000000\n",
              "8     2.000000\n",
              "9     1.000000\n",
              "10    3.000000\n",
              "11    2.785714\n",
              "12    4.000000\n",
              "13    5.000000\n",
              "14    2.785714\n",
              "15    1.000000\n",
              "16    5.000000\n",
              "17    1.000000\n",
              "18    4.000000\n",
              "19    2.785714\n",
              "dtype: float64"
            ]
          },
          "metadata": {
            "tags": []
          },
          "execution_count": 26
        }
      ]
    },
    {
      "cell_type": "markdown",
      "metadata": {
        "id": "1-YEsNczy77R",
        "colab_type": "text"
      },
      "source": [
        "# DataFrame"
      ]
    },
    {
      "cell_type": "code",
      "metadata": {
        "id": "iZsu4R-Ey77R",
        "colab_type": "code",
        "outputId": "8480d554-32b4-4e9b-e3c8-dcedcdb1dc28",
        "colab": {}
      },
      "source": [
        "sales_data = {    \n",
        "    '연도':[2015, 2016, 2017, 2018, 2019, 2020],\n",
        "    '판매량':[103, 70, 130, 160, 190, 230],\n",
        "    '매출':[500000, 300000, 400000, 550000, 700000, 680000],\n",
        "    '순이익':[370000, 190000, 300000, 480000, 600000, 590000]\n",
        "}\n",
        "\n",
        "sales_data = pd.DataFrame(sales_data)\n",
        "sales_data"
      ],
      "execution_count": 0,
      "outputs": [
        {
          "output_type": "execute_result",
          "data": {
            "text/html": [
              "<div>\n",
              "<style scoped>\n",
              "    .dataframe tbody tr th:only-of-type {\n",
              "        vertical-align: middle;\n",
              "    }\n",
              "\n",
              "    .dataframe tbody tr th {\n",
              "        vertical-align: top;\n",
              "    }\n",
              "\n",
              "    .dataframe thead th {\n",
              "        text-align: right;\n",
              "    }\n",
              "</style>\n",
              "<table border=\"1\" class=\"dataframe\">\n",
              "  <thead>\n",
              "    <tr style=\"text-align: right;\">\n",
              "      <th></th>\n",
              "      <th>연도</th>\n",
              "      <th>판매량</th>\n",
              "      <th>매출</th>\n",
              "      <th>순이익</th>\n",
              "    </tr>\n",
              "  </thead>\n",
              "  <tbody>\n",
              "    <tr>\n",
              "      <th>0</th>\n",
              "      <td>2015</td>\n",
              "      <td>103</td>\n",
              "      <td>500000</td>\n",
              "      <td>370000</td>\n",
              "    </tr>\n",
              "    <tr>\n",
              "      <th>1</th>\n",
              "      <td>2016</td>\n",
              "      <td>70</td>\n",
              "      <td>300000</td>\n",
              "      <td>190000</td>\n",
              "    </tr>\n",
              "    <tr>\n",
              "      <th>2</th>\n",
              "      <td>2017</td>\n",
              "      <td>130</td>\n",
              "      <td>400000</td>\n",
              "      <td>300000</td>\n",
              "    </tr>\n",
              "    <tr>\n",
              "      <th>3</th>\n",
              "      <td>2018</td>\n",
              "      <td>160</td>\n",
              "      <td>550000</td>\n",
              "      <td>480000</td>\n",
              "    </tr>\n",
              "    <tr>\n",
              "      <th>4</th>\n",
              "      <td>2019</td>\n",
              "      <td>190</td>\n",
              "      <td>700000</td>\n",
              "      <td>600000</td>\n",
              "    </tr>\n",
              "    <tr>\n",
              "      <th>5</th>\n",
              "      <td>2020</td>\n",
              "      <td>230</td>\n",
              "      <td>680000</td>\n",
              "      <td>590000</td>\n",
              "    </tr>\n",
              "  </tbody>\n",
              "</table>\n",
              "</div>"
            ],
            "text/plain": [
              "     연도  판매량      매출     순이익\n",
              "0  2015  103  500000  370000\n",
              "1  2016   70  300000  190000\n",
              "2  2017  130  400000  300000\n",
              "3  2018  160  550000  480000\n",
              "4  2019  190  700000  600000\n",
              "5  2020  230  680000  590000"
            ]
          },
          "metadata": {
            "tags": []
          },
          "execution_count": 27
        }
      ]
    },
    {
      "cell_type": "code",
      "metadata": {
        "id": "jZWUyZ8ay77U",
        "colab_type": "code",
        "outputId": "f5ec89b0-d872-4662-f2f8-d637c8eaed73",
        "colab": {}
      },
      "source": [
        "sales_data['판매량']"
      ],
      "execution_count": 0,
      "outputs": [
        {
          "output_type": "execute_result",
          "data": {
            "text/plain": [
              "0    103\n",
              "1     70\n",
              "2    130\n",
              "3    160\n",
              "4    190\n",
              "5    230\n",
              "Name: 판매량, dtype: int64"
            ]
          },
          "metadata": {
            "tags": []
          },
          "execution_count": 28
        }
      ]
    },
    {
      "cell_type": "code",
      "metadata": {
        "id": "FO4HsQo6y77W",
        "colab_type": "code",
        "outputId": "38fbf9ae-1b73-4cc3-d0b1-26e6b5408b56",
        "colab": {}
      },
      "source": [
        "sales_data.iloc[1]"
      ],
      "execution_count": 0,
      "outputs": [
        {
          "output_type": "execute_result",
          "data": {
            "text/plain": [
              "연도       2016\n",
              "판매량        70\n",
              "매출     300000\n",
              "순이익    190000\n",
              "Name: 1, dtype: int64"
            ]
          },
          "metadata": {
            "tags": []
          },
          "execution_count": 29
        }
      ]
    },
    {
      "cell_type": "code",
      "metadata": {
        "id": "7GlPKpbsy77Y",
        "colab_type": "code",
        "outputId": "74c7614f-f926-4d47-f6b0-dfddac5b1b07",
        "colab": {}
      },
      "source": [
        "sales_data = {    \n",
        "    '연도':[2015, 2016, 2017, 2018, 2019, 2020],\n",
        "    '판매량':[103, 70, 130, 160, 190, 230],\n",
        "    '매출':[500000, 300000, 400000, 550000, 700000, 680000],\n",
        "    '순이익':[370000, 190000, 300000, 480000, 600000, 590000]\n",
        "}\n",
        "\n",
        "pd.DataFrame(sales_data, columns=['판매량','매출','순이익'], index=sales_data['연도'])"
      ],
      "execution_count": 0,
      "outputs": [
        {
          "output_type": "execute_result",
          "data": {
            "text/html": [
              "<div>\n",
              "<style scoped>\n",
              "    .dataframe tbody tr th:only-of-type {\n",
              "        vertical-align: middle;\n",
              "    }\n",
              "\n",
              "    .dataframe tbody tr th {\n",
              "        vertical-align: top;\n",
              "    }\n",
              "\n",
              "    .dataframe thead th {\n",
              "        text-align: right;\n",
              "    }\n",
              "</style>\n",
              "<table border=\"1\" class=\"dataframe\">\n",
              "  <thead>\n",
              "    <tr style=\"text-align: right;\">\n",
              "      <th></th>\n",
              "      <th>판매량</th>\n",
              "      <th>매출</th>\n",
              "      <th>순이익</th>\n",
              "    </tr>\n",
              "  </thead>\n",
              "  <tbody>\n",
              "    <tr>\n",
              "      <th>2015</th>\n",
              "      <td>103</td>\n",
              "      <td>500000</td>\n",
              "      <td>370000</td>\n",
              "    </tr>\n",
              "    <tr>\n",
              "      <th>2016</th>\n",
              "      <td>70</td>\n",
              "      <td>300000</td>\n",
              "      <td>190000</td>\n",
              "    </tr>\n",
              "    <tr>\n",
              "      <th>2017</th>\n",
              "      <td>130</td>\n",
              "      <td>400000</td>\n",
              "      <td>300000</td>\n",
              "    </tr>\n",
              "    <tr>\n",
              "      <th>2018</th>\n",
              "      <td>160</td>\n",
              "      <td>550000</td>\n",
              "      <td>480000</td>\n",
              "    </tr>\n",
              "    <tr>\n",
              "      <th>2019</th>\n",
              "      <td>190</td>\n",
              "      <td>700000</td>\n",
              "      <td>600000</td>\n",
              "    </tr>\n",
              "    <tr>\n",
              "      <th>2020</th>\n",
              "      <td>230</td>\n",
              "      <td>680000</td>\n",
              "      <td>590000</td>\n",
              "    </tr>\n",
              "  </tbody>\n",
              "</table>\n",
              "</div>"
            ],
            "text/plain": [
              "      판매량      매출     순이익\n",
              "2015  103  500000  370000\n",
              "2016   70  300000  190000\n",
              "2017  130  400000  300000\n",
              "2018  160  550000  480000\n",
              "2019  190  700000  600000\n",
              "2020  230  680000  590000"
            ]
          },
          "metadata": {
            "tags": []
          },
          "execution_count": 30
        }
      ]
    },
    {
      "cell_type": "markdown",
      "metadata": {
        "id": "15cwqIfUy77b",
        "colab_type": "text"
      },
      "source": [
        "## 파일생성"
      ]
    },
    {
      "cell_type": "code",
      "metadata": {
        "id": "5alCzskny77b",
        "colab_type": "code",
        "outputId": "10e29c6a-f0bb-43c4-e0be-f8a26837c897",
        "colab": {}
      },
      "source": [
        "%%writefile sales_data.csv\n",
        "연도,판매량,매출,순이익\n",
        "2015,103,500000,370000\n",
        "2016,70,300000,190000\n",
        "2017,130,400000,300000\n",
        "2018,60,550000,480000\n",
        "2019,190,700000,600000\n",
        "2020,230,680000,590000"
      ],
      "execution_count": 0,
      "outputs": [
        {
          "output_type": "stream",
          "text": [
            "Overwriting sales_data.csv\n"
          ],
          "name": "stdout"
        }
      ]
    },
    {
      "cell_type": "markdown",
      "metadata": {
        "id": "-6PS7Zh2y77e",
        "colab_type": "text"
      },
      "source": [
        "## CSV 파일읽기"
      ]
    },
    {
      "cell_type": "code",
      "metadata": {
        "scrolled": true,
        "id": "-O4whLNny77e",
        "colab_type": "code",
        "outputId": "3fd73f18-c841-4a9e-fcad-dc21e3fe0092",
        "colab": {}
      },
      "source": [
        "sales_data = pd.read_csv('sales_data.csv', index_col='연도', header=0, sep=',')\n",
        "sales_data"
      ],
      "execution_count": 0,
      "outputs": [
        {
          "output_type": "execute_result",
          "data": {
            "text/html": [
              "<div>\n",
              "<style scoped>\n",
              "    .dataframe tbody tr th:only-of-type {\n",
              "        vertical-align: middle;\n",
              "    }\n",
              "\n",
              "    .dataframe tbody tr th {\n",
              "        vertical-align: top;\n",
              "    }\n",
              "\n",
              "    .dataframe thead th {\n",
              "        text-align: right;\n",
              "    }\n",
              "</style>\n",
              "<table border=\"1\" class=\"dataframe\">\n",
              "  <thead>\n",
              "    <tr style=\"text-align: right;\">\n",
              "      <th></th>\n",
              "      <th>판매량</th>\n",
              "      <th>매출</th>\n",
              "      <th>순이익</th>\n",
              "    </tr>\n",
              "    <tr>\n",
              "      <th>연도</th>\n",
              "      <th></th>\n",
              "      <th></th>\n",
              "      <th></th>\n",
              "    </tr>\n",
              "  </thead>\n",
              "  <tbody>\n",
              "    <tr>\n",
              "      <th>2015</th>\n",
              "      <td>103</td>\n",
              "      <td>500000</td>\n",
              "      <td>370000</td>\n",
              "    </tr>\n",
              "    <tr>\n",
              "      <th>2016</th>\n",
              "      <td>70</td>\n",
              "      <td>300000</td>\n",
              "      <td>190000</td>\n",
              "    </tr>\n",
              "    <tr>\n",
              "      <th>2017</th>\n",
              "      <td>130</td>\n",
              "      <td>400000</td>\n",
              "      <td>300000</td>\n",
              "    </tr>\n",
              "    <tr>\n",
              "      <th>2018</th>\n",
              "      <td>60</td>\n",
              "      <td>550000</td>\n",
              "      <td>480000</td>\n",
              "    </tr>\n",
              "    <tr>\n",
              "      <th>2019</th>\n",
              "      <td>190</td>\n",
              "      <td>700000</td>\n",
              "      <td>600000</td>\n",
              "    </tr>\n",
              "    <tr>\n",
              "      <th>2020</th>\n",
              "      <td>230</td>\n",
              "      <td>680000</td>\n",
              "      <td>590000</td>\n",
              "    </tr>\n",
              "  </tbody>\n",
              "</table>\n",
              "</div>"
            ],
            "text/plain": [
              "      판매량      매출     순이익\n",
              "연도                       \n",
              "2015  103  500000  370000\n",
              "2016   70  300000  190000\n",
              "2017  130  400000  300000\n",
              "2018   60  550000  480000\n",
              "2019  190  700000  600000\n",
              "2020  230  680000  590000"
            ]
          },
          "metadata": {
            "tags": []
          },
          "execution_count": 32
        }
      ]
    },
    {
      "cell_type": "markdown",
      "metadata": {
        "id": "y_zEYg5my77g",
        "colab_type": "text"
      },
      "source": [
        "## CSV 파일쓰기"
      ]
    },
    {
      "cell_type": "code",
      "metadata": {
        "id": "NQusO4q9y77h",
        "colab_type": "code",
        "colab": {}
      },
      "source": [
        "sales_data.to_csv('sales_data_save.csv', encoding='utf-8-sig')"
      ],
      "execution_count": 0,
      "outputs": []
    },
    {
      "cell_type": "markdown",
      "metadata": {
        "id": "srh2kyLTy77j",
        "colab_type": "text"
      },
      "source": [
        "## 데이터 추가"
      ]
    },
    {
      "cell_type": "code",
      "metadata": {
        "id": "9nJWcPpay77k",
        "colab_type": "code",
        "outputId": "fae5e377-fd06-4119-8a2f-b06b57d57b63",
        "colab": {}
      },
      "source": [
        "sales_data = {    \n",
        "    '연도':[2015, 2016, 2017, 2018, 2019, 2020],\n",
        "    '판매량':[103, 70, 130, 160, 190, 230],\n",
        "    '매출':[500000, 300000, 400000, 550000, 700000, 680000],\n",
        "    '순이익':[370000, 190000, 300000, 480000, 600000, 590000]\n",
        "}\n",
        "\n",
        "sales_data = pd.DataFrame(sales_data)\n",
        "sales_data"
      ],
      "execution_count": 0,
      "outputs": [
        {
          "output_type": "execute_result",
          "data": {
            "text/html": [
              "<div>\n",
              "<style scoped>\n",
              "    .dataframe tbody tr th:only-of-type {\n",
              "        vertical-align: middle;\n",
              "    }\n",
              "\n",
              "    .dataframe tbody tr th {\n",
              "        vertical-align: top;\n",
              "    }\n",
              "\n",
              "    .dataframe thead th {\n",
              "        text-align: right;\n",
              "    }\n",
              "</style>\n",
              "<table border=\"1\" class=\"dataframe\">\n",
              "  <thead>\n",
              "    <tr style=\"text-align: right;\">\n",
              "      <th></th>\n",
              "      <th>연도</th>\n",
              "      <th>판매량</th>\n",
              "      <th>매출</th>\n",
              "      <th>순이익</th>\n",
              "    </tr>\n",
              "  </thead>\n",
              "  <tbody>\n",
              "    <tr>\n",
              "      <th>0</th>\n",
              "      <td>2015</td>\n",
              "      <td>103</td>\n",
              "      <td>500000</td>\n",
              "      <td>370000</td>\n",
              "    </tr>\n",
              "    <tr>\n",
              "      <th>1</th>\n",
              "      <td>2016</td>\n",
              "      <td>70</td>\n",
              "      <td>300000</td>\n",
              "      <td>190000</td>\n",
              "    </tr>\n",
              "    <tr>\n",
              "      <th>2</th>\n",
              "      <td>2017</td>\n",
              "      <td>130</td>\n",
              "      <td>400000</td>\n",
              "      <td>300000</td>\n",
              "    </tr>\n",
              "    <tr>\n",
              "      <th>3</th>\n",
              "      <td>2018</td>\n",
              "      <td>160</td>\n",
              "      <td>550000</td>\n",
              "      <td>480000</td>\n",
              "    </tr>\n",
              "    <tr>\n",
              "      <th>4</th>\n",
              "      <td>2019</td>\n",
              "      <td>190</td>\n",
              "      <td>700000</td>\n",
              "      <td>600000</td>\n",
              "    </tr>\n",
              "    <tr>\n",
              "      <th>5</th>\n",
              "      <td>2020</td>\n",
              "      <td>230</td>\n",
              "      <td>680000</td>\n",
              "      <td>590000</td>\n",
              "    </tr>\n",
              "  </tbody>\n",
              "</table>\n",
              "</div>"
            ],
            "text/plain": [
              "     연도  판매량      매출     순이익\n",
              "0  2015  103  500000  370000\n",
              "1  2016   70  300000  190000\n",
              "2  2017  130  400000  300000\n",
              "3  2018  160  550000  480000\n",
              "4  2019  190  700000  600000\n",
              "5  2020  230  680000  590000"
            ]
          },
          "metadata": {
            "tags": []
          },
          "execution_count": 34
        }
      ]
    },
    {
      "cell_type": "code",
      "metadata": {
        "id": "g4IYwhh4y77m",
        "colab_type": "code",
        "outputId": "dab180c5-c144-4b13-e5e8-b98c217638bf",
        "colab": {}
      },
      "source": [
        "sales_data['순이익율'] = (sales_data['순이익']/sales_data['매출']) * 100\n",
        "sales_data"
      ],
      "execution_count": 0,
      "outputs": [
        {
          "output_type": "execute_result",
          "data": {
            "text/html": [
              "<div>\n",
              "<style scoped>\n",
              "    .dataframe tbody tr th:only-of-type {\n",
              "        vertical-align: middle;\n",
              "    }\n",
              "\n",
              "    .dataframe tbody tr th {\n",
              "        vertical-align: top;\n",
              "    }\n",
              "\n",
              "    .dataframe thead th {\n",
              "        text-align: right;\n",
              "    }\n",
              "</style>\n",
              "<table border=\"1\" class=\"dataframe\">\n",
              "  <thead>\n",
              "    <tr style=\"text-align: right;\">\n",
              "      <th></th>\n",
              "      <th>연도</th>\n",
              "      <th>판매량</th>\n",
              "      <th>매출</th>\n",
              "      <th>순이익</th>\n",
              "      <th>순이익율</th>\n",
              "    </tr>\n",
              "  </thead>\n",
              "  <tbody>\n",
              "    <tr>\n",
              "      <th>0</th>\n",
              "      <td>2015</td>\n",
              "      <td>103</td>\n",
              "      <td>500000</td>\n",
              "      <td>370000</td>\n",
              "      <td>74.000000</td>\n",
              "    </tr>\n",
              "    <tr>\n",
              "      <th>1</th>\n",
              "      <td>2016</td>\n",
              "      <td>70</td>\n",
              "      <td>300000</td>\n",
              "      <td>190000</td>\n",
              "      <td>63.333333</td>\n",
              "    </tr>\n",
              "    <tr>\n",
              "      <th>2</th>\n",
              "      <td>2017</td>\n",
              "      <td>130</td>\n",
              "      <td>400000</td>\n",
              "      <td>300000</td>\n",
              "      <td>75.000000</td>\n",
              "    </tr>\n",
              "    <tr>\n",
              "      <th>3</th>\n",
              "      <td>2018</td>\n",
              "      <td>160</td>\n",
              "      <td>550000</td>\n",
              "      <td>480000</td>\n",
              "      <td>87.272727</td>\n",
              "    </tr>\n",
              "    <tr>\n",
              "      <th>4</th>\n",
              "      <td>2019</td>\n",
              "      <td>190</td>\n",
              "      <td>700000</td>\n",
              "      <td>600000</td>\n",
              "      <td>85.714286</td>\n",
              "    </tr>\n",
              "    <tr>\n",
              "      <th>5</th>\n",
              "      <td>2020</td>\n",
              "      <td>230</td>\n",
              "      <td>680000</td>\n",
              "      <td>590000</td>\n",
              "      <td>86.764706</td>\n",
              "    </tr>\n",
              "  </tbody>\n",
              "</table>\n",
              "</div>"
            ],
            "text/plain": [
              "     연도  판매량      매출     순이익       순이익율\n",
              "0  2015  103  500000  370000  74.000000\n",
              "1  2016   70  300000  190000  63.333333\n",
              "2  2017  130  400000  300000  75.000000\n",
              "3  2018  160  550000  480000  87.272727\n",
              "4  2019  190  700000  600000  85.714286\n",
              "5  2020  230  680000  590000  86.764706"
            ]
          },
          "metadata": {
            "tags": []
          },
          "execution_count": 35
        }
      ]
    },
    {
      "cell_type": "code",
      "metadata": {
        "id": "a-jsnBoVy77p",
        "colab_type": "code",
        "outputId": "eafcb4f2-5884-457e-9478-42487a2b8dbd",
        "colab": {}
      },
      "source": [
        "def check(n):\n",
        "    if n > 80:\n",
        "        return '높음'\n",
        "    else:\n",
        "        return '낮음'\n",
        "\n",
        "sales_data['순이익율_비교'] = sales_data['순이익율'].apply(check)\n",
        "#sales_data['순이익율_비교'] = sales_data['순이익율'].apply(lambda n: '높음' if n > 80 else '낮음')\n",
        "sales_data"
      ],
      "execution_count": 0,
      "outputs": [
        {
          "output_type": "execute_result",
          "data": {
            "text/html": [
              "<div>\n",
              "<style scoped>\n",
              "    .dataframe tbody tr th:only-of-type {\n",
              "        vertical-align: middle;\n",
              "    }\n",
              "\n",
              "    .dataframe tbody tr th {\n",
              "        vertical-align: top;\n",
              "    }\n",
              "\n",
              "    .dataframe thead th {\n",
              "        text-align: right;\n",
              "    }\n",
              "</style>\n",
              "<table border=\"1\" class=\"dataframe\">\n",
              "  <thead>\n",
              "    <tr style=\"text-align: right;\">\n",
              "      <th></th>\n",
              "      <th>연도</th>\n",
              "      <th>판매량</th>\n",
              "      <th>매출</th>\n",
              "      <th>순이익</th>\n",
              "      <th>순이익율</th>\n",
              "      <th>순이익율_비교</th>\n",
              "    </tr>\n",
              "  </thead>\n",
              "  <tbody>\n",
              "    <tr>\n",
              "      <th>0</th>\n",
              "      <td>2015</td>\n",
              "      <td>103</td>\n",
              "      <td>500000</td>\n",
              "      <td>370000</td>\n",
              "      <td>74.000000</td>\n",
              "      <td>낮음</td>\n",
              "    </tr>\n",
              "    <tr>\n",
              "      <th>1</th>\n",
              "      <td>2016</td>\n",
              "      <td>70</td>\n",
              "      <td>300000</td>\n",
              "      <td>190000</td>\n",
              "      <td>63.333333</td>\n",
              "      <td>낮음</td>\n",
              "    </tr>\n",
              "    <tr>\n",
              "      <th>2</th>\n",
              "      <td>2017</td>\n",
              "      <td>130</td>\n",
              "      <td>400000</td>\n",
              "      <td>300000</td>\n",
              "      <td>75.000000</td>\n",
              "      <td>낮음</td>\n",
              "    </tr>\n",
              "    <tr>\n",
              "      <th>3</th>\n",
              "      <td>2018</td>\n",
              "      <td>160</td>\n",
              "      <td>550000</td>\n",
              "      <td>480000</td>\n",
              "      <td>87.272727</td>\n",
              "      <td>높음</td>\n",
              "    </tr>\n",
              "    <tr>\n",
              "      <th>4</th>\n",
              "      <td>2019</td>\n",
              "      <td>190</td>\n",
              "      <td>700000</td>\n",
              "      <td>600000</td>\n",
              "      <td>85.714286</td>\n",
              "      <td>높음</td>\n",
              "    </tr>\n",
              "    <tr>\n",
              "      <th>5</th>\n",
              "      <td>2020</td>\n",
              "      <td>230</td>\n",
              "      <td>680000</td>\n",
              "      <td>590000</td>\n",
              "      <td>86.764706</td>\n",
              "      <td>높음</td>\n",
              "    </tr>\n",
              "  </tbody>\n",
              "</table>\n",
              "</div>"
            ],
            "text/plain": [
              "     연도  판매량      매출     순이익       순이익율 순이익율_비교\n",
              "0  2015  103  500000  370000  74.000000      낮음\n",
              "1  2016   70  300000  190000  63.333333      낮음\n",
              "2  2017  130  400000  300000  75.000000      낮음\n",
              "3  2018  160  550000  480000  87.272727      높음\n",
              "4  2019  190  700000  600000  85.714286      높음\n",
              "5  2020  230  680000  590000  86.764706      높음"
            ]
          },
          "metadata": {
            "tags": []
          },
          "execution_count": 36
        }
      ]
    },
    {
      "cell_type": "markdown",
      "metadata": {
        "id": "8lmeY5h5y77u",
        "colab_type": "text"
      },
      "source": [
        "## 데이터 추가 2"
      ]
    },
    {
      "cell_type": "code",
      "metadata": {
        "id": "8mWto3k_y77u",
        "colab_type": "code",
        "outputId": "ef7fc3db-4d7a-4739-d558-a3e478f13864",
        "colab": {}
      },
      "source": [
        "sales_data = {    \n",
        "    '연도':[2015, 2016, 2017, 2018, 2019, 2020],\n",
        "    '판매량':[103, 70, 130, 160, 190, 230],\n",
        "    '매출':[500000, 300000, 400000, 550000, 700000, 680000],\n",
        "    '순이익':[370000, 190000, 300000, 480000, 600000, 590000]\n",
        "}\n",
        "\n",
        "sales_data = pd.DataFrame(sales_data)\n",
        "sales_data"
      ],
      "execution_count": 0,
      "outputs": [
        {
          "output_type": "execute_result",
          "data": {
            "text/html": [
              "<div>\n",
              "<style scoped>\n",
              "    .dataframe tbody tr th:only-of-type {\n",
              "        vertical-align: middle;\n",
              "    }\n",
              "\n",
              "    .dataframe tbody tr th {\n",
              "        vertical-align: top;\n",
              "    }\n",
              "\n",
              "    .dataframe thead th {\n",
              "        text-align: right;\n",
              "    }\n",
              "</style>\n",
              "<table border=\"1\" class=\"dataframe\">\n",
              "  <thead>\n",
              "    <tr style=\"text-align: right;\">\n",
              "      <th></th>\n",
              "      <th>연도</th>\n",
              "      <th>판매량</th>\n",
              "      <th>매출</th>\n",
              "      <th>순이익</th>\n",
              "    </tr>\n",
              "  </thead>\n",
              "  <tbody>\n",
              "    <tr>\n",
              "      <th>0</th>\n",
              "      <td>2015</td>\n",
              "      <td>103</td>\n",
              "      <td>500000</td>\n",
              "      <td>370000</td>\n",
              "    </tr>\n",
              "    <tr>\n",
              "      <th>1</th>\n",
              "      <td>2016</td>\n",
              "      <td>70</td>\n",
              "      <td>300000</td>\n",
              "      <td>190000</td>\n",
              "    </tr>\n",
              "    <tr>\n",
              "      <th>2</th>\n",
              "      <td>2017</td>\n",
              "      <td>130</td>\n",
              "      <td>400000</td>\n",
              "      <td>300000</td>\n",
              "    </tr>\n",
              "    <tr>\n",
              "      <th>3</th>\n",
              "      <td>2018</td>\n",
              "      <td>160</td>\n",
              "      <td>550000</td>\n",
              "      <td>480000</td>\n",
              "    </tr>\n",
              "    <tr>\n",
              "      <th>4</th>\n",
              "      <td>2019</td>\n",
              "      <td>190</td>\n",
              "      <td>700000</td>\n",
              "      <td>600000</td>\n",
              "    </tr>\n",
              "    <tr>\n",
              "      <th>5</th>\n",
              "      <td>2020</td>\n",
              "      <td>230</td>\n",
              "      <td>680000</td>\n",
              "      <td>590000</td>\n",
              "    </tr>\n",
              "  </tbody>\n",
              "</table>\n",
              "</div>"
            ],
            "text/plain": [
              "     연도  판매량      매출     순이익\n",
              "0  2015  103  500000  370000\n",
              "1  2016   70  300000  190000\n",
              "2  2017  130  400000  300000\n",
              "3  2018  160  550000  480000\n",
              "4  2019  190  700000  600000\n",
              "5  2020  230  680000  590000"
            ]
          },
          "metadata": {
            "tags": []
          },
          "execution_count": 37
        }
      ]
    },
    {
      "cell_type": "code",
      "metadata": {
        "id": "buVIibzmy77w",
        "colab_type": "code",
        "outputId": "9d71d541-279c-423e-91bd-43f12e3d31d9",
        "colab": {}
      },
      "source": [
        "sales_data[sales_data['매출'] > 300000]"
      ],
      "execution_count": 0,
      "outputs": [
        {
          "output_type": "execute_result",
          "data": {
            "text/html": [
              "<div>\n",
              "<style scoped>\n",
              "    .dataframe tbody tr th:only-of-type {\n",
              "        vertical-align: middle;\n",
              "    }\n",
              "\n",
              "    .dataframe tbody tr th {\n",
              "        vertical-align: top;\n",
              "    }\n",
              "\n",
              "    .dataframe thead th {\n",
              "        text-align: right;\n",
              "    }\n",
              "</style>\n",
              "<table border=\"1\" class=\"dataframe\">\n",
              "  <thead>\n",
              "    <tr style=\"text-align: right;\">\n",
              "      <th></th>\n",
              "      <th>연도</th>\n",
              "      <th>판매량</th>\n",
              "      <th>매출</th>\n",
              "      <th>순이익</th>\n",
              "    </tr>\n",
              "  </thead>\n",
              "  <tbody>\n",
              "    <tr>\n",
              "      <th>0</th>\n",
              "      <td>2015</td>\n",
              "      <td>103</td>\n",
              "      <td>500000</td>\n",
              "      <td>370000</td>\n",
              "    </tr>\n",
              "    <tr>\n",
              "      <th>2</th>\n",
              "      <td>2017</td>\n",
              "      <td>130</td>\n",
              "      <td>400000</td>\n",
              "      <td>300000</td>\n",
              "    </tr>\n",
              "    <tr>\n",
              "      <th>3</th>\n",
              "      <td>2018</td>\n",
              "      <td>160</td>\n",
              "      <td>550000</td>\n",
              "      <td>480000</td>\n",
              "    </tr>\n",
              "    <tr>\n",
              "      <th>4</th>\n",
              "      <td>2019</td>\n",
              "      <td>190</td>\n",
              "      <td>700000</td>\n",
              "      <td>600000</td>\n",
              "    </tr>\n",
              "    <tr>\n",
              "      <th>5</th>\n",
              "      <td>2020</td>\n",
              "      <td>230</td>\n",
              "      <td>680000</td>\n",
              "      <td>590000</td>\n",
              "    </tr>\n",
              "  </tbody>\n",
              "</table>\n",
              "</div>"
            ],
            "text/plain": [
              "     연도  판매량      매출     순이익\n",
              "0  2015  103  500000  370000\n",
              "2  2017  130  400000  300000\n",
              "3  2018  160  550000  480000\n",
              "4  2019  190  700000  600000\n",
              "5  2020  230  680000  590000"
            ]
          },
          "metadata": {
            "tags": []
          },
          "execution_count": 38
        }
      ]
    },
    {
      "cell_type": "code",
      "metadata": {
        "id": "I0d2FIuKy77z",
        "colab_type": "code",
        "outputId": "8bebbcb6-415a-42e3-e0eb-b96c981c073c",
        "colab": {}
      },
      "source": [
        "sales_data['테스트1'] = np.where(sales_data['판매량'] > 200, 0, sales_data['판매량'])\n",
        "sales_data"
      ],
      "execution_count": 0,
      "outputs": [
        {
          "output_type": "execute_result",
          "data": {
            "text/html": [
              "<div>\n",
              "<style scoped>\n",
              "    .dataframe tbody tr th:only-of-type {\n",
              "        vertical-align: middle;\n",
              "    }\n",
              "\n",
              "    .dataframe tbody tr th {\n",
              "        vertical-align: top;\n",
              "    }\n",
              "\n",
              "    .dataframe thead th {\n",
              "        text-align: right;\n",
              "    }\n",
              "</style>\n",
              "<table border=\"1\" class=\"dataframe\">\n",
              "  <thead>\n",
              "    <tr style=\"text-align: right;\">\n",
              "      <th></th>\n",
              "      <th>연도</th>\n",
              "      <th>판매량</th>\n",
              "      <th>매출</th>\n",
              "      <th>순이익</th>\n",
              "      <th>테스트1</th>\n",
              "    </tr>\n",
              "  </thead>\n",
              "  <tbody>\n",
              "    <tr>\n",
              "      <th>0</th>\n",
              "      <td>2015</td>\n",
              "      <td>103</td>\n",
              "      <td>500000</td>\n",
              "      <td>370000</td>\n",
              "      <td>103</td>\n",
              "    </tr>\n",
              "    <tr>\n",
              "      <th>1</th>\n",
              "      <td>2016</td>\n",
              "      <td>70</td>\n",
              "      <td>300000</td>\n",
              "      <td>190000</td>\n",
              "      <td>70</td>\n",
              "    </tr>\n",
              "    <tr>\n",
              "      <th>2</th>\n",
              "      <td>2017</td>\n",
              "      <td>130</td>\n",
              "      <td>400000</td>\n",
              "      <td>300000</td>\n",
              "      <td>130</td>\n",
              "    </tr>\n",
              "    <tr>\n",
              "      <th>3</th>\n",
              "      <td>2018</td>\n",
              "      <td>160</td>\n",
              "      <td>550000</td>\n",
              "      <td>480000</td>\n",
              "      <td>160</td>\n",
              "    </tr>\n",
              "    <tr>\n",
              "      <th>4</th>\n",
              "      <td>2019</td>\n",
              "      <td>190</td>\n",
              "      <td>700000</td>\n",
              "      <td>600000</td>\n",
              "      <td>190</td>\n",
              "    </tr>\n",
              "    <tr>\n",
              "      <th>5</th>\n",
              "      <td>2020</td>\n",
              "      <td>230</td>\n",
              "      <td>680000</td>\n",
              "      <td>590000</td>\n",
              "      <td>0</td>\n",
              "    </tr>\n",
              "  </tbody>\n",
              "</table>\n",
              "</div>"
            ],
            "text/plain": [
              "     연도  판매량      매출     순이익  테스트1\n",
              "0  2015  103  500000  370000   103\n",
              "1  2016   70  300000  190000    70\n",
              "2  2017  130  400000  300000   130\n",
              "3  2018  160  550000  480000   160\n",
              "4  2019  190  700000  600000   190\n",
              "5  2020  230  680000  590000     0"
            ]
          },
          "metadata": {
            "tags": []
          },
          "execution_count": 39
        }
      ]
    },
    {
      "cell_type": "code",
      "metadata": {
        "id": "d9Hsqb-xy771",
        "colab_type": "code",
        "outputId": "00e0efbc-08c3-450c-ba6e-31860cf1aa68",
        "colab": {}
      },
      "source": [
        "sales_data['테스트2'] = sales_data[sales_data['판매량'] < 100]['판매량'] + 50\n",
        "sales_data"
      ],
      "execution_count": 0,
      "outputs": [
        {
          "output_type": "execute_result",
          "data": {
            "text/html": [
              "<div>\n",
              "<style scoped>\n",
              "    .dataframe tbody tr th:only-of-type {\n",
              "        vertical-align: middle;\n",
              "    }\n",
              "\n",
              "    .dataframe tbody tr th {\n",
              "        vertical-align: top;\n",
              "    }\n",
              "\n",
              "    .dataframe thead th {\n",
              "        text-align: right;\n",
              "    }\n",
              "</style>\n",
              "<table border=\"1\" class=\"dataframe\">\n",
              "  <thead>\n",
              "    <tr style=\"text-align: right;\">\n",
              "      <th></th>\n",
              "      <th>연도</th>\n",
              "      <th>판매량</th>\n",
              "      <th>매출</th>\n",
              "      <th>순이익</th>\n",
              "      <th>테스트1</th>\n",
              "      <th>테스트2</th>\n",
              "    </tr>\n",
              "  </thead>\n",
              "  <tbody>\n",
              "    <tr>\n",
              "      <th>0</th>\n",
              "      <td>2015</td>\n",
              "      <td>103</td>\n",
              "      <td>500000</td>\n",
              "      <td>370000</td>\n",
              "      <td>103</td>\n",
              "      <td>NaN</td>\n",
              "    </tr>\n",
              "    <tr>\n",
              "      <th>1</th>\n",
              "      <td>2016</td>\n",
              "      <td>70</td>\n",
              "      <td>300000</td>\n",
              "      <td>190000</td>\n",
              "      <td>70</td>\n",
              "      <td>120.0</td>\n",
              "    </tr>\n",
              "    <tr>\n",
              "      <th>2</th>\n",
              "      <td>2017</td>\n",
              "      <td>130</td>\n",
              "      <td>400000</td>\n",
              "      <td>300000</td>\n",
              "      <td>130</td>\n",
              "      <td>NaN</td>\n",
              "    </tr>\n",
              "    <tr>\n",
              "      <th>3</th>\n",
              "      <td>2018</td>\n",
              "      <td>160</td>\n",
              "      <td>550000</td>\n",
              "      <td>480000</td>\n",
              "      <td>160</td>\n",
              "      <td>NaN</td>\n",
              "    </tr>\n",
              "    <tr>\n",
              "      <th>4</th>\n",
              "      <td>2019</td>\n",
              "      <td>190</td>\n",
              "      <td>700000</td>\n",
              "      <td>600000</td>\n",
              "      <td>190</td>\n",
              "      <td>NaN</td>\n",
              "    </tr>\n",
              "    <tr>\n",
              "      <th>5</th>\n",
              "      <td>2020</td>\n",
              "      <td>230</td>\n",
              "      <td>680000</td>\n",
              "      <td>590000</td>\n",
              "      <td>0</td>\n",
              "      <td>NaN</td>\n",
              "    </tr>\n",
              "  </tbody>\n",
              "</table>\n",
              "</div>"
            ],
            "text/plain": [
              "     연도  판매량      매출     순이익  테스트1   테스트2\n",
              "0  2015  103  500000  370000   103    NaN\n",
              "1  2016   70  300000  190000    70  120.0\n",
              "2  2017  130  400000  300000   130    NaN\n",
              "3  2018  160  550000  480000   160    NaN\n",
              "4  2019  190  700000  600000   190    NaN\n",
              "5  2020  230  680000  590000     0    NaN"
            ]
          },
          "metadata": {
            "tags": []
          },
          "execution_count": 40
        }
      ]
    },
    {
      "cell_type": "code",
      "metadata": {
        "id": "g6y538P4y774",
        "colab_type": "code",
        "outputId": "339d4969-bd11-41ae-e516-07c9a0f0d8a2",
        "colab": {}
      },
      "source": [
        "sales_data.loc[6] = [2021, 720000,650000, 360, 0, 0]\n",
        "sales_data"
      ],
      "execution_count": 0,
      "outputs": [
        {
          "output_type": "execute_result",
          "data": {
            "text/html": [
              "<div>\n",
              "<style scoped>\n",
              "    .dataframe tbody tr th:only-of-type {\n",
              "        vertical-align: middle;\n",
              "    }\n",
              "\n",
              "    .dataframe tbody tr th {\n",
              "        vertical-align: top;\n",
              "    }\n",
              "\n",
              "    .dataframe thead th {\n",
              "        text-align: right;\n",
              "    }\n",
              "</style>\n",
              "<table border=\"1\" class=\"dataframe\">\n",
              "  <thead>\n",
              "    <tr style=\"text-align: right;\">\n",
              "      <th></th>\n",
              "      <th>연도</th>\n",
              "      <th>판매량</th>\n",
              "      <th>매출</th>\n",
              "      <th>순이익</th>\n",
              "      <th>테스트1</th>\n",
              "      <th>테스트2</th>\n",
              "    </tr>\n",
              "  </thead>\n",
              "  <tbody>\n",
              "    <tr>\n",
              "      <th>0</th>\n",
              "      <td>2015</td>\n",
              "      <td>103</td>\n",
              "      <td>500000</td>\n",
              "      <td>370000</td>\n",
              "      <td>103</td>\n",
              "      <td>NaN</td>\n",
              "    </tr>\n",
              "    <tr>\n",
              "      <th>1</th>\n",
              "      <td>2016</td>\n",
              "      <td>70</td>\n",
              "      <td>300000</td>\n",
              "      <td>190000</td>\n",
              "      <td>70</td>\n",
              "      <td>120.0</td>\n",
              "    </tr>\n",
              "    <tr>\n",
              "      <th>2</th>\n",
              "      <td>2017</td>\n",
              "      <td>130</td>\n",
              "      <td>400000</td>\n",
              "      <td>300000</td>\n",
              "      <td>130</td>\n",
              "      <td>NaN</td>\n",
              "    </tr>\n",
              "    <tr>\n",
              "      <th>3</th>\n",
              "      <td>2018</td>\n",
              "      <td>160</td>\n",
              "      <td>550000</td>\n",
              "      <td>480000</td>\n",
              "      <td>160</td>\n",
              "      <td>NaN</td>\n",
              "    </tr>\n",
              "    <tr>\n",
              "      <th>4</th>\n",
              "      <td>2019</td>\n",
              "      <td>190</td>\n",
              "      <td>700000</td>\n",
              "      <td>600000</td>\n",
              "      <td>190</td>\n",
              "      <td>NaN</td>\n",
              "    </tr>\n",
              "    <tr>\n",
              "      <th>5</th>\n",
              "      <td>2020</td>\n",
              "      <td>230</td>\n",
              "      <td>680000</td>\n",
              "      <td>590000</td>\n",
              "      <td>0</td>\n",
              "      <td>NaN</td>\n",
              "    </tr>\n",
              "    <tr>\n",
              "      <th>6</th>\n",
              "      <td>2021</td>\n",
              "      <td>720000</td>\n",
              "      <td>650000</td>\n",
              "      <td>360</td>\n",
              "      <td>0</td>\n",
              "      <td>0.0</td>\n",
              "    </tr>\n",
              "  </tbody>\n",
              "</table>\n",
              "</div>"
            ],
            "text/plain": [
              "     연도     판매량      매출     순이익  테스트1   테스트2\n",
              "0  2015     103  500000  370000   103    NaN\n",
              "1  2016      70  300000  190000    70  120.0\n",
              "2  2017     130  400000  300000   130    NaN\n",
              "3  2018     160  550000  480000   160    NaN\n",
              "4  2019     190  700000  600000   190    NaN\n",
              "5  2020     230  680000  590000     0    NaN\n",
              "6  2021  720000  650000     360     0    0.0"
            ]
          },
          "metadata": {
            "tags": []
          },
          "execution_count": 41
        }
      ]
    },
    {
      "cell_type": "code",
      "metadata": {
        "id": "AYvNdcWSy777",
        "colab_type": "code",
        "outputId": "f70d0d63-4202-4c97-b425-fcc93102f7b0",
        "colab": {}
      },
      "source": [
        "sales_data.loc[7] = sales_data.loc[5] + 100\n",
        "sales_data"
      ],
      "execution_count": 0,
      "outputs": [
        {
          "output_type": "execute_result",
          "data": {
            "text/html": [
              "<div>\n",
              "<style scoped>\n",
              "    .dataframe tbody tr th:only-of-type {\n",
              "        vertical-align: middle;\n",
              "    }\n",
              "\n",
              "    .dataframe tbody tr th {\n",
              "        vertical-align: top;\n",
              "    }\n",
              "\n",
              "    .dataframe thead th {\n",
              "        text-align: right;\n",
              "    }\n",
              "</style>\n",
              "<table border=\"1\" class=\"dataframe\">\n",
              "  <thead>\n",
              "    <tr style=\"text-align: right;\">\n",
              "      <th></th>\n",
              "      <th>연도</th>\n",
              "      <th>판매량</th>\n",
              "      <th>매출</th>\n",
              "      <th>순이익</th>\n",
              "      <th>테스트1</th>\n",
              "      <th>테스트2</th>\n",
              "    </tr>\n",
              "  </thead>\n",
              "  <tbody>\n",
              "    <tr>\n",
              "      <th>0</th>\n",
              "      <td>2015.0</td>\n",
              "      <td>103.0</td>\n",
              "      <td>500000.0</td>\n",
              "      <td>370000.0</td>\n",
              "      <td>103.0</td>\n",
              "      <td>NaN</td>\n",
              "    </tr>\n",
              "    <tr>\n",
              "      <th>1</th>\n",
              "      <td>2016.0</td>\n",
              "      <td>70.0</td>\n",
              "      <td>300000.0</td>\n",
              "      <td>190000.0</td>\n",
              "      <td>70.0</td>\n",
              "      <td>120.0</td>\n",
              "    </tr>\n",
              "    <tr>\n",
              "      <th>2</th>\n",
              "      <td>2017.0</td>\n",
              "      <td>130.0</td>\n",
              "      <td>400000.0</td>\n",
              "      <td>300000.0</td>\n",
              "      <td>130.0</td>\n",
              "      <td>NaN</td>\n",
              "    </tr>\n",
              "    <tr>\n",
              "      <th>3</th>\n",
              "      <td>2018.0</td>\n",
              "      <td>160.0</td>\n",
              "      <td>550000.0</td>\n",
              "      <td>480000.0</td>\n",
              "      <td>160.0</td>\n",
              "      <td>NaN</td>\n",
              "    </tr>\n",
              "    <tr>\n",
              "      <th>4</th>\n",
              "      <td>2019.0</td>\n",
              "      <td>190.0</td>\n",
              "      <td>700000.0</td>\n",
              "      <td>600000.0</td>\n",
              "      <td>190.0</td>\n",
              "      <td>NaN</td>\n",
              "    </tr>\n",
              "    <tr>\n",
              "      <th>5</th>\n",
              "      <td>2020.0</td>\n",
              "      <td>230.0</td>\n",
              "      <td>680000.0</td>\n",
              "      <td>590000.0</td>\n",
              "      <td>0.0</td>\n",
              "      <td>NaN</td>\n",
              "    </tr>\n",
              "    <tr>\n",
              "      <th>6</th>\n",
              "      <td>2021.0</td>\n",
              "      <td>720000.0</td>\n",
              "      <td>650000.0</td>\n",
              "      <td>360.0</td>\n",
              "      <td>0.0</td>\n",
              "      <td>0.0</td>\n",
              "    </tr>\n",
              "    <tr>\n",
              "      <th>7</th>\n",
              "      <td>2120.0</td>\n",
              "      <td>330.0</td>\n",
              "      <td>680100.0</td>\n",
              "      <td>590100.0</td>\n",
              "      <td>100.0</td>\n",
              "      <td>NaN</td>\n",
              "    </tr>\n",
              "  </tbody>\n",
              "</table>\n",
              "</div>"
            ],
            "text/plain": [
              "       연도       판매량        매출       순이익   테스트1   테스트2\n",
              "0  2015.0     103.0  500000.0  370000.0  103.0    NaN\n",
              "1  2016.0      70.0  300000.0  190000.0   70.0  120.0\n",
              "2  2017.0     130.0  400000.0  300000.0  130.0    NaN\n",
              "3  2018.0     160.0  550000.0  480000.0  160.0    NaN\n",
              "4  2019.0     190.0  700000.0  600000.0  190.0    NaN\n",
              "5  2020.0     230.0  680000.0  590000.0    0.0    NaN\n",
              "6  2021.0  720000.0  650000.0     360.0    0.0    0.0\n",
              "7  2120.0     330.0  680100.0  590100.0  100.0    NaN"
            ]
          },
          "metadata": {
            "tags": []
          },
          "execution_count": 42
        }
      ]
    },
    {
      "cell_type": "markdown",
      "metadata": {
        "id": "QMk62gddy78E",
        "colab_type": "text"
      },
      "source": [
        "## 데이터 삭제"
      ]
    },
    {
      "cell_type": "code",
      "metadata": {
        "id": "yCSf6_0gy78E",
        "colab_type": "code",
        "outputId": "b43468a1-307b-4584-b351-7650224bdda2",
        "colab": {}
      },
      "source": [
        "sales_data = {    \n",
        "    '연도':[2015, 2016, 2017, 2018, 2019, 2020],\n",
        "    '판매량':[103, 70, 130, 160, 190, 230],\n",
        "    '매출':[500000, 300000, 400000, 550000, 700000, 680000],\n",
        "    '순이익':[370000, 190000, 300000, 480000, 600000, 590000]\n",
        "}\n",
        "\n",
        "sales_data = pd.DataFrame(sales_data)\n",
        "sales_data['테스트1'] = 'test1'\n",
        "sales_data['테스트2'] = 'test2'\n",
        "sales_data['테스트3'] = 'test3'\n",
        "\n",
        "sales_data"
      ],
      "execution_count": 0,
      "outputs": [
        {
          "output_type": "execute_result",
          "data": {
            "text/html": [
              "<div>\n",
              "<style scoped>\n",
              "    .dataframe tbody tr th:only-of-type {\n",
              "        vertical-align: middle;\n",
              "    }\n",
              "\n",
              "    .dataframe tbody tr th {\n",
              "        vertical-align: top;\n",
              "    }\n",
              "\n",
              "    .dataframe thead th {\n",
              "        text-align: right;\n",
              "    }\n",
              "</style>\n",
              "<table border=\"1\" class=\"dataframe\">\n",
              "  <thead>\n",
              "    <tr style=\"text-align: right;\">\n",
              "      <th></th>\n",
              "      <th>연도</th>\n",
              "      <th>판매량</th>\n",
              "      <th>매출</th>\n",
              "      <th>순이익</th>\n",
              "      <th>테스트1</th>\n",
              "      <th>테스트2</th>\n",
              "      <th>테스트3</th>\n",
              "    </tr>\n",
              "  </thead>\n",
              "  <tbody>\n",
              "    <tr>\n",
              "      <th>0</th>\n",
              "      <td>2015</td>\n",
              "      <td>103</td>\n",
              "      <td>500000</td>\n",
              "      <td>370000</td>\n",
              "      <td>test1</td>\n",
              "      <td>test2</td>\n",
              "      <td>test3</td>\n",
              "    </tr>\n",
              "    <tr>\n",
              "      <th>1</th>\n",
              "      <td>2016</td>\n",
              "      <td>70</td>\n",
              "      <td>300000</td>\n",
              "      <td>190000</td>\n",
              "      <td>test1</td>\n",
              "      <td>test2</td>\n",
              "      <td>test3</td>\n",
              "    </tr>\n",
              "    <tr>\n",
              "      <th>2</th>\n",
              "      <td>2017</td>\n",
              "      <td>130</td>\n",
              "      <td>400000</td>\n",
              "      <td>300000</td>\n",
              "      <td>test1</td>\n",
              "      <td>test2</td>\n",
              "      <td>test3</td>\n",
              "    </tr>\n",
              "    <tr>\n",
              "      <th>3</th>\n",
              "      <td>2018</td>\n",
              "      <td>160</td>\n",
              "      <td>550000</td>\n",
              "      <td>480000</td>\n",
              "      <td>test1</td>\n",
              "      <td>test2</td>\n",
              "      <td>test3</td>\n",
              "    </tr>\n",
              "    <tr>\n",
              "      <th>4</th>\n",
              "      <td>2019</td>\n",
              "      <td>190</td>\n",
              "      <td>700000</td>\n",
              "      <td>600000</td>\n",
              "      <td>test1</td>\n",
              "      <td>test2</td>\n",
              "      <td>test3</td>\n",
              "    </tr>\n",
              "    <tr>\n",
              "      <th>5</th>\n",
              "      <td>2020</td>\n",
              "      <td>230</td>\n",
              "      <td>680000</td>\n",
              "      <td>590000</td>\n",
              "      <td>test1</td>\n",
              "      <td>test2</td>\n",
              "      <td>test3</td>\n",
              "    </tr>\n",
              "  </tbody>\n",
              "</table>\n",
              "</div>"
            ],
            "text/plain": [
              "     연도  판매량      매출     순이익   테스트1   테스트2   테스트3\n",
              "0  2015  103  500000  370000  test1  test2  test3\n",
              "1  2016   70  300000  190000  test1  test2  test3\n",
              "2  2017  130  400000  300000  test1  test2  test3\n",
              "3  2018  160  550000  480000  test1  test2  test3\n",
              "4  2019  190  700000  600000  test1  test2  test3\n",
              "5  2020  230  680000  590000  test1  test2  test3"
            ]
          },
          "metadata": {
            "tags": []
          },
          "execution_count": 43
        }
      ]
    },
    {
      "cell_type": "code",
      "metadata": {
        "id": "S1bXRuhWy78G",
        "colab_type": "code",
        "outputId": "7a0c74fb-9610-4aab-a02c-2f78e4373292",
        "colab": {}
      },
      "source": [
        "del sales_data['테스트1']\n",
        "sales_data"
      ],
      "execution_count": 0,
      "outputs": [
        {
          "output_type": "execute_result",
          "data": {
            "text/html": [
              "<div>\n",
              "<style scoped>\n",
              "    .dataframe tbody tr th:only-of-type {\n",
              "        vertical-align: middle;\n",
              "    }\n",
              "\n",
              "    .dataframe tbody tr th {\n",
              "        vertical-align: top;\n",
              "    }\n",
              "\n",
              "    .dataframe thead th {\n",
              "        text-align: right;\n",
              "    }\n",
              "</style>\n",
              "<table border=\"1\" class=\"dataframe\">\n",
              "  <thead>\n",
              "    <tr style=\"text-align: right;\">\n",
              "      <th></th>\n",
              "      <th>연도</th>\n",
              "      <th>판매량</th>\n",
              "      <th>매출</th>\n",
              "      <th>순이익</th>\n",
              "      <th>테스트2</th>\n",
              "      <th>테스트3</th>\n",
              "    </tr>\n",
              "  </thead>\n",
              "  <tbody>\n",
              "    <tr>\n",
              "      <th>0</th>\n",
              "      <td>2015</td>\n",
              "      <td>103</td>\n",
              "      <td>500000</td>\n",
              "      <td>370000</td>\n",
              "      <td>test2</td>\n",
              "      <td>test3</td>\n",
              "    </tr>\n",
              "    <tr>\n",
              "      <th>1</th>\n",
              "      <td>2016</td>\n",
              "      <td>70</td>\n",
              "      <td>300000</td>\n",
              "      <td>190000</td>\n",
              "      <td>test2</td>\n",
              "      <td>test3</td>\n",
              "    </tr>\n",
              "    <tr>\n",
              "      <th>2</th>\n",
              "      <td>2017</td>\n",
              "      <td>130</td>\n",
              "      <td>400000</td>\n",
              "      <td>300000</td>\n",
              "      <td>test2</td>\n",
              "      <td>test3</td>\n",
              "    </tr>\n",
              "    <tr>\n",
              "      <th>3</th>\n",
              "      <td>2018</td>\n",
              "      <td>160</td>\n",
              "      <td>550000</td>\n",
              "      <td>480000</td>\n",
              "      <td>test2</td>\n",
              "      <td>test3</td>\n",
              "    </tr>\n",
              "    <tr>\n",
              "      <th>4</th>\n",
              "      <td>2019</td>\n",
              "      <td>190</td>\n",
              "      <td>700000</td>\n",
              "      <td>600000</td>\n",
              "      <td>test2</td>\n",
              "      <td>test3</td>\n",
              "    </tr>\n",
              "    <tr>\n",
              "      <th>5</th>\n",
              "      <td>2020</td>\n",
              "      <td>230</td>\n",
              "      <td>680000</td>\n",
              "      <td>590000</td>\n",
              "      <td>test2</td>\n",
              "      <td>test3</td>\n",
              "    </tr>\n",
              "  </tbody>\n",
              "</table>\n",
              "</div>"
            ],
            "text/plain": [
              "     연도  판매량      매출     순이익   테스트2   테스트3\n",
              "0  2015  103  500000  370000  test2  test3\n",
              "1  2016   70  300000  190000  test2  test3\n",
              "2  2017  130  400000  300000  test2  test3\n",
              "3  2018  160  550000  480000  test2  test3\n",
              "4  2019  190  700000  600000  test2  test3\n",
              "5  2020  230  680000  590000  test2  test3"
            ]
          },
          "metadata": {
            "tags": []
          },
          "execution_count": 44
        }
      ]
    },
    {
      "cell_type": "code",
      "metadata": {
        "id": "2jHqdeUjy78J",
        "colab_type": "code",
        "outputId": "b1fe0645-ec1f-41a0-b771-fa903ae993a8",
        "colab": {}
      },
      "source": [
        "sales_data.drop(['테스트2'], axis='columns', inplace=True)\n",
        "sales_data"
      ],
      "execution_count": 0,
      "outputs": [
        {
          "output_type": "execute_result",
          "data": {
            "text/html": [
              "<div>\n",
              "<style scoped>\n",
              "    .dataframe tbody tr th:only-of-type {\n",
              "        vertical-align: middle;\n",
              "    }\n",
              "\n",
              "    .dataframe tbody tr th {\n",
              "        vertical-align: top;\n",
              "    }\n",
              "\n",
              "    .dataframe thead th {\n",
              "        text-align: right;\n",
              "    }\n",
              "</style>\n",
              "<table border=\"1\" class=\"dataframe\">\n",
              "  <thead>\n",
              "    <tr style=\"text-align: right;\">\n",
              "      <th></th>\n",
              "      <th>연도</th>\n",
              "      <th>판매량</th>\n",
              "      <th>매출</th>\n",
              "      <th>순이익</th>\n",
              "      <th>테스트3</th>\n",
              "    </tr>\n",
              "  </thead>\n",
              "  <tbody>\n",
              "    <tr>\n",
              "      <th>0</th>\n",
              "      <td>2015</td>\n",
              "      <td>103</td>\n",
              "      <td>500000</td>\n",
              "      <td>370000</td>\n",
              "      <td>test3</td>\n",
              "    </tr>\n",
              "    <tr>\n",
              "      <th>1</th>\n",
              "      <td>2016</td>\n",
              "      <td>70</td>\n",
              "      <td>300000</td>\n",
              "      <td>190000</td>\n",
              "      <td>test3</td>\n",
              "    </tr>\n",
              "    <tr>\n",
              "      <th>2</th>\n",
              "      <td>2017</td>\n",
              "      <td>130</td>\n",
              "      <td>400000</td>\n",
              "      <td>300000</td>\n",
              "      <td>test3</td>\n",
              "    </tr>\n",
              "    <tr>\n",
              "      <th>3</th>\n",
              "      <td>2018</td>\n",
              "      <td>160</td>\n",
              "      <td>550000</td>\n",
              "      <td>480000</td>\n",
              "      <td>test3</td>\n",
              "    </tr>\n",
              "    <tr>\n",
              "      <th>4</th>\n",
              "      <td>2019</td>\n",
              "      <td>190</td>\n",
              "      <td>700000</td>\n",
              "      <td>600000</td>\n",
              "      <td>test3</td>\n",
              "    </tr>\n",
              "    <tr>\n",
              "      <th>5</th>\n",
              "      <td>2020</td>\n",
              "      <td>230</td>\n",
              "      <td>680000</td>\n",
              "      <td>590000</td>\n",
              "      <td>test3</td>\n",
              "    </tr>\n",
              "  </tbody>\n",
              "</table>\n",
              "</div>"
            ],
            "text/plain": [
              "     연도  판매량      매출     순이익   테스트3\n",
              "0  2015  103  500000  370000  test3\n",
              "1  2016   70  300000  190000  test3\n",
              "2  2017  130  400000  300000  test3\n",
              "3  2018  160  550000  480000  test3\n",
              "4  2019  190  700000  600000  test3\n",
              "5  2020  230  680000  590000  test3"
            ]
          },
          "metadata": {
            "tags": []
          },
          "execution_count": 45
        }
      ]
    },
    {
      "cell_type": "code",
      "metadata": {
        "id": "I7o24CnWy78M",
        "colab_type": "code",
        "outputId": "01aaaa0b-e838-4360-eca3-41a2f248b1d9",
        "colab": {}
      },
      "source": [
        "sales_data.drop(['테스트3'], axis='columns', inplace=True)\n",
        "sales_data"
      ],
      "execution_count": 0,
      "outputs": [
        {
          "output_type": "execute_result",
          "data": {
            "text/html": [
              "<div>\n",
              "<style scoped>\n",
              "    .dataframe tbody tr th:only-of-type {\n",
              "        vertical-align: middle;\n",
              "    }\n",
              "\n",
              "    .dataframe tbody tr th {\n",
              "        vertical-align: top;\n",
              "    }\n",
              "\n",
              "    .dataframe thead th {\n",
              "        text-align: right;\n",
              "    }\n",
              "</style>\n",
              "<table border=\"1\" class=\"dataframe\">\n",
              "  <thead>\n",
              "    <tr style=\"text-align: right;\">\n",
              "      <th></th>\n",
              "      <th>연도</th>\n",
              "      <th>판매량</th>\n",
              "      <th>매출</th>\n",
              "      <th>순이익</th>\n",
              "    </tr>\n",
              "  </thead>\n",
              "  <tbody>\n",
              "    <tr>\n",
              "      <th>0</th>\n",
              "      <td>2015</td>\n",
              "      <td>103</td>\n",
              "      <td>500000</td>\n",
              "      <td>370000</td>\n",
              "    </tr>\n",
              "    <tr>\n",
              "      <th>1</th>\n",
              "      <td>2016</td>\n",
              "      <td>70</td>\n",
              "      <td>300000</td>\n",
              "      <td>190000</td>\n",
              "    </tr>\n",
              "    <tr>\n",
              "      <th>2</th>\n",
              "      <td>2017</td>\n",
              "      <td>130</td>\n",
              "      <td>400000</td>\n",
              "      <td>300000</td>\n",
              "    </tr>\n",
              "    <tr>\n",
              "      <th>3</th>\n",
              "      <td>2018</td>\n",
              "      <td>160</td>\n",
              "      <td>550000</td>\n",
              "      <td>480000</td>\n",
              "    </tr>\n",
              "    <tr>\n",
              "      <th>4</th>\n",
              "      <td>2019</td>\n",
              "      <td>190</td>\n",
              "      <td>700000</td>\n",
              "      <td>600000</td>\n",
              "    </tr>\n",
              "    <tr>\n",
              "      <th>5</th>\n",
              "      <td>2020</td>\n",
              "      <td>230</td>\n",
              "      <td>680000</td>\n",
              "      <td>590000</td>\n",
              "    </tr>\n",
              "  </tbody>\n",
              "</table>\n",
              "</div>"
            ],
            "text/plain": [
              "     연도  판매량      매출     순이익\n",
              "0  2015  103  500000  370000\n",
              "1  2016   70  300000  190000\n",
              "2  2017  130  400000  300000\n",
              "3  2018  160  550000  480000\n",
              "4  2019  190  700000  600000\n",
              "5  2020  230  680000  590000"
            ]
          },
          "metadata": {
            "tags": []
          },
          "execution_count": 46
        }
      ]
    },
    {
      "cell_type": "code",
      "metadata": {
        "id": "kL12vwZdy78P",
        "colab_type": "code",
        "outputId": "01c15209-d4ab-4b16-bfe2-d18eb1e3182c",
        "colab": {}
      },
      "source": [
        "sales_data.drop(sales_data.columns[[0, 2]], axis='columns', inplace=True)\n",
        "sales_data"
      ],
      "execution_count": 0,
      "outputs": [
        {
          "output_type": "execute_result",
          "data": {
            "text/html": [
              "<div>\n",
              "<style scoped>\n",
              "    .dataframe tbody tr th:only-of-type {\n",
              "        vertical-align: middle;\n",
              "    }\n",
              "\n",
              "    .dataframe tbody tr th {\n",
              "        vertical-align: top;\n",
              "    }\n",
              "\n",
              "    .dataframe thead th {\n",
              "        text-align: right;\n",
              "    }\n",
              "</style>\n",
              "<table border=\"1\" class=\"dataframe\">\n",
              "  <thead>\n",
              "    <tr style=\"text-align: right;\">\n",
              "      <th></th>\n",
              "      <th>판매량</th>\n",
              "      <th>순이익</th>\n",
              "    </tr>\n",
              "  </thead>\n",
              "  <tbody>\n",
              "    <tr>\n",
              "      <th>0</th>\n",
              "      <td>103</td>\n",
              "      <td>370000</td>\n",
              "    </tr>\n",
              "    <tr>\n",
              "      <th>1</th>\n",
              "      <td>70</td>\n",
              "      <td>190000</td>\n",
              "    </tr>\n",
              "    <tr>\n",
              "      <th>2</th>\n",
              "      <td>130</td>\n",
              "      <td>300000</td>\n",
              "    </tr>\n",
              "    <tr>\n",
              "      <th>3</th>\n",
              "      <td>160</td>\n",
              "      <td>480000</td>\n",
              "    </tr>\n",
              "    <tr>\n",
              "      <th>4</th>\n",
              "      <td>190</td>\n",
              "      <td>600000</td>\n",
              "    </tr>\n",
              "    <tr>\n",
              "      <th>5</th>\n",
              "      <td>230</td>\n",
              "      <td>590000</td>\n",
              "    </tr>\n",
              "  </tbody>\n",
              "</table>\n",
              "</div>"
            ],
            "text/plain": [
              "   판매량     순이익\n",
              "0  103  370000\n",
              "1   70  190000\n",
              "2  130  300000\n",
              "3  160  480000\n",
              "4  190  600000\n",
              "5  230  590000"
            ]
          },
          "metadata": {
            "tags": []
          },
          "execution_count": 47
        }
      ]
    },
    {
      "cell_type": "code",
      "metadata": {
        "id": "m5xoGaAry78R",
        "colab_type": "code",
        "outputId": "3ebafe73-8617-4f69-89e1-290f47c85351",
        "colab": {}
      },
      "source": [
        "sales_data.drop(0, inplace=True)\n",
        "sales_data"
      ],
      "execution_count": 0,
      "outputs": [
        {
          "output_type": "execute_result",
          "data": {
            "text/html": [
              "<div>\n",
              "<style scoped>\n",
              "    .dataframe tbody tr th:only-of-type {\n",
              "        vertical-align: middle;\n",
              "    }\n",
              "\n",
              "    .dataframe tbody tr th {\n",
              "        vertical-align: top;\n",
              "    }\n",
              "\n",
              "    .dataframe thead th {\n",
              "        text-align: right;\n",
              "    }\n",
              "</style>\n",
              "<table border=\"1\" class=\"dataframe\">\n",
              "  <thead>\n",
              "    <tr style=\"text-align: right;\">\n",
              "      <th></th>\n",
              "      <th>판매량</th>\n",
              "      <th>순이익</th>\n",
              "    </tr>\n",
              "  </thead>\n",
              "  <tbody>\n",
              "    <tr>\n",
              "      <th>1</th>\n",
              "      <td>70</td>\n",
              "      <td>190000</td>\n",
              "    </tr>\n",
              "    <tr>\n",
              "      <th>2</th>\n",
              "      <td>130</td>\n",
              "      <td>300000</td>\n",
              "    </tr>\n",
              "    <tr>\n",
              "      <th>3</th>\n",
              "      <td>160</td>\n",
              "      <td>480000</td>\n",
              "    </tr>\n",
              "    <tr>\n",
              "      <th>4</th>\n",
              "      <td>190</td>\n",
              "      <td>600000</td>\n",
              "    </tr>\n",
              "    <tr>\n",
              "      <th>5</th>\n",
              "      <td>230</td>\n",
              "      <td>590000</td>\n",
              "    </tr>\n",
              "  </tbody>\n",
              "</table>\n",
              "</div>"
            ],
            "text/plain": [
              "   판매량     순이익\n",
              "1   70  190000\n",
              "2  130  300000\n",
              "3  160  480000\n",
              "4  190  600000\n",
              "5  230  590000"
            ]
          },
          "metadata": {
            "tags": []
          },
          "execution_count": 48
        }
      ]
    },
    {
      "cell_type": "code",
      "metadata": {
        "id": "qtRtCuTiy78T",
        "colab_type": "code",
        "outputId": "1ac6d76f-795d-4769-bfc9-3aa53c46746d",
        "colab": {}
      },
      "source": [
        "sales_data.drop([3, 4, 5], inplace=True)\n",
        "sales_data"
      ],
      "execution_count": 0,
      "outputs": [
        {
          "output_type": "execute_result",
          "data": {
            "text/html": [
              "<div>\n",
              "<style scoped>\n",
              "    .dataframe tbody tr th:only-of-type {\n",
              "        vertical-align: middle;\n",
              "    }\n",
              "\n",
              "    .dataframe tbody tr th {\n",
              "        vertical-align: top;\n",
              "    }\n",
              "\n",
              "    .dataframe thead th {\n",
              "        text-align: right;\n",
              "    }\n",
              "</style>\n",
              "<table border=\"1\" class=\"dataframe\">\n",
              "  <thead>\n",
              "    <tr style=\"text-align: right;\">\n",
              "      <th></th>\n",
              "      <th>판매량</th>\n",
              "      <th>순이익</th>\n",
              "    </tr>\n",
              "  </thead>\n",
              "  <tbody>\n",
              "    <tr>\n",
              "      <th>1</th>\n",
              "      <td>70</td>\n",
              "      <td>190000</td>\n",
              "    </tr>\n",
              "    <tr>\n",
              "      <th>2</th>\n",
              "      <td>130</td>\n",
              "      <td>300000</td>\n",
              "    </tr>\n",
              "  </tbody>\n",
              "</table>\n",
              "</div>"
            ],
            "text/plain": [
              "   판매량     순이익\n",
              "1   70  190000\n",
              "2  130  300000"
            ]
          },
          "metadata": {
            "tags": []
          },
          "execution_count": 49
        }
      ]
    },
    {
      "cell_type": "markdown",
      "metadata": {
        "id": "2mR9HSjYy78W",
        "colab_type": "text"
      },
      "source": [
        "## Dataframe MultiIndex"
      ]
    },
    {
      "cell_type": "code",
      "metadata": {
        "id": "BqmxZTLCy78W",
        "colab_type": "code",
        "outputId": "f389e56e-2c20-4745-deca-753d0fa08c9a",
        "colab": {}
      },
      "source": [
        "df = pd.DataFrame(np.random.randint(1, 100, size=(4, 4)), index=[['A','A','B','B'],['a','b','a','b']], columns=[['가가','가가','나나','나나'],['가','나','가','나']])\n",
        "df"
      ],
      "execution_count": 0,
      "outputs": [
        {
          "output_type": "execute_result",
          "data": {
            "text/html": [
              "<div>\n",
              "<style scoped>\n",
              "    .dataframe tbody tr th:only-of-type {\n",
              "        vertical-align: middle;\n",
              "    }\n",
              "\n",
              "    .dataframe tbody tr th {\n",
              "        vertical-align: top;\n",
              "    }\n",
              "\n",
              "    .dataframe thead tr th {\n",
              "        text-align: left;\n",
              "    }\n",
              "</style>\n",
              "<table border=\"1\" class=\"dataframe\">\n",
              "  <thead>\n",
              "    <tr>\n",
              "      <th></th>\n",
              "      <th></th>\n",
              "      <th colspan=\"2\" halign=\"left\">가가</th>\n",
              "      <th colspan=\"2\" halign=\"left\">나나</th>\n",
              "    </tr>\n",
              "    <tr>\n",
              "      <th></th>\n",
              "      <th></th>\n",
              "      <th>가</th>\n",
              "      <th>나</th>\n",
              "      <th>가</th>\n",
              "      <th>나</th>\n",
              "    </tr>\n",
              "  </thead>\n",
              "  <tbody>\n",
              "    <tr>\n",
              "      <th rowspan=\"2\" valign=\"top\">A</th>\n",
              "      <th>a</th>\n",
              "      <td>61</td>\n",
              "      <td>10</td>\n",
              "      <td>76</td>\n",
              "      <td>67</td>\n",
              "    </tr>\n",
              "    <tr>\n",
              "      <th>b</th>\n",
              "      <td>70</td>\n",
              "      <td>10</td>\n",
              "      <td>49</td>\n",
              "      <td>63</td>\n",
              "    </tr>\n",
              "    <tr>\n",
              "      <th rowspan=\"2\" valign=\"top\">B</th>\n",
              "      <th>a</th>\n",
              "      <td>69</td>\n",
              "      <td>11</td>\n",
              "      <td>5</td>\n",
              "      <td>39</td>\n",
              "    </tr>\n",
              "    <tr>\n",
              "      <th>b</th>\n",
              "      <td>11</td>\n",
              "      <td>79</td>\n",
              "      <td>54</td>\n",
              "      <td>67</td>\n",
              "    </tr>\n",
              "  </tbody>\n",
              "</table>\n",
              "</div>"
            ],
            "text/plain": [
              "     가가      나나    \n",
              "      가   나   가   나\n",
              "A a  61  10  76  67\n",
              "  b  70  10  49  63\n",
              "B a  69  11   5  39\n",
              "  b  11  79  54  67"
            ]
          },
          "metadata": {
            "tags": []
          },
          "execution_count": 50
        }
      ]
    },
    {
      "cell_type": "code",
      "metadata": {
        "id": "MUlmvpcpy78Y",
        "colab_type": "code",
        "outputId": "44777d58-6df0-4063-97df-6619858eede3",
        "colab": {}
      },
      "source": [
        "df['가가']"
      ],
      "execution_count": 0,
      "outputs": [
        {
          "output_type": "execute_result",
          "data": {
            "text/html": [
              "<div>\n",
              "<style scoped>\n",
              "    .dataframe tbody tr th:only-of-type {\n",
              "        vertical-align: middle;\n",
              "    }\n",
              "\n",
              "    .dataframe tbody tr th {\n",
              "        vertical-align: top;\n",
              "    }\n",
              "\n",
              "    .dataframe thead th {\n",
              "        text-align: right;\n",
              "    }\n",
              "</style>\n",
              "<table border=\"1\" class=\"dataframe\">\n",
              "  <thead>\n",
              "    <tr style=\"text-align: right;\">\n",
              "      <th></th>\n",
              "      <th></th>\n",
              "      <th>가</th>\n",
              "      <th>나</th>\n",
              "    </tr>\n",
              "  </thead>\n",
              "  <tbody>\n",
              "    <tr>\n",
              "      <th rowspan=\"2\" valign=\"top\">A</th>\n",
              "      <th>a</th>\n",
              "      <td>61</td>\n",
              "      <td>10</td>\n",
              "    </tr>\n",
              "    <tr>\n",
              "      <th>b</th>\n",
              "      <td>70</td>\n",
              "      <td>10</td>\n",
              "    </tr>\n",
              "    <tr>\n",
              "      <th rowspan=\"2\" valign=\"top\">B</th>\n",
              "      <th>a</th>\n",
              "      <td>69</td>\n",
              "      <td>11</td>\n",
              "    </tr>\n",
              "    <tr>\n",
              "      <th>b</th>\n",
              "      <td>11</td>\n",
              "      <td>79</td>\n",
              "    </tr>\n",
              "  </tbody>\n",
              "</table>\n",
              "</div>"
            ],
            "text/plain": [
              "      가   나\n",
              "A a  61  10\n",
              "  b  70  10\n",
              "B a  69  11\n",
              "  b  11  79"
            ]
          },
          "metadata": {
            "tags": []
          },
          "execution_count": 51
        }
      ]
    },
    {
      "cell_type": "code",
      "metadata": {
        "id": "wAR1Rvway78b",
        "colab_type": "code",
        "outputId": "9fb0f95b-2e84-45c7-cadd-628f62a2f121",
        "colab": {}
      },
      "source": [
        "df.loc['A']"
      ],
      "execution_count": 0,
      "outputs": [
        {
          "output_type": "execute_result",
          "data": {
            "text/html": [
              "<div>\n",
              "<style scoped>\n",
              "    .dataframe tbody tr th:only-of-type {\n",
              "        vertical-align: middle;\n",
              "    }\n",
              "\n",
              "    .dataframe tbody tr th {\n",
              "        vertical-align: top;\n",
              "    }\n",
              "\n",
              "    .dataframe thead tr th {\n",
              "        text-align: left;\n",
              "    }\n",
              "</style>\n",
              "<table border=\"1\" class=\"dataframe\">\n",
              "  <thead>\n",
              "    <tr>\n",
              "      <th></th>\n",
              "      <th colspan=\"2\" halign=\"left\">가가</th>\n",
              "      <th colspan=\"2\" halign=\"left\">나나</th>\n",
              "    </tr>\n",
              "    <tr>\n",
              "      <th></th>\n",
              "      <th>가</th>\n",
              "      <th>나</th>\n",
              "      <th>가</th>\n",
              "      <th>나</th>\n",
              "    </tr>\n",
              "  </thead>\n",
              "  <tbody>\n",
              "    <tr>\n",
              "      <th>a</th>\n",
              "      <td>61</td>\n",
              "      <td>10</td>\n",
              "      <td>76</td>\n",
              "      <td>67</td>\n",
              "    </tr>\n",
              "    <tr>\n",
              "      <th>b</th>\n",
              "      <td>70</td>\n",
              "      <td>10</td>\n",
              "      <td>49</td>\n",
              "      <td>63</td>\n",
              "    </tr>\n",
              "  </tbody>\n",
              "</table>\n",
              "</div>"
            ],
            "text/plain": [
              "   가가      나나    \n",
              "    가   나   가   나\n",
              "a  61  10  76  67\n",
              "b  70  10  49  63"
            ]
          },
          "metadata": {
            "tags": []
          },
          "execution_count": 52
        }
      ]
    },
    {
      "cell_type": "code",
      "metadata": {
        "id": "UzphRTGAy78d",
        "colab_type": "code",
        "outputId": "fd453076-93c2-48a0-b1ad-fada1815aed8",
        "colab": {}
      },
      "source": [
        "df.index"
      ],
      "execution_count": 0,
      "outputs": [
        {
          "output_type": "execute_result",
          "data": {
            "text/plain": [
              "MultiIndex(levels=[['A', 'B'], ['a', 'b']],\n",
              "           codes=[[0, 0, 1, 1], [0, 1, 0, 1]])"
            ]
          },
          "metadata": {
            "tags": []
          },
          "execution_count": 53
        }
      ]
    },
    {
      "cell_type": "code",
      "metadata": {
        "id": "Nm6yKilMy78h",
        "colab_type": "code",
        "outputId": "04986157-1f7b-4ea5-8ec0-5a92d0149a2e",
        "colab": {}
      },
      "source": [
        "df.columns"
      ],
      "execution_count": 0,
      "outputs": [
        {
          "output_type": "execute_result",
          "data": {
            "text/plain": [
              "MultiIndex(levels=[['가가', '나나'], ['가', '나']],\n",
              "           codes=[[0, 0, 1, 1], [0, 1, 0, 1]])"
            ]
          },
          "metadata": {
            "tags": []
          },
          "execution_count": 54
        }
      ]
    },
    {
      "cell_type": "markdown",
      "metadata": {
        "id": "7sMdHf1uy78j",
        "colab_type": "text"
      },
      "source": [
        "## GroupBy"
      ]
    },
    {
      "cell_type": "code",
      "metadata": {
        "id": "X2k6SL0qy78k",
        "colab_type": "code",
        "outputId": "ca0a6cda-05f2-4b9c-b8fa-1946935196fa",
        "colab": {}
      },
      "source": [
        "df = pd.DataFrame(np.random.randint(1, 100, size=(8, 2)), index=[['A창고','A창고','A창고','A창고','B창고','B창고','B창고','B창고'],['사과','배','바나나','사과','사과','배','바나나','배']], columns=['판매','재고'])\n",
        "df.index.names = ['창고명','상품명']\n",
        "df"
      ],
      "execution_count": 0,
      "outputs": [
        {
          "output_type": "execute_result",
          "data": {
            "text/html": [
              "<div>\n",
              "<style scoped>\n",
              "    .dataframe tbody tr th:only-of-type {\n",
              "        vertical-align: middle;\n",
              "    }\n",
              "\n",
              "    .dataframe tbody tr th {\n",
              "        vertical-align: top;\n",
              "    }\n",
              "\n",
              "    .dataframe thead th {\n",
              "        text-align: right;\n",
              "    }\n",
              "</style>\n",
              "<table border=\"1\" class=\"dataframe\">\n",
              "  <thead>\n",
              "    <tr style=\"text-align: right;\">\n",
              "      <th></th>\n",
              "      <th></th>\n",
              "      <th>판매</th>\n",
              "      <th>재고</th>\n",
              "    </tr>\n",
              "    <tr>\n",
              "      <th>창고명</th>\n",
              "      <th>상품명</th>\n",
              "      <th></th>\n",
              "      <th></th>\n",
              "    </tr>\n",
              "  </thead>\n",
              "  <tbody>\n",
              "    <tr>\n",
              "      <th rowspan=\"4\" valign=\"top\">A창고</th>\n",
              "      <th>사과</th>\n",
              "      <td>76</td>\n",
              "      <td>28</td>\n",
              "    </tr>\n",
              "    <tr>\n",
              "      <th>배</th>\n",
              "      <td>73</td>\n",
              "      <td>74</td>\n",
              "    </tr>\n",
              "    <tr>\n",
              "      <th>바나나</th>\n",
              "      <td>72</td>\n",
              "      <td>54</td>\n",
              "    </tr>\n",
              "    <tr>\n",
              "      <th>사과</th>\n",
              "      <td>85</td>\n",
              "      <td>74</td>\n",
              "    </tr>\n",
              "    <tr>\n",
              "      <th rowspan=\"4\" valign=\"top\">B창고</th>\n",
              "      <th>사과</th>\n",
              "      <td>64</td>\n",
              "      <td>14</td>\n",
              "    </tr>\n",
              "    <tr>\n",
              "      <th>배</th>\n",
              "      <td>27</td>\n",
              "      <td>46</td>\n",
              "    </tr>\n",
              "    <tr>\n",
              "      <th>바나나</th>\n",
              "      <td>69</td>\n",
              "      <td>60</td>\n",
              "    </tr>\n",
              "    <tr>\n",
              "      <th>배</th>\n",
              "      <td>52</td>\n",
              "      <td>21</td>\n",
              "    </tr>\n",
              "  </tbody>\n",
              "</table>\n",
              "</div>"
            ],
            "text/plain": [
              "         판매  재고\n",
              "창고명 상품명        \n",
              "A창고 사과   76  28\n",
              "    배    73  74\n",
              "    바나나  72  54\n",
              "    사과   85  74\n",
              "B창고 사과   64  14\n",
              "    배    27  46\n",
              "    바나나  69  60\n",
              "    배    52  21"
            ]
          },
          "metadata": {
            "tags": []
          },
          "execution_count": 55
        }
      ]
    },
    {
      "cell_type": "code",
      "metadata": {
        "id": "kgKKu-Gvy78n",
        "colab_type": "code",
        "outputId": "4b9a9c4d-f463-4ed1-8bf6-8c07363464aa",
        "colab": {}
      },
      "source": [
        "df.groupby('창고명').sum()"
      ],
      "execution_count": 0,
      "outputs": [
        {
          "output_type": "execute_result",
          "data": {
            "text/html": [
              "<div>\n",
              "<style scoped>\n",
              "    .dataframe tbody tr th:only-of-type {\n",
              "        vertical-align: middle;\n",
              "    }\n",
              "\n",
              "    .dataframe tbody tr th {\n",
              "        vertical-align: top;\n",
              "    }\n",
              "\n",
              "    .dataframe thead th {\n",
              "        text-align: right;\n",
              "    }\n",
              "</style>\n",
              "<table border=\"1\" class=\"dataframe\">\n",
              "  <thead>\n",
              "    <tr style=\"text-align: right;\">\n",
              "      <th></th>\n",
              "      <th>판매</th>\n",
              "      <th>재고</th>\n",
              "    </tr>\n",
              "    <tr>\n",
              "      <th>창고명</th>\n",
              "      <th></th>\n",
              "      <th></th>\n",
              "    </tr>\n",
              "  </thead>\n",
              "  <tbody>\n",
              "    <tr>\n",
              "      <th>A창고</th>\n",
              "      <td>306</td>\n",
              "      <td>230</td>\n",
              "    </tr>\n",
              "    <tr>\n",
              "      <th>B창고</th>\n",
              "      <td>212</td>\n",
              "      <td>141</td>\n",
              "    </tr>\n",
              "  </tbody>\n",
              "</table>\n",
              "</div>"
            ],
            "text/plain": [
              "      판매   재고\n",
              "창고명          \n",
              "A창고  306  230\n",
              "B창고  212  141"
            ]
          },
          "metadata": {
            "tags": []
          },
          "execution_count": 56
        }
      ]
    },
    {
      "cell_type": "code",
      "metadata": {
        "id": "ruFICmIQy78q",
        "colab_type": "code",
        "outputId": "59e1843b-73f6-4cb8-fa98-7c279a591af7",
        "colab": {}
      },
      "source": [
        "df.groupby('창고명').max()"
      ],
      "execution_count": 0,
      "outputs": [
        {
          "output_type": "execute_result",
          "data": {
            "text/html": [
              "<div>\n",
              "<style scoped>\n",
              "    .dataframe tbody tr th:only-of-type {\n",
              "        vertical-align: middle;\n",
              "    }\n",
              "\n",
              "    .dataframe tbody tr th {\n",
              "        vertical-align: top;\n",
              "    }\n",
              "\n",
              "    .dataframe thead th {\n",
              "        text-align: right;\n",
              "    }\n",
              "</style>\n",
              "<table border=\"1\" class=\"dataframe\">\n",
              "  <thead>\n",
              "    <tr style=\"text-align: right;\">\n",
              "      <th></th>\n",
              "      <th>판매</th>\n",
              "      <th>재고</th>\n",
              "    </tr>\n",
              "    <tr>\n",
              "      <th>창고명</th>\n",
              "      <th></th>\n",
              "      <th></th>\n",
              "    </tr>\n",
              "  </thead>\n",
              "  <tbody>\n",
              "    <tr>\n",
              "      <th>A창고</th>\n",
              "      <td>85</td>\n",
              "      <td>74</td>\n",
              "    </tr>\n",
              "    <tr>\n",
              "      <th>B창고</th>\n",
              "      <td>69</td>\n",
              "      <td>60</td>\n",
              "    </tr>\n",
              "  </tbody>\n",
              "</table>\n",
              "</div>"
            ],
            "text/plain": [
              "     판매  재고\n",
              "창고명        \n",
              "A창고  85  74\n",
              "B창고  69  60"
            ]
          },
          "metadata": {
            "tags": []
          },
          "execution_count": 57
        }
      ]
    },
    {
      "cell_type": "code",
      "metadata": {
        "id": "FO6A4GxGy78s",
        "colab_type": "code",
        "outputId": "65c50891-5142-41a3-df44-7e3b20861453",
        "colab": {}
      },
      "source": [
        "df.groupby('창고명').min()"
      ],
      "execution_count": 0,
      "outputs": [
        {
          "output_type": "execute_result",
          "data": {
            "text/html": [
              "<div>\n",
              "<style scoped>\n",
              "    .dataframe tbody tr th:only-of-type {\n",
              "        vertical-align: middle;\n",
              "    }\n",
              "\n",
              "    .dataframe tbody tr th {\n",
              "        vertical-align: top;\n",
              "    }\n",
              "\n",
              "    .dataframe thead th {\n",
              "        text-align: right;\n",
              "    }\n",
              "</style>\n",
              "<table border=\"1\" class=\"dataframe\">\n",
              "  <thead>\n",
              "    <tr style=\"text-align: right;\">\n",
              "      <th></th>\n",
              "      <th>판매</th>\n",
              "      <th>재고</th>\n",
              "    </tr>\n",
              "    <tr>\n",
              "      <th>창고명</th>\n",
              "      <th></th>\n",
              "      <th></th>\n",
              "    </tr>\n",
              "  </thead>\n",
              "  <tbody>\n",
              "    <tr>\n",
              "      <th>A창고</th>\n",
              "      <td>72</td>\n",
              "      <td>28</td>\n",
              "    </tr>\n",
              "    <tr>\n",
              "      <th>B창고</th>\n",
              "      <td>27</td>\n",
              "      <td>14</td>\n",
              "    </tr>\n",
              "  </tbody>\n",
              "</table>\n",
              "</div>"
            ],
            "text/plain": [
              "     판매  재고\n",
              "창고명        \n",
              "A창고  72  28\n",
              "B창고  27  14"
            ]
          },
          "metadata": {
            "tags": []
          },
          "execution_count": 58
        }
      ]
    },
    {
      "cell_type": "code",
      "metadata": {
        "id": "A6AbkytKy78u",
        "colab_type": "code",
        "outputId": "6f7bc61b-99c3-49f3-ad6d-ca05bfe6e446",
        "colab": {}
      },
      "source": [
        "df.groupby('상품명').sum()"
      ],
      "execution_count": 0,
      "outputs": [
        {
          "output_type": "execute_result",
          "data": {
            "text/html": [
              "<div>\n",
              "<style scoped>\n",
              "    .dataframe tbody tr th:only-of-type {\n",
              "        vertical-align: middle;\n",
              "    }\n",
              "\n",
              "    .dataframe tbody tr th {\n",
              "        vertical-align: top;\n",
              "    }\n",
              "\n",
              "    .dataframe thead th {\n",
              "        text-align: right;\n",
              "    }\n",
              "</style>\n",
              "<table border=\"1\" class=\"dataframe\">\n",
              "  <thead>\n",
              "    <tr style=\"text-align: right;\">\n",
              "      <th></th>\n",
              "      <th>판매</th>\n",
              "      <th>재고</th>\n",
              "    </tr>\n",
              "    <tr>\n",
              "      <th>상품명</th>\n",
              "      <th></th>\n",
              "      <th></th>\n",
              "    </tr>\n",
              "  </thead>\n",
              "  <tbody>\n",
              "    <tr>\n",
              "      <th>바나나</th>\n",
              "      <td>141</td>\n",
              "      <td>114</td>\n",
              "    </tr>\n",
              "    <tr>\n",
              "      <th>배</th>\n",
              "      <td>152</td>\n",
              "      <td>141</td>\n",
              "    </tr>\n",
              "    <tr>\n",
              "      <th>사과</th>\n",
              "      <td>225</td>\n",
              "      <td>116</td>\n",
              "    </tr>\n",
              "  </tbody>\n",
              "</table>\n",
              "</div>"
            ],
            "text/plain": [
              "      판매   재고\n",
              "상품명          \n",
              "바나나  141  114\n",
              "배    152  141\n",
              "사과   225  116"
            ]
          },
          "metadata": {
            "tags": []
          },
          "execution_count": 59
        }
      ]
    },
    {
      "cell_type": "code",
      "metadata": {
        "id": "KCAH-zx1y78y",
        "colab_type": "code",
        "outputId": "c18c7579-ccbb-46c2-809d-e6de44eac236",
        "colab": {}
      },
      "source": [
        "df.groupby(['창고명','상품명']).sum()"
      ],
      "execution_count": 0,
      "outputs": [
        {
          "output_type": "execute_result",
          "data": {
            "text/html": [
              "<div>\n",
              "<style scoped>\n",
              "    .dataframe tbody tr th:only-of-type {\n",
              "        vertical-align: middle;\n",
              "    }\n",
              "\n",
              "    .dataframe tbody tr th {\n",
              "        vertical-align: top;\n",
              "    }\n",
              "\n",
              "    .dataframe thead th {\n",
              "        text-align: right;\n",
              "    }\n",
              "</style>\n",
              "<table border=\"1\" class=\"dataframe\">\n",
              "  <thead>\n",
              "    <tr style=\"text-align: right;\">\n",
              "      <th></th>\n",
              "      <th></th>\n",
              "      <th>판매</th>\n",
              "      <th>재고</th>\n",
              "    </tr>\n",
              "    <tr>\n",
              "      <th>창고명</th>\n",
              "      <th>상품명</th>\n",
              "      <th></th>\n",
              "      <th></th>\n",
              "    </tr>\n",
              "  </thead>\n",
              "  <tbody>\n",
              "    <tr>\n",
              "      <th rowspan=\"3\" valign=\"top\">A창고</th>\n",
              "      <th>바나나</th>\n",
              "      <td>72</td>\n",
              "      <td>54</td>\n",
              "    </tr>\n",
              "    <tr>\n",
              "      <th>배</th>\n",
              "      <td>73</td>\n",
              "      <td>74</td>\n",
              "    </tr>\n",
              "    <tr>\n",
              "      <th>사과</th>\n",
              "      <td>161</td>\n",
              "      <td>102</td>\n",
              "    </tr>\n",
              "    <tr>\n",
              "      <th rowspan=\"3\" valign=\"top\">B창고</th>\n",
              "      <th>바나나</th>\n",
              "      <td>69</td>\n",
              "      <td>60</td>\n",
              "    </tr>\n",
              "    <tr>\n",
              "      <th>배</th>\n",
              "      <td>79</td>\n",
              "      <td>67</td>\n",
              "    </tr>\n",
              "    <tr>\n",
              "      <th>사과</th>\n",
              "      <td>64</td>\n",
              "      <td>14</td>\n",
              "    </tr>\n",
              "  </tbody>\n",
              "</table>\n",
              "</div>"
            ],
            "text/plain": [
              "          판매   재고\n",
              "창고명 상품명          \n",
              "A창고 바나나   72   54\n",
              "    배     73   74\n",
              "    사과   161  102\n",
              "B창고 바나나   69   60\n",
              "    배     79   67\n",
              "    사과    64   14"
            ]
          },
          "metadata": {
            "tags": []
          },
          "execution_count": 60
        }
      ]
    },
    {
      "cell_type": "markdown",
      "metadata": {
        "id": "oDgmUzh9y780",
        "colab_type": "text"
      },
      "source": [
        "## sort_values"
      ]
    },
    {
      "cell_type": "code",
      "metadata": {
        "id": "zDKMnxK7y781",
        "colab_type": "code",
        "outputId": "aad562f8-530b-4fc0-c218-af5953b126a8",
        "colab": {}
      },
      "source": [
        "df = pd.DataFrame(np.random.randint(1, 100, size=(8, 2)), index=[['A창고','A창고','A창고','A창고','B창고','B창고','B창고','B창고'],['사과','배','바나나','사과','사과','배','바나나','배']], columns=['판매','재고'])\n",
        "df"
      ],
      "execution_count": 0,
      "outputs": [
        {
          "output_type": "execute_result",
          "data": {
            "text/html": [
              "<div>\n",
              "<style scoped>\n",
              "    .dataframe tbody tr th:only-of-type {\n",
              "        vertical-align: middle;\n",
              "    }\n",
              "\n",
              "    .dataframe tbody tr th {\n",
              "        vertical-align: top;\n",
              "    }\n",
              "\n",
              "    .dataframe thead th {\n",
              "        text-align: right;\n",
              "    }\n",
              "</style>\n",
              "<table border=\"1\" class=\"dataframe\">\n",
              "  <thead>\n",
              "    <tr style=\"text-align: right;\">\n",
              "      <th></th>\n",
              "      <th></th>\n",
              "      <th>판매</th>\n",
              "      <th>재고</th>\n",
              "    </tr>\n",
              "  </thead>\n",
              "  <tbody>\n",
              "    <tr>\n",
              "      <th rowspan=\"4\" valign=\"top\">A창고</th>\n",
              "      <th>사과</th>\n",
              "      <td>5</td>\n",
              "      <td>87</td>\n",
              "    </tr>\n",
              "    <tr>\n",
              "      <th>배</th>\n",
              "      <td>52</td>\n",
              "      <td>33</td>\n",
              "    </tr>\n",
              "    <tr>\n",
              "      <th>바나나</th>\n",
              "      <td>15</td>\n",
              "      <td>83</td>\n",
              "    </tr>\n",
              "    <tr>\n",
              "      <th>사과</th>\n",
              "      <td>26</td>\n",
              "      <td>24</td>\n",
              "    </tr>\n",
              "    <tr>\n",
              "      <th rowspan=\"4\" valign=\"top\">B창고</th>\n",
              "      <th>사과</th>\n",
              "      <td>70</td>\n",
              "      <td>33</td>\n",
              "    </tr>\n",
              "    <tr>\n",
              "      <th>배</th>\n",
              "      <td>81</td>\n",
              "      <td>62</td>\n",
              "    </tr>\n",
              "    <tr>\n",
              "      <th>바나나</th>\n",
              "      <td>46</td>\n",
              "      <td>36</td>\n",
              "    </tr>\n",
              "    <tr>\n",
              "      <th>배</th>\n",
              "      <td>81</td>\n",
              "      <td>36</td>\n",
              "    </tr>\n",
              "  </tbody>\n",
              "</table>\n",
              "</div>"
            ],
            "text/plain": [
              "         판매  재고\n",
              "A창고 사과    5  87\n",
              "    배    52  33\n",
              "    바나나  15  83\n",
              "    사과   26  24\n",
              "B창고 사과   70  33\n",
              "    배    81  62\n",
              "    바나나  46  36\n",
              "    배    81  36"
            ]
          },
          "metadata": {
            "tags": []
          },
          "execution_count": 61
        }
      ]
    },
    {
      "cell_type": "code",
      "metadata": {
        "id": "Rpa8hKBmy785",
        "colab_type": "code",
        "outputId": "87f2ffdd-1b0d-4cd2-a86e-d4731ad4bf09",
        "colab": {}
      },
      "source": [
        "df.sort_values(by=\"판매\", ascending=True)"
      ],
      "execution_count": 0,
      "outputs": [
        {
          "output_type": "execute_result",
          "data": {
            "text/html": [
              "<div>\n",
              "<style scoped>\n",
              "    .dataframe tbody tr th:only-of-type {\n",
              "        vertical-align: middle;\n",
              "    }\n",
              "\n",
              "    .dataframe tbody tr th {\n",
              "        vertical-align: top;\n",
              "    }\n",
              "\n",
              "    .dataframe thead th {\n",
              "        text-align: right;\n",
              "    }\n",
              "</style>\n",
              "<table border=\"1\" class=\"dataframe\">\n",
              "  <thead>\n",
              "    <tr style=\"text-align: right;\">\n",
              "      <th></th>\n",
              "      <th></th>\n",
              "      <th>판매</th>\n",
              "      <th>재고</th>\n",
              "    </tr>\n",
              "  </thead>\n",
              "  <tbody>\n",
              "    <tr>\n",
              "      <th rowspan=\"3\" valign=\"top\">A창고</th>\n",
              "      <th>사과</th>\n",
              "      <td>5</td>\n",
              "      <td>87</td>\n",
              "    </tr>\n",
              "    <tr>\n",
              "      <th>바나나</th>\n",
              "      <td>15</td>\n",
              "      <td>83</td>\n",
              "    </tr>\n",
              "    <tr>\n",
              "      <th>사과</th>\n",
              "      <td>26</td>\n",
              "      <td>24</td>\n",
              "    </tr>\n",
              "    <tr>\n",
              "      <th>B창고</th>\n",
              "      <th>바나나</th>\n",
              "      <td>46</td>\n",
              "      <td>36</td>\n",
              "    </tr>\n",
              "    <tr>\n",
              "      <th>A창고</th>\n",
              "      <th>배</th>\n",
              "      <td>52</td>\n",
              "      <td>33</td>\n",
              "    </tr>\n",
              "    <tr>\n",
              "      <th rowspan=\"3\" valign=\"top\">B창고</th>\n",
              "      <th>사과</th>\n",
              "      <td>70</td>\n",
              "      <td>33</td>\n",
              "    </tr>\n",
              "    <tr>\n",
              "      <th>배</th>\n",
              "      <td>81</td>\n",
              "      <td>62</td>\n",
              "    </tr>\n",
              "    <tr>\n",
              "      <th>배</th>\n",
              "      <td>81</td>\n",
              "      <td>36</td>\n",
              "    </tr>\n",
              "  </tbody>\n",
              "</table>\n",
              "</div>"
            ],
            "text/plain": [
              "         판매  재고\n",
              "A창고 사과    5  87\n",
              "    바나나  15  83\n",
              "    사과   26  24\n",
              "B창고 바나나  46  36\n",
              "A창고 배    52  33\n",
              "B창고 사과   70  33\n",
              "    배    81  62\n",
              "    배    81  36"
            ]
          },
          "metadata": {
            "tags": []
          },
          "execution_count": 62
        }
      ]
    },
    {
      "cell_type": "code",
      "metadata": {
        "id": "Igcvs_QYy786",
        "colab_type": "code",
        "outputId": "f737ea5c-8162-488a-a254-b2174bbc1ff3",
        "colab": {}
      },
      "source": [
        "df.sort_values(by=[\"판매\", \"재고\"], ascending=[True, False])"
      ],
      "execution_count": 0,
      "outputs": [
        {
          "output_type": "execute_result",
          "data": {
            "text/html": [
              "<div>\n",
              "<style scoped>\n",
              "    .dataframe tbody tr th:only-of-type {\n",
              "        vertical-align: middle;\n",
              "    }\n",
              "\n",
              "    .dataframe tbody tr th {\n",
              "        vertical-align: top;\n",
              "    }\n",
              "\n",
              "    .dataframe thead th {\n",
              "        text-align: right;\n",
              "    }\n",
              "</style>\n",
              "<table border=\"1\" class=\"dataframe\">\n",
              "  <thead>\n",
              "    <tr style=\"text-align: right;\">\n",
              "      <th></th>\n",
              "      <th></th>\n",
              "      <th>판매</th>\n",
              "      <th>재고</th>\n",
              "    </tr>\n",
              "  </thead>\n",
              "  <tbody>\n",
              "    <tr>\n",
              "      <th rowspan=\"3\" valign=\"top\">A창고</th>\n",
              "      <th>사과</th>\n",
              "      <td>5</td>\n",
              "      <td>87</td>\n",
              "    </tr>\n",
              "    <tr>\n",
              "      <th>바나나</th>\n",
              "      <td>15</td>\n",
              "      <td>83</td>\n",
              "    </tr>\n",
              "    <tr>\n",
              "      <th>사과</th>\n",
              "      <td>26</td>\n",
              "      <td>24</td>\n",
              "    </tr>\n",
              "    <tr>\n",
              "      <th>B창고</th>\n",
              "      <th>바나나</th>\n",
              "      <td>46</td>\n",
              "      <td>36</td>\n",
              "    </tr>\n",
              "    <tr>\n",
              "      <th>A창고</th>\n",
              "      <th>배</th>\n",
              "      <td>52</td>\n",
              "      <td>33</td>\n",
              "    </tr>\n",
              "    <tr>\n",
              "      <th rowspan=\"3\" valign=\"top\">B창고</th>\n",
              "      <th>사과</th>\n",
              "      <td>70</td>\n",
              "      <td>33</td>\n",
              "    </tr>\n",
              "    <tr>\n",
              "      <th>배</th>\n",
              "      <td>81</td>\n",
              "      <td>62</td>\n",
              "    </tr>\n",
              "    <tr>\n",
              "      <th>배</th>\n",
              "      <td>81</td>\n",
              "      <td>36</td>\n",
              "    </tr>\n",
              "  </tbody>\n",
              "</table>\n",
              "</div>"
            ],
            "text/plain": [
              "         판매  재고\n",
              "A창고 사과    5  87\n",
              "    바나나  15  83\n",
              "    사과   26  24\n",
              "B창고 바나나  46  36\n",
              "A창고 배    52  33\n",
              "B창고 사과   70  33\n",
              "    배    81  62\n",
              "    배    81  36"
            ]
          },
          "metadata": {
            "tags": []
          },
          "execution_count": 63
        }
      ]
    },
    {
      "cell_type": "markdown",
      "metadata": {
        "id": "ZLby2GRfy788",
        "colab_type": "text"
      },
      "source": [
        "## 실습2"
      ]
    },
    {
      "cell_type": "code",
      "metadata": {
        "id": "GVqs2oJmy788",
        "colab_type": "code",
        "outputId": "dc13a04b-3f13-4525-9e8a-9abcd7070a69",
        "colab": {
          "base_uri": "https://localhost:8080/",
          "height": 491
        }
      },
      "source": [
        "import pandas as pd\n",
        "import numpy as np\n",
        "\n",
        "df = pd.DataFrame(np.random.randint(1, 100, size=(15, 3)),\n",
        "        index = [['1학년' for i in range(5)] + ['2학년' for i in range(5)] \n",
        "                 + ['3학년' for i in range(5)],\n",
        "                [str(i)+'반' for i in range(1, 6)] \n",
        "                 + [str(i)+'반' for i in range(1, 6)] \n",
        "                 + [str(i)+'반' for i in range(1, 6)]],\n",
        "                columns = ['국어', '영어', '과학'])\n",
        "df"
      ],
      "execution_count": 3,
      "outputs": [
        {
          "output_type": "execute_result",
          "data": {
            "text/html": [
              "<div>\n",
              "<style scoped>\n",
              "    .dataframe tbody tr th:only-of-type {\n",
              "        vertical-align: middle;\n",
              "    }\n",
              "\n",
              "    .dataframe tbody tr th {\n",
              "        vertical-align: top;\n",
              "    }\n",
              "\n",
              "    .dataframe thead th {\n",
              "        text-align: right;\n",
              "    }\n",
              "</style>\n",
              "<table border=\"1\" class=\"dataframe\">\n",
              "  <thead>\n",
              "    <tr style=\"text-align: right;\">\n",
              "      <th></th>\n",
              "      <th></th>\n",
              "      <th>국어</th>\n",
              "      <th>영어</th>\n",
              "      <th>과학</th>\n",
              "    </tr>\n",
              "  </thead>\n",
              "  <tbody>\n",
              "    <tr>\n",
              "      <th rowspan=\"5\" valign=\"top\">1학년</th>\n",
              "      <th>1반</th>\n",
              "      <td>82</td>\n",
              "      <td>66</td>\n",
              "      <td>27</td>\n",
              "    </tr>\n",
              "    <tr>\n",
              "      <th>2반</th>\n",
              "      <td>14</td>\n",
              "      <td>36</td>\n",
              "      <td>5</td>\n",
              "    </tr>\n",
              "    <tr>\n",
              "      <th>3반</th>\n",
              "      <td>89</td>\n",
              "      <td>99</td>\n",
              "      <td>72</td>\n",
              "    </tr>\n",
              "    <tr>\n",
              "      <th>4반</th>\n",
              "      <td>98</td>\n",
              "      <td>46</td>\n",
              "      <td>91</td>\n",
              "    </tr>\n",
              "    <tr>\n",
              "      <th>5반</th>\n",
              "      <td>39</td>\n",
              "      <td>9</td>\n",
              "      <td>31</td>\n",
              "    </tr>\n",
              "    <tr>\n",
              "      <th rowspan=\"5\" valign=\"top\">2학년</th>\n",
              "      <th>1반</th>\n",
              "      <td>51</td>\n",
              "      <td>60</td>\n",
              "      <td>96</td>\n",
              "    </tr>\n",
              "    <tr>\n",
              "      <th>2반</th>\n",
              "      <td>14</td>\n",
              "      <td>97</td>\n",
              "      <td>29</td>\n",
              "    </tr>\n",
              "    <tr>\n",
              "      <th>3반</th>\n",
              "      <td>75</td>\n",
              "      <td>37</td>\n",
              "      <td>79</td>\n",
              "    </tr>\n",
              "    <tr>\n",
              "      <th>4반</th>\n",
              "      <td>27</td>\n",
              "      <td>20</td>\n",
              "      <td>86</td>\n",
              "    </tr>\n",
              "    <tr>\n",
              "      <th>5반</th>\n",
              "      <td>88</td>\n",
              "      <td>35</td>\n",
              "      <td>79</td>\n",
              "    </tr>\n",
              "    <tr>\n",
              "      <th rowspan=\"5\" valign=\"top\">3학년</th>\n",
              "      <th>1반</th>\n",
              "      <td>95</td>\n",
              "      <td>83</td>\n",
              "      <td>39</td>\n",
              "    </tr>\n",
              "    <tr>\n",
              "      <th>2반</th>\n",
              "      <td>87</td>\n",
              "      <td>10</td>\n",
              "      <td>58</td>\n",
              "    </tr>\n",
              "    <tr>\n",
              "      <th>3반</th>\n",
              "      <td>93</td>\n",
              "      <td>40</td>\n",
              "      <td>55</td>\n",
              "    </tr>\n",
              "    <tr>\n",
              "      <th>4반</th>\n",
              "      <td>33</td>\n",
              "      <td>35</td>\n",
              "      <td>38</td>\n",
              "    </tr>\n",
              "    <tr>\n",
              "      <th>5반</th>\n",
              "      <td>62</td>\n",
              "      <td>87</td>\n",
              "      <td>15</td>\n",
              "    </tr>\n",
              "  </tbody>\n",
              "</table>\n",
              "</div>"
            ],
            "text/plain": [
              "        국어  영어  과학\n",
              "1학년 1반  82  66  27\n",
              "    2반  14  36   5\n",
              "    3반  89  99  72\n",
              "    4반  98  46  91\n",
              "    5반  39   9  31\n",
              "2학년 1반  51  60  96\n",
              "    2반  14  97  29\n",
              "    3반  75  37  79\n",
              "    4반  27  20  86\n",
              "    5반  88  35  79\n",
              "3학년 1반  95  83  39\n",
              "    2반  87  10  58\n",
              "    3반  93  40  55\n",
              "    4반  33  35  38\n",
              "    5반  62  87  15"
            ]
          },
          "metadata": {
            "tags": []
          },
          "execution_count": 3
        }
      ]
    },
    {
      "cell_type": "code",
      "metadata": {
        "id": "vvJ1-lxuy78-",
        "colab_type": "code",
        "outputId": "bb5dd97b-202e-41f3-e3f2-f151137c1806",
        "colab": {
          "base_uri": "https://localhost:8080/",
          "height": 491
        }
      },
      "source": [
        "df['총점'] = df['국어'] + df['영어'] + df['과학']\n",
        "df"
      ],
      "execution_count": 4,
      "outputs": [
        {
          "output_type": "execute_result",
          "data": {
            "text/html": [
              "<div>\n",
              "<style scoped>\n",
              "    .dataframe tbody tr th:only-of-type {\n",
              "        vertical-align: middle;\n",
              "    }\n",
              "\n",
              "    .dataframe tbody tr th {\n",
              "        vertical-align: top;\n",
              "    }\n",
              "\n",
              "    .dataframe thead th {\n",
              "        text-align: right;\n",
              "    }\n",
              "</style>\n",
              "<table border=\"1\" class=\"dataframe\">\n",
              "  <thead>\n",
              "    <tr style=\"text-align: right;\">\n",
              "      <th></th>\n",
              "      <th></th>\n",
              "      <th>국어</th>\n",
              "      <th>영어</th>\n",
              "      <th>과학</th>\n",
              "      <th>총점</th>\n",
              "    </tr>\n",
              "  </thead>\n",
              "  <tbody>\n",
              "    <tr>\n",
              "      <th rowspan=\"5\" valign=\"top\">1학년</th>\n",
              "      <th>1반</th>\n",
              "      <td>82</td>\n",
              "      <td>66</td>\n",
              "      <td>27</td>\n",
              "      <td>175</td>\n",
              "    </tr>\n",
              "    <tr>\n",
              "      <th>2반</th>\n",
              "      <td>14</td>\n",
              "      <td>36</td>\n",
              "      <td>5</td>\n",
              "      <td>55</td>\n",
              "    </tr>\n",
              "    <tr>\n",
              "      <th>3반</th>\n",
              "      <td>89</td>\n",
              "      <td>99</td>\n",
              "      <td>72</td>\n",
              "      <td>260</td>\n",
              "    </tr>\n",
              "    <tr>\n",
              "      <th>4반</th>\n",
              "      <td>98</td>\n",
              "      <td>46</td>\n",
              "      <td>91</td>\n",
              "      <td>235</td>\n",
              "    </tr>\n",
              "    <tr>\n",
              "      <th>5반</th>\n",
              "      <td>39</td>\n",
              "      <td>9</td>\n",
              "      <td>31</td>\n",
              "      <td>79</td>\n",
              "    </tr>\n",
              "    <tr>\n",
              "      <th rowspan=\"5\" valign=\"top\">2학년</th>\n",
              "      <th>1반</th>\n",
              "      <td>51</td>\n",
              "      <td>60</td>\n",
              "      <td>96</td>\n",
              "      <td>207</td>\n",
              "    </tr>\n",
              "    <tr>\n",
              "      <th>2반</th>\n",
              "      <td>14</td>\n",
              "      <td>97</td>\n",
              "      <td>29</td>\n",
              "      <td>140</td>\n",
              "    </tr>\n",
              "    <tr>\n",
              "      <th>3반</th>\n",
              "      <td>75</td>\n",
              "      <td>37</td>\n",
              "      <td>79</td>\n",
              "      <td>191</td>\n",
              "    </tr>\n",
              "    <tr>\n",
              "      <th>4반</th>\n",
              "      <td>27</td>\n",
              "      <td>20</td>\n",
              "      <td>86</td>\n",
              "      <td>133</td>\n",
              "    </tr>\n",
              "    <tr>\n",
              "      <th>5반</th>\n",
              "      <td>88</td>\n",
              "      <td>35</td>\n",
              "      <td>79</td>\n",
              "      <td>202</td>\n",
              "    </tr>\n",
              "    <tr>\n",
              "      <th rowspan=\"5\" valign=\"top\">3학년</th>\n",
              "      <th>1반</th>\n",
              "      <td>95</td>\n",
              "      <td>83</td>\n",
              "      <td>39</td>\n",
              "      <td>217</td>\n",
              "    </tr>\n",
              "    <tr>\n",
              "      <th>2반</th>\n",
              "      <td>87</td>\n",
              "      <td>10</td>\n",
              "      <td>58</td>\n",
              "      <td>155</td>\n",
              "    </tr>\n",
              "    <tr>\n",
              "      <th>3반</th>\n",
              "      <td>93</td>\n",
              "      <td>40</td>\n",
              "      <td>55</td>\n",
              "      <td>188</td>\n",
              "    </tr>\n",
              "    <tr>\n",
              "      <th>4반</th>\n",
              "      <td>33</td>\n",
              "      <td>35</td>\n",
              "      <td>38</td>\n",
              "      <td>106</td>\n",
              "    </tr>\n",
              "    <tr>\n",
              "      <th>5반</th>\n",
              "      <td>62</td>\n",
              "      <td>87</td>\n",
              "      <td>15</td>\n",
              "      <td>164</td>\n",
              "    </tr>\n",
              "  </tbody>\n",
              "</table>\n",
              "</div>"
            ],
            "text/plain": [
              "        국어  영어  과학   총점\n",
              "1학년 1반  82  66  27  175\n",
              "    2반  14  36   5   55\n",
              "    3반  89  99  72  260\n",
              "    4반  98  46  91  235\n",
              "    5반  39   9  31   79\n",
              "2학년 1반  51  60  96  207\n",
              "    2반  14  97  29  140\n",
              "    3반  75  37  79  191\n",
              "    4반  27  20  86  133\n",
              "    5반  88  35  79  202\n",
              "3학년 1반  95  83  39  217\n",
              "    2반  87  10  58  155\n",
              "    3반  93  40  55  188\n",
              "    4반  33  35  38  106\n",
              "    5반  62  87  15  164"
            ]
          },
          "metadata": {
            "tags": []
          },
          "execution_count": 4
        }
      ]
    },
    {
      "cell_type": "code",
      "metadata": {
        "id": "lKFYFsDeTd6V",
        "colab_type": "code",
        "colab": {
          "base_uri": "https://localhost:8080/",
          "height": 491
        },
        "outputId": "66020a58-590b-4488-a990-675b2578963e"
      },
      "source": [
        "df['평균'] = (df['국어'] + df['영어'] + df['과학']) / 3\n",
        "df"
      ],
      "execution_count": 5,
      "outputs": [
        {
          "output_type": "execute_result",
          "data": {
            "text/html": [
              "<div>\n",
              "<style scoped>\n",
              "    .dataframe tbody tr th:only-of-type {\n",
              "        vertical-align: middle;\n",
              "    }\n",
              "\n",
              "    .dataframe tbody tr th {\n",
              "        vertical-align: top;\n",
              "    }\n",
              "\n",
              "    .dataframe thead th {\n",
              "        text-align: right;\n",
              "    }\n",
              "</style>\n",
              "<table border=\"1\" class=\"dataframe\">\n",
              "  <thead>\n",
              "    <tr style=\"text-align: right;\">\n",
              "      <th></th>\n",
              "      <th></th>\n",
              "      <th>국어</th>\n",
              "      <th>영어</th>\n",
              "      <th>과학</th>\n",
              "      <th>총점</th>\n",
              "      <th>평균</th>\n",
              "    </tr>\n",
              "  </thead>\n",
              "  <tbody>\n",
              "    <tr>\n",
              "      <th rowspan=\"5\" valign=\"top\">1학년</th>\n",
              "      <th>1반</th>\n",
              "      <td>82</td>\n",
              "      <td>66</td>\n",
              "      <td>27</td>\n",
              "      <td>175</td>\n",
              "      <td>58.333333</td>\n",
              "    </tr>\n",
              "    <tr>\n",
              "      <th>2반</th>\n",
              "      <td>14</td>\n",
              "      <td>36</td>\n",
              "      <td>5</td>\n",
              "      <td>55</td>\n",
              "      <td>18.333333</td>\n",
              "    </tr>\n",
              "    <tr>\n",
              "      <th>3반</th>\n",
              "      <td>89</td>\n",
              "      <td>99</td>\n",
              "      <td>72</td>\n",
              "      <td>260</td>\n",
              "      <td>86.666667</td>\n",
              "    </tr>\n",
              "    <tr>\n",
              "      <th>4반</th>\n",
              "      <td>98</td>\n",
              "      <td>46</td>\n",
              "      <td>91</td>\n",
              "      <td>235</td>\n",
              "      <td>78.333333</td>\n",
              "    </tr>\n",
              "    <tr>\n",
              "      <th>5반</th>\n",
              "      <td>39</td>\n",
              "      <td>9</td>\n",
              "      <td>31</td>\n",
              "      <td>79</td>\n",
              "      <td>26.333333</td>\n",
              "    </tr>\n",
              "    <tr>\n",
              "      <th rowspan=\"5\" valign=\"top\">2학년</th>\n",
              "      <th>1반</th>\n",
              "      <td>51</td>\n",
              "      <td>60</td>\n",
              "      <td>96</td>\n",
              "      <td>207</td>\n",
              "      <td>69.000000</td>\n",
              "    </tr>\n",
              "    <tr>\n",
              "      <th>2반</th>\n",
              "      <td>14</td>\n",
              "      <td>97</td>\n",
              "      <td>29</td>\n",
              "      <td>140</td>\n",
              "      <td>46.666667</td>\n",
              "    </tr>\n",
              "    <tr>\n",
              "      <th>3반</th>\n",
              "      <td>75</td>\n",
              "      <td>37</td>\n",
              "      <td>79</td>\n",
              "      <td>191</td>\n",
              "      <td>63.666667</td>\n",
              "    </tr>\n",
              "    <tr>\n",
              "      <th>4반</th>\n",
              "      <td>27</td>\n",
              "      <td>20</td>\n",
              "      <td>86</td>\n",
              "      <td>133</td>\n",
              "      <td>44.333333</td>\n",
              "    </tr>\n",
              "    <tr>\n",
              "      <th>5반</th>\n",
              "      <td>88</td>\n",
              "      <td>35</td>\n",
              "      <td>79</td>\n",
              "      <td>202</td>\n",
              "      <td>67.333333</td>\n",
              "    </tr>\n",
              "    <tr>\n",
              "      <th rowspan=\"5\" valign=\"top\">3학년</th>\n",
              "      <th>1반</th>\n",
              "      <td>95</td>\n",
              "      <td>83</td>\n",
              "      <td>39</td>\n",
              "      <td>217</td>\n",
              "      <td>72.333333</td>\n",
              "    </tr>\n",
              "    <tr>\n",
              "      <th>2반</th>\n",
              "      <td>87</td>\n",
              "      <td>10</td>\n",
              "      <td>58</td>\n",
              "      <td>155</td>\n",
              "      <td>51.666667</td>\n",
              "    </tr>\n",
              "    <tr>\n",
              "      <th>3반</th>\n",
              "      <td>93</td>\n",
              "      <td>40</td>\n",
              "      <td>55</td>\n",
              "      <td>188</td>\n",
              "      <td>62.666667</td>\n",
              "    </tr>\n",
              "    <tr>\n",
              "      <th>4반</th>\n",
              "      <td>33</td>\n",
              "      <td>35</td>\n",
              "      <td>38</td>\n",
              "      <td>106</td>\n",
              "      <td>35.333333</td>\n",
              "    </tr>\n",
              "    <tr>\n",
              "      <th>5반</th>\n",
              "      <td>62</td>\n",
              "      <td>87</td>\n",
              "      <td>15</td>\n",
              "      <td>164</td>\n",
              "      <td>54.666667</td>\n",
              "    </tr>\n",
              "  </tbody>\n",
              "</table>\n",
              "</div>"
            ],
            "text/plain": [
              "        국어  영어  과학   총점         평균\n",
              "1학년 1반  82  66  27  175  58.333333\n",
              "    2반  14  36   5   55  18.333333\n",
              "    3반  89  99  72  260  86.666667\n",
              "    4반  98  46  91  235  78.333333\n",
              "    5반  39   9  31   79  26.333333\n",
              "2학년 1반  51  60  96  207  69.000000\n",
              "    2반  14  97  29  140  46.666667\n",
              "    3반  75  37  79  191  63.666667\n",
              "    4반  27  20  86  133  44.333333\n",
              "    5반  88  35  79  202  67.333333\n",
              "3학년 1반  95  83  39  217  72.333333\n",
              "    2반  87  10  58  155  51.666667\n",
              "    3반  93  40  55  188  62.666667\n",
              "    4반  33  35  38  106  35.333333\n",
              "    5반  62  87  15  164  54.666667"
            ]
          },
          "metadata": {
            "tags": []
          },
          "execution_count": 5
        }
      ]
    },
    {
      "cell_type": "code",
      "metadata": {
        "id": "D1j9e4rBy79A",
        "colab_type": "code",
        "outputId": "3505f809-e5b2-41c9-efbe-4b36f8c5d155",
        "colab": {
          "base_uri": "https://localhost:8080/",
          "height": 521
        }
      },
      "source": [
        "df.index.names = ['학년','반']\n",
        "df"
      ],
      "execution_count": 6,
      "outputs": [
        {
          "output_type": "execute_result",
          "data": {
            "text/html": [
              "<div>\n",
              "<style scoped>\n",
              "    .dataframe tbody tr th:only-of-type {\n",
              "        vertical-align: middle;\n",
              "    }\n",
              "\n",
              "    .dataframe tbody tr th {\n",
              "        vertical-align: top;\n",
              "    }\n",
              "\n",
              "    .dataframe thead th {\n",
              "        text-align: right;\n",
              "    }\n",
              "</style>\n",
              "<table border=\"1\" class=\"dataframe\">\n",
              "  <thead>\n",
              "    <tr style=\"text-align: right;\">\n",
              "      <th></th>\n",
              "      <th></th>\n",
              "      <th>국어</th>\n",
              "      <th>영어</th>\n",
              "      <th>과학</th>\n",
              "      <th>총점</th>\n",
              "      <th>평균</th>\n",
              "    </tr>\n",
              "    <tr>\n",
              "      <th>학년</th>\n",
              "      <th>반</th>\n",
              "      <th></th>\n",
              "      <th></th>\n",
              "      <th></th>\n",
              "      <th></th>\n",
              "      <th></th>\n",
              "    </tr>\n",
              "  </thead>\n",
              "  <tbody>\n",
              "    <tr>\n",
              "      <th rowspan=\"5\" valign=\"top\">1학년</th>\n",
              "      <th>1반</th>\n",
              "      <td>82</td>\n",
              "      <td>66</td>\n",
              "      <td>27</td>\n",
              "      <td>175</td>\n",
              "      <td>58.333333</td>\n",
              "    </tr>\n",
              "    <tr>\n",
              "      <th>2반</th>\n",
              "      <td>14</td>\n",
              "      <td>36</td>\n",
              "      <td>5</td>\n",
              "      <td>55</td>\n",
              "      <td>18.333333</td>\n",
              "    </tr>\n",
              "    <tr>\n",
              "      <th>3반</th>\n",
              "      <td>89</td>\n",
              "      <td>99</td>\n",
              "      <td>72</td>\n",
              "      <td>260</td>\n",
              "      <td>86.666667</td>\n",
              "    </tr>\n",
              "    <tr>\n",
              "      <th>4반</th>\n",
              "      <td>98</td>\n",
              "      <td>46</td>\n",
              "      <td>91</td>\n",
              "      <td>235</td>\n",
              "      <td>78.333333</td>\n",
              "    </tr>\n",
              "    <tr>\n",
              "      <th>5반</th>\n",
              "      <td>39</td>\n",
              "      <td>9</td>\n",
              "      <td>31</td>\n",
              "      <td>79</td>\n",
              "      <td>26.333333</td>\n",
              "    </tr>\n",
              "    <tr>\n",
              "      <th rowspan=\"5\" valign=\"top\">2학년</th>\n",
              "      <th>1반</th>\n",
              "      <td>51</td>\n",
              "      <td>60</td>\n",
              "      <td>96</td>\n",
              "      <td>207</td>\n",
              "      <td>69.000000</td>\n",
              "    </tr>\n",
              "    <tr>\n",
              "      <th>2반</th>\n",
              "      <td>14</td>\n",
              "      <td>97</td>\n",
              "      <td>29</td>\n",
              "      <td>140</td>\n",
              "      <td>46.666667</td>\n",
              "    </tr>\n",
              "    <tr>\n",
              "      <th>3반</th>\n",
              "      <td>75</td>\n",
              "      <td>37</td>\n",
              "      <td>79</td>\n",
              "      <td>191</td>\n",
              "      <td>63.666667</td>\n",
              "    </tr>\n",
              "    <tr>\n",
              "      <th>4반</th>\n",
              "      <td>27</td>\n",
              "      <td>20</td>\n",
              "      <td>86</td>\n",
              "      <td>133</td>\n",
              "      <td>44.333333</td>\n",
              "    </tr>\n",
              "    <tr>\n",
              "      <th>5반</th>\n",
              "      <td>88</td>\n",
              "      <td>35</td>\n",
              "      <td>79</td>\n",
              "      <td>202</td>\n",
              "      <td>67.333333</td>\n",
              "    </tr>\n",
              "    <tr>\n",
              "      <th rowspan=\"5\" valign=\"top\">3학년</th>\n",
              "      <th>1반</th>\n",
              "      <td>95</td>\n",
              "      <td>83</td>\n",
              "      <td>39</td>\n",
              "      <td>217</td>\n",
              "      <td>72.333333</td>\n",
              "    </tr>\n",
              "    <tr>\n",
              "      <th>2반</th>\n",
              "      <td>87</td>\n",
              "      <td>10</td>\n",
              "      <td>58</td>\n",
              "      <td>155</td>\n",
              "      <td>51.666667</td>\n",
              "    </tr>\n",
              "    <tr>\n",
              "      <th>3반</th>\n",
              "      <td>93</td>\n",
              "      <td>40</td>\n",
              "      <td>55</td>\n",
              "      <td>188</td>\n",
              "      <td>62.666667</td>\n",
              "    </tr>\n",
              "    <tr>\n",
              "      <th>4반</th>\n",
              "      <td>33</td>\n",
              "      <td>35</td>\n",
              "      <td>38</td>\n",
              "      <td>106</td>\n",
              "      <td>35.333333</td>\n",
              "    </tr>\n",
              "    <tr>\n",
              "      <th>5반</th>\n",
              "      <td>62</td>\n",
              "      <td>87</td>\n",
              "      <td>15</td>\n",
              "      <td>164</td>\n",
              "      <td>54.666667</td>\n",
              "    </tr>\n",
              "  </tbody>\n",
              "</table>\n",
              "</div>"
            ],
            "text/plain": [
              "        국어  영어  과학   총점         평균\n",
              "학년  반                             \n",
              "1학년 1반  82  66  27  175  58.333333\n",
              "    2반  14  36   5   55  18.333333\n",
              "    3반  89  99  72  260  86.666667\n",
              "    4반  98  46  91  235  78.333333\n",
              "    5반  39   9  31   79  26.333333\n",
              "2학년 1반  51  60  96  207  69.000000\n",
              "    2반  14  97  29  140  46.666667\n",
              "    3반  75  37  79  191  63.666667\n",
              "    4반  27  20  86  133  44.333333\n",
              "    5반  88  35  79  202  67.333333\n",
              "3학년 1반  95  83  39  217  72.333333\n",
              "    2반  87  10  58  155  51.666667\n",
              "    3반  93  40  55  188  62.666667\n",
              "    4반  33  35  38  106  35.333333\n",
              "    5반  62  87  15  164  54.666667"
            ]
          },
          "metadata": {
            "tags": []
          },
          "execution_count": 6
        }
      ]
    },
    {
      "cell_type": "code",
      "metadata": {
        "id": "BYCw_67Cy79B",
        "colab_type": "code",
        "outputId": "e170fa09-9d25-4847-e59d-1ea8d3e9d1f8",
        "colab": {
          "base_uri": "https://localhost:8080/",
          "height": 166
        }
      },
      "source": [
        "df.groupby('학년').sum()"
      ],
      "execution_count": 7,
      "outputs": [
        {
          "output_type": "execute_result",
          "data": {
            "text/html": [
              "<div>\n",
              "<style scoped>\n",
              "    .dataframe tbody tr th:only-of-type {\n",
              "        vertical-align: middle;\n",
              "    }\n",
              "\n",
              "    .dataframe tbody tr th {\n",
              "        vertical-align: top;\n",
              "    }\n",
              "\n",
              "    .dataframe thead th {\n",
              "        text-align: right;\n",
              "    }\n",
              "</style>\n",
              "<table border=\"1\" class=\"dataframe\">\n",
              "  <thead>\n",
              "    <tr style=\"text-align: right;\">\n",
              "      <th></th>\n",
              "      <th>국어</th>\n",
              "      <th>영어</th>\n",
              "      <th>과학</th>\n",
              "      <th>총점</th>\n",
              "      <th>평균</th>\n",
              "    </tr>\n",
              "    <tr>\n",
              "      <th>학년</th>\n",
              "      <th></th>\n",
              "      <th></th>\n",
              "      <th></th>\n",
              "      <th></th>\n",
              "      <th></th>\n",
              "    </tr>\n",
              "  </thead>\n",
              "  <tbody>\n",
              "    <tr>\n",
              "      <th>1학년</th>\n",
              "      <td>322</td>\n",
              "      <td>256</td>\n",
              "      <td>226</td>\n",
              "      <td>804</td>\n",
              "      <td>268.000000</td>\n",
              "    </tr>\n",
              "    <tr>\n",
              "      <th>2학년</th>\n",
              "      <td>255</td>\n",
              "      <td>249</td>\n",
              "      <td>369</td>\n",
              "      <td>873</td>\n",
              "      <td>291.000000</td>\n",
              "    </tr>\n",
              "    <tr>\n",
              "      <th>3학년</th>\n",
              "      <td>370</td>\n",
              "      <td>255</td>\n",
              "      <td>205</td>\n",
              "      <td>830</td>\n",
              "      <td>276.666667</td>\n",
              "    </tr>\n",
              "  </tbody>\n",
              "</table>\n",
              "</div>"
            ],
            "text/plain": [
              "      국어   영어   과학   총점          평균\n",
              "학년                                 \n",
              "1학년  322  256  226  804  268.000000\n",
              "2학년  255  249  369  873  291.000000\n",
              "3학년  370  255  205  830  276.666667"
            ]
          },
          "metadata": {
            "tags": []
          },
          "execution_count": 7
        }
      ]
    },
    {
      "cell_type": "markdown",
      "metadata": {
        "id": "VZAv8Y2oy79D",
        "colab_type": "text"
      },
      "source": [
        "## 실습3"
      ]
    },
    {
      "cell_type": "code",
      "metadata": {
        "id": "hfxtsObOy79D",
        "colab_type": "code",
        "colab": {}
      },
      "source": [
        "titanic_df = pd.read_csv('https://raw.githubusercontent.com/jimsjoo/DL/master/dataset/titanic_train.csv')"
      ],
      "execution_count": 0,
      "outputs": []
    },
    {
      "cell_type": "code",
      "metadata": {
        "id": "I8i20n6Sy79F",
        "colab_type": "code",
        "outputId": "ede91821-caae-4182-c276-2ee0658c9283",
        "colab": {
          "base_uri": "https://localhost:8080/",
          "height": 351
        }
      },
      "source": [
        "titanic_df.info()"
      ],
      "execution_count": 9,
      "outputs": [
        {
          "output_type": "stream",
          "text": [
            "<class 'pandas.core.frame.DataFrame'>\n",
            "RangeIndex: 891 entries, 0 to 890\n",
            "Data columns (total 12 columns):\n",
            " #   Column       Non-Null Count  Dtype  \n",
            "---  ------       --------------  -----  \n",
            " 0   PassengerId  891 non-null    int64  \n",
            " 1   Survived     891 non-null    int64  \n",
            " 2   Pclass       891 non-null    int64  \n",
            " 3   Name         891 non-null    object \n",
            " 4   Sex          891 non-null    object \n",
            " 5   Age          714 non-null    float64\n",
            " 6   SibSp        891 non-null    int64  \n",
            " 7   Parch        891 non-null    int64  \n",
            " 8   Ticket       891 non-null    object \n",
            " 9   Fare         891 non-null    float64\n",
            " 10  Cabin        204 non-null    object \n",
            " 11  Embarked     889 non-null    object \n",
            "dtypes: float64(2), int64(5), object(5)\n",
            "memory usage: 83.7+ KB\n"
          ],
          "name": "stdout"
        }
      ]
    },
    {
      "cell_type": "code",
      "metadata": {
        "id": "g1M68rVvy79I",
        "colab_type": "code",
        "outputId": "097d15da-14f7-4c46-fb03-2e25dc05d108",
        "colab": {
          "base_uri": "https://localhost:8080/",
          "height": 484
        }
      },
      "source": [
        "titanic_df.head()"
      ],
      "execution_count": 11,
      "outputs": [
        {
          "output_type": "execute_result",
          "data": {
            "text/html": [
              "<div>\n",
              "<style scoped>\n",
              "    .dataframe tbody tr th:only-of-type {\n",
              "        vertical-align: middle;\n",
              "    }\n",
              "\n",
              "    .dataframe tbody tr th {\n",
              "        vertical-align: top;\n",
              "    }\n",
              "\n",
              "    .dataframe thead th {\n",
              "        text-align: right;\n",
              "    }\n",
              "</style>\n",
              "<table border=\"1\" class=\"dataframe\">\n",
              "  <thead>\n",
              "    <tr style=\"text-align: right;\">\n",
              "      <th></th>\n",
              "      <th>PassengerId</th>\n",
              "      <th>Survived</th>\n",
              "      <th>Pclass</th>\n",
              "      <th>Name</th>\n",
              "      <th>Sex</th>\n",
              "      <th>Age</th>\n",
              "      <th>SibSp</th>\n",
              "      <th>Parch</th>\n",
              "      <th>Ticket</th>\n",
              "      <th>Fare</th>\n",
              "      <th>Cabin</th>\n",
              "      <th>Embarked</th>\n",
              "    </tr>\n",
              "  </thead>\n",
              "  <tbody>\n",
              "    <tr>\n",
              "      <th>0</th>\n",
              "      <td>1</td>\n",
              "      <td>0</td>\n",
              "      <td>3</td>\n",
              "      <td>Braund, Mr. Owen Harris</td>\n",
              "      <td>male</td>\n",
              "      <td>22.0</td>\n",
              "      <td>1</td>\n",
              "      <td>0</td>\n",
              "      <td>A/5 21171</td>\n",
              "      <td>7.2500</td>\n",
              "      <td>NaN</td>\n",
              "      <td>S</td>\n",
              "    </tr>\n",
              "    <tr>\n",
              "      <th>1</th>\n",
              "      <td>2</td>\n",
              "      <td>1</td>\n",
              "      <td>1</td>\n",
              "      <td>Cumings, Mrs. John Bradley (Florence Briggs Th...</td>\n",
              "      <td>female</td>\n",
              "      <td>38.0</td>\n",
              "      <td>1</td>\n",
              "      <td>0</td>\n",
              "      <td>PC 17599</td>\n",
              "      <td>71.2833</td>\n",
              "      <td>C85</td>\n",
              "      <td>C</td>\n",
              "    </tr>\n",
              "    <tr>\n",
              "      <th>2</th>\n",
              "      <td>3</td>\n",
              "      <td>1</td>\n",
              "      <td>3</td>\n",
              "      <td>Heikkinen, Miss. Laina</td>\n",
              "      <td>female</td>\n",
              "      <td>26.0</td>\n",
              "      <td>0</td>\n",
              "      <td>0</td>\n",
              "      <td>STON/O2. 3101282</td>\n",
              "      <td>7.9250</td>\n",
              "      <td>NaN</td>\n",
              "      <td>S</td>\n",
              "    </tr>\n",
              "    <tr>\n",
              "      <th>3</th>\n",
              "      <td>4</td>\n",
              "      <td>1</td>\n",
              "      <td>1</td>\n",
              "      <td>Futrelle, Mrs. Jacques Heath (Lily May Peel)</td>\n",
              "      <td>female</td>\n",
              "      <td>35.0</td>\n",
              "      <td>1</td>\n",
              "      <td>0</td>\n",
              "      <td>113803</td>\n",
              "      <td>53.1000</td>\n",
              "      <td>C123</td>\n",
              "      <td>S</td>\n",
              "    </tr>\n",
              "    <tr>\n",
              "      <th>4</th>\n",
              "      <td>5</td>\n",
              "      <td>0</td>\n",
              "      <td>3</td>\n",
              "      <td>Allen, Mr. William Henry</td>\n",
              "      <td>male</td>\n",
              "      <td>35.0</td>\n",
              "      <td>0</td>\n",
              "      <td>0</td>\n",
              "      <td>373450</td>\n",
              "      <td>8.0500</td>\n",
              "      <td>NaN</td>\n",
              "      <td>S</td>\n",
              "    </tr>\n",
              "  </tbody>\n",
              "</table>\n",
              "</div>"
            ],
            "text/plain": [
              "   PassengerId  Survived  Pclass  ...     Fare Cabin  Embarked\n",
              "0            1         0       3  ...   7.2500   NaN         S\n",
              "1            2         1       1  ...  71.2833   C85         C\n",
              "2            3         1       3  ...   7.9250   NaN         S\n",
              "3            4         1       1  ...  53.1000  C123         S\n",
              "4            5         0       3  ...   8.0500   NaN         S\n",
              "\n",
              "[5 rows x 12 columns]"
            ]
          },
          "metadata": {
            "tags": []
          },
          "execution_count": 11
        }
      ]
    },
    {
      "cell_type": "code",
      "metadata": {
        "id": "9T_cloKBy79J",
        "colab_type": "code",
        "outputId": "c1dadf1d-a7da-4097-ff4c-d62cb1bd7f7a",
        "colab": {
          "base_uri": "https://localhost:8080/",
          "height": 246
        }
      },
      "source": [
        "print(titanic_df.isnull().sum())"
      ],
      "execution_count": 12,
      "outputs": [
        {
          "output_type": "stream",
          "text": [
            "PassengerId      0\n",
            "Survived         0\n",
            "Pclass           0\n",
            "Name             0\n",
            "Sex              0\n",
            "Age            177\n",
            "SibSp            0\n",
            "Parch            0\n",
            "Ticket           0\n",
            "Fare             0\n",
            "Cabin          687\n",
            "Embarked         2\n",
            "dtype: int64\n"
          ],
          "name": "stdout"
        }
      ]
    },
    {
      "cell_type": "code",
      "metadata": {
        "id": "sCMSkf2NV63I",
        "colab_type": "code",
        "colab": {
          "base_uri": "https://localhost:8080/",
          "height": 246
        },
        "outputId": "0b8fd781-e9f7-4199-abaf-17f6a8388dd8"
      },
      "source": [
        "titanic_df['Age'].fillna(titanic_df['Age'].mean(),inplace=True)\n",
        "print(titanic_df.isnull().sum())"
      ],
      "execution_count": 14,
      "outputs": [
        {
          "output_type": "stream",
          "text": [
            "PassengerId      0\n",
            "Survived         0\n",
            "Pclass           0\n",
            "Name             0\n",
            "Sex              0\n",
            "Age              0\n",
            "SibSp            0\n",
            "Parch            0\n",
            "Ticket           0\n",
            "Fare             0\n",
            "Cabin          687\n",
            "Embarked         2\n",
            "dtype: int64\n"
          ],
          "name": "stdout"
        }
      ]
    },
    {
      "cell_type": "code",
      "metadata": {
        "id": "nW3GR-9aV7bH",
        "colab_type": "code",
        "colab": {
          "base_uri": "https://localhost:8080/",
          "height": 246
        },
        "outputId": "f96151ac-af0d-4674-d439-77b3c9b29605"
      },
      "source": [
        "titanic_df['Cabin'].fillna('N',inplace=True)\n",
        "print(titanic_df.isnull().sum())"
      ],
      "execution_count": 15,
      "outputs": [
        {
          "output_type": "stream",
          "text": [
            "PassengerId    0\n",
            "Survived       0\n",
            "Pclass         0\n",
            "Name           0\n",
            "Sex            0\n",
            "Age            0\n",
            "SibSp          0\n",
            "Parch          0\n",
            "Ticket         0\n",
            "Fare           0\n",
            "Cabin          0\n",
            "Embarked       2\n",
            "dtype: int64\n"
          ],
          "name": "stdout"
        }
      ]
    },
    {
      "cell_type": "code",
      "metadata": {
        "id": "aNHZCscAV7_O",
        "colab_type": "code",
        "colab": {
          "base_uri": "https://localhost:8080/",
          "height": 246
        },
        "outputId": "5fc7b5f0-aa43-4288-ae94-a0df9dc5d911"
      },
      "source": [
        "titanic_df['Embarked'].fillna('N',inplace=True)\n",
        "print(titanic_df.isnull().sum())"
      ],
      "execution_count": 16,
      "outputs": [
        {
          "output_type": "stream",
          "text": [
            "PassengerId    0\n",
            "Survived       0\n",
            "Pclass         0\n",
            "Name           0\n",
            "Sex            0\n",
            "Age            0\n",
            "SibSp          0\n",
            "Parch          0\n",
            "Ticket         0\n",
            "Fare           0\n",
            "Cabin          0\n",
            "Embarked       0\n",
            "dtype: int64\n"
          ],
          "name": "stdout"
        }
      ]
    },
    {
      "cell_type": "code",
      "metadata": {
        "id": "UMoQb-eKy79L",
        "colab_type": "code",
        "outputId": "1aedbceb-ae7a-443f-887f-237ee079466b",
        "colab": {
          "base_uri": "https://localhost:8080/",
          "height": 87
        }
      },
      "source": [
        "titanic_df.groupby('Sex')['Survived'].sum()"
      ],
      "execution_count": 17,
      "outputs": [
        {
          "output_type": "execute_result",
          "data": {
            "text/plain": [
              "Sex\n",
              "female    233\n",
              "male      109\n",
              "Name: Survived, dtype: int64"
            ]
          },
          "metadata": {
            "tags": []
          },
          "execution_count": 17
        }
      ]
    },
    {
      "cell_type": "code",
      "metadata": {
        "id": "iu9ycSDyy79N",
        "colab_type": "code",
        "outputId": "b2764569-6205-496d-940c-1d9d1b8432f8",
        "colab": {}
      },
      "source": [
        "titanic_df.groupby('Pclass')['Survived'].sum()"
      ],
      "execution_count": 0,
      "outputs": [
        {
          "output_type": "execute_result",
          "data": {
            "text/plain": [
              "Pclass\n",
              "1    136\n",
              "2     87\n",
              "3    119\n",
              "Name: Survived, dtype: int64"
            ]
          },
          "metadata": {
            "tags": []
          },
          "execution_count": 71
        }
      ]
    },
    {
      "cell_type": "code",
      "metadata": {
        "id": "NIcxkSCTy79Q",
        "colab_type": "code",
        "colab": {}
      },
      "source": [
        "def changeAge(n):\n",
        "    if n // 10 == 0:\n",
        "        return '유아'\n",
        "    elif n // 10 == 1:\n",
        "        return '10대'\n",
        "    elif n // 10 == 2:\n",
        "        return '20대'\n",
        "    elif n // 10 == 3:\n",
        "        return '30대'\n",
        "    elif n // 10 == 4:\n",
        "        return '40대'\n",
        "    elif n // 10 == 5:\n",
        "        return '50대'\n",
        "    elif n // 10 == 6:\n",
        "        return '60대'\n",
        "    else:\n",
        "        return '노인'"
      ],
      "execution_count": 0,
      "outputs": []
    },
    {
      "cell_type": "code",
      "metadata": {
        "id": "1cE--b7My79R",
        "colab_type": "code",
        "colab": {}
      },
      "source": [
        "titanic_df['Age_Range'] = titanic_df['Age'].apply(changeAge)"
      ],
      "execution_count": 0,
      "outputs": []
    },
    {
      "cell_type": "code",
      "metadata": {
        "id": "z8Jvwc9Ky79S",
        "colab_type": "code",
        "outputId": "5f89c38b-eace-49f2-cc95-dfb6e351eb2d",
        "colab": {}
      },
      "source": [
        "titanic_df.groupby('Age_Range')['Survived'].sum()"
      ],
      "execution_count": 0,
      "outputs": [
        {
          "output_type": "execute_result",
          "data": {
            "text/plain": [
              "Age_Range\n",
              "10대     41\n",
              "20대    129\n",
              "30대     73\n",
              "40대     34\n",
              "50대     20\n",
              "60대      6\n",
              "노인       1\n",
              "유아      38\n",
              "Name: Survived, dtype: int64"
            ]
          },
          "metadata": {
            "tags": []
          },
          "execution_count": 74
        }
      ]
    }
  ]
}